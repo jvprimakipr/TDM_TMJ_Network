{
 "cells": [
  {
   "cell_type": "code",
   "execution_count": 1,
   "id": "geographic-notion",
   "metadata": {},
   "outputs": [],
   "source": [
    "%run TDM/TDM1.py\n",
    "%run TDM/TDM2.py\n",
    "%run TDM/TDM3.py\n",
    "%run TDM/TDM4.py\n",
    "%run TDM/TDM5.py\n",
    "%run TDM/TDM6.py\n",
    "%run TDM/TDM7.py\n",
    "%run TDM/TDM8.py\n",
    "%run TDM/TDM9.py\n",
    "%run TDM/TDM10.py\n",
    "%run TDM/TDM11.py\n",
    "%run TDM/TDM12.py\n",
    "%run TDM/TDM13.py\n",
    "%run TDM/TDM14.py\n",
    "%run TDM/TDM15.py\n",
    "%run TDM/TDM16.py\n",
    "%run TDM/TDM17.py\n",
    "%run TDM/TDM18.py\n",
    "%run TDM/TDM19.py\n",
    "%run TDM/TDM20.py\n",
    "%run TDM/TDM21.py\n",
    "%run TDM/TDM22.py\n",
    "%run TDM/TDM23.py\n",
    "%run TDM/TDM24.py\n",
    "%run TDM/TDM25.py"
   ]
  },
  {
   "cell_type": "code",
   "execution_count": 2,
   "id": "nonprofit-computer",
   "metadata": {},
   "outputs": [],
   "source": [
    "comic_books = [pages1,\n",
    "               pages2,\n",
    "               pages3,\n",
    "               pages4,\n",
    "               pages5,\n",
    "               pages6,\n",
    "               pages7,\n",
    "               pages8,\n",
    "               pages9,\n",
    "               pages10,\n",
    "               pages11,\n",
    "               pages12,\n",
    "               pages13,\n",
    "               pages14,\n",
    "               pages15,\n",
    "               pages16,\n",
    "               pages17,\n",
    "               pages18,\n",
    "               pages19,\n",
    "               pages20,\n",
    "               pages21,\n",
    "               pages22,\n",
    "               pages23,\n",
    "               pages24,\n",
    "               pages25]"
   ]
  },
  {
   "cell_type": "code",
   "execution_count": 3,
   "id": "several-captain",
   "metadata": {},
   "outputs": [],
   "source": [
    "for i in range(len(comic_books)):\n",
    "    if comic_books[i] != []:\n",
    "        try:\n",
    "            cb = TM()\n",
    "            for page in comic_books[i]:\n",
    "                cb.insert(page)\n",
    "\n",
    "            cb.pack(f'Data\\comic book {i + 1}.csv')\n",
    "        except:\n",
    "            pass"
   ]
  },
  {
   "cell_type": "code",
   "execution_count": null,
   "id": "labeled-affiliation",
   "metadata": {},
   "outputs": [],
   "source": []
  }
 ],
 "metadata": {
  "kernelspec": {
   "display_name": "Python 3",
   "language": "python",
   "name": "python3"
  },
  "language_info": {
   "codemirror_mode": {
    "name": "ipython",
    "version": 3
   },
   "file_extension": ".py",
   "mimetype": "text/x-python",
   "name": "python",
   "nbconvert_exporter": "python",
   "pygments_lexer": "ipython3",
   "version": "3.8.5"
  }
 },
 "nbformat": 4,
 "nbformat_minor": 5
}
