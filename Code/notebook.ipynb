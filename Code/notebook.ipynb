{
 "cells": [
  {
   "cell_type": "code",
   "execution_count": 4,
   "metadata": {},
   "outputs": [],
   "source": [
    "import os\n",
    "import sys\n",
    "\n",
    "p = os.path.abspath('Functions')\n",
    "if p not in sys.path:\n",
    "    sys.path.append(p)\n",
    "from class_TM import TM\n",
    "from class_characters import characters"
   ]
  },
  {
   "cell_type": "code",
   "execution_count": 5,
   "metadata": {},
   "outputs": [],
   "source": [
    "import pandas as pd\n",
    "pd.set_option('display.max_rows', None)"
   ]
  },
  {
   "cell_type": "markdown",
   "metadata": {},
   "source": [
    "# Turma da Mônica Jovem"
   ]
  },
  {
   "cell_type": "code",
   "execution_count": 3,
   "metadata": {},
   "outputs": [],
   "source": [
    "c = characters('#tdm_39')"
   ]
  },
  {
   "cell_type": "code",
   "execution_count": 8,
   "metadata": {},
   "outputs": [],
   "source": [
    "pages = his1 + his2 + his3 + his4 + his5 + his6 + his7 + his8 + his9 + his10 + his11 + his12"
   ]
  },
  {
   "cell_type": "code",
   "execution_count": 4,
   "metadata": {},
   "outputs": [],
   "source": [
    "hq = TM()\n",
    "#hq.inserts(pages)\n",
    "\n",
    "hq.unpack(f'Data/{c.comic_book}.csv')"
   ]
  },
  {
   "cell_type": "code",
   "execution_count": 5,
   "metadata": {},
   "outputs": [
    {
     "data": {
      "text/plain": [
       "29"
      ]
     },
     "execution_count": 5,
     "metadata": {},
     "output_type": "execute_result"
    }
   ],
   "source": [
    "hq.n_characters"
   ]
  },
  {
   "cell_type": "code",
   "execution_count": 11,
   "metadata": {},
   "outputs": [],
   "source": [
    "%run TDM/TDM02.py"
   ]
  },
  {
   "cell_type": "code",
   "execution_count": 12,
   "metadata": {},
   "outputs": [
    {
     "data": {
      "text/plain": [
       "[['begin', 'Magali', 'Dud Van Winkle', '#tdm_21 Criança 1', 'end'],\n",
       " [],\n",
       " ['begin', 'Magali', 'Dudu'],\n",
       " ['Magali', 'Dudu'],\n",
       " ['Magali', 'Dudu'],\n",
       " ['Magali', 'Dudu', '#tdm_21 Criança 2'],\n",
       " [2,\n",
       "  ['Dud Van Winkle',\n",
       "   '#tdm_21 Figurante 1',\n",
       "   '#tdm_21 Figurante 2',\n",
       "   '#tdm_21 Animal 1',\n",
       "   '#tdm_21 Animal 2',\n",
       "   '#tdm_21 Animal 3',\n",
       "   '#tdm_21 Animal 4',\n",
       "   '#tdm_21 Animal 5'],\n",
       "  ['Magali', 'Dudu']],\n",
       " [2, ['Magali', 'Dudu'], ['Dud Van Winkle', '#tdm_21 Figurante 3']],\n",
       " ['Dud Van Winkle',\n",
       "  '#tdm_21 Animal 6',\n",
       "  '#tdm_21 Animal 7',\n",
       "  '#tdm_21 Animal 8',\n",
       "  '#tdm_21 Animal 9'],\n",
       " [2, ['Magali', 'Dudu'], ['Dud Van Winkle', '#tdm_21 Animal 10']],\n",
       " ['Dud Van Winkle'],\n",
       " [2,\n",
       "  ['Magali', 'Dudu'],\n",
       "  ['#tdm_21 Figurante 4', '#tdm_21 Figurante 5', '#tdm_21 Figurante 6']],\n",
       " [2,\n",
       "  ['#tdm_21 Figurante 5', '#tdm_21 Figurante 6'],\n",
       "  ['#tdm_21 Criança 3', '#tdm_21 Mãe 1']],\n",
       " ['Maurício de Souza', 'Dud Van Winkle', '#tdm_21 Figurante 7'],\n",
       " ['Maurício de Souza', 'Dud Van Winkle'],\n",
       " [2, ['Dud Van Winkle'], ['Magali', 'Dudu']],\n",
       " [2, ['Magali', 'Dudu'], ['Dudu', 'Penadinho']],\n",
       " [2,\n",
       "  ['Magali', 'Dudu', 'Maurício de Souza'],\n",
       "  ['Maurício de Souza', 'Dud Van Winkle'],\n",
       "  'end'],\n",
       " [],\n",
       " ['begin', 'Cascão'],\n",
       " ['Cascão', 'end'],\n",
       " ['begin', 'Mônica', 'Cebolinha', 'Magali', 'Sansão'],\n",
       " ['Mônica', 'Magali', 'Cascão', 'Sansão'],\n",
       " ['Mônica', 'Magali', 'Xaveco', 'Sansão', 'end'],\n",
       " ['begin', 'Monicão', 'Mingau'],\n",
       " ['Mônica',\n",
       "  'Magali',\n",
       "  'Sansão',\n",
       "  'Monicão',\n",
       "  'Floquinho',\n",
       "  'Mingau',\n",
       "  'Chovinista',\n",
       "  'Radar'],\n",
       " ['Franjinha',\n",
       "  'Monicão',\n",
       "  'Floquinho',\n",
       "  'Mingau',\n",
       "  'Chovinista',\n",
       "  'Bidu',\n",
       "  'Radar',\n",
       "  'end'],\n",
       " ['begin', 'Zé Vampir', 'Lobi'],\n",
       " ['Penadinho', 'Muminho', 'Zé Vampir', 'Frank', 'end'],\n",
       " ['begin', 'Mônica', 'Magali', 'Marina', '#tdm_21 Figurante 8', 'end'],\n",
       " [],\n",
       " ['begin', 'Mônica', 'Cebolinha', 'Cascão', 'Titi', 'Super Homão', 'end'],\n",
       " [],\n",
       " [],\n",
       " [],\n",
       " ['begin',\n",
       "  'Piteco',\n",
       "  '#tdm_21 Homem das Cavernas 1',\n",
       "  '#tdm_21 Homem das Cavernas 2'],\n",
       " ['Piteco', '#tdm_21 Homem das Cavernas 1', '#tdm_21 Homem das Cavernas 2'],\n",
       " ['Piteco', '#tdm_21 Homem das Cavernas 1', '#tdm_21 Homem das Cavernas 2'],\n",
       " ['Piteco', '#tdm_21 Animal 11', '#tdm_21 Dinossauro 1'],\n",
       " ['Piteco', 'Bolota', '#tdm_21 Homem das Cavernas 3', 'end'],\n",
       " [],\n",
       " ['begin', 'Dudu'],\n",
       " ['Dudu'],\n",
       " ['Dudu', 'Dona Cecília', 'end'],\n",
       " ['begin', 'Magali', 'Franjinha'],\n",
       " ['Magali', 'Franjinha'],\n",
       " ['Magali', 'Franjinha'],\n",
       " ['Franjinha'],\n",
       " ['Magali', 'Franjinha'],\n",
       " ['Magali', 'Franjinha'],\n",
       " ['Magali', 'Franjinha', 'end'],\n",
       " ['begin', 'Magali', 'Dona Lili'],\n",
       " ['Magali', 'Anjo da Guarda da Magali', 'end'],\n",
       " [],\n",
       " ['begin', 'Bidu', 'Dona Pedra'],\n",
       " ['Bidu', 'Dona Pedra', 'Manfredo'],\n",
       " ['Bidu',\n",
       "  'Manfredo',\n",
       "  '#tdm_21 Desenhista 1',\n",
       "  '#tdm_21 Desenhista 2',\n",
       "  '#tdm_21 Desenhista 3'],\n",
       " ['Bidu', 'Manfredo', 'Dona Pedra'],\n",
       " ['Bidu', 'Manfredo', 'Dona Pedra'],\n",
       " ['Bidu', 'Manfredo', 'Dona Pedra'],\n",
       " ['Bidu', 'Manfredo', 'Dona Pedra'],\n",
       " ['Bidu', 'Manfredo', 'Dona Pedra'],\n",
       " ['Bidu', 'Manfredo', 'Dona Pedra'],\n",
       " ['Bidu',\n",
       "  'Manfredo',\n",
       "  '#tdm_21 Desenhista 1',\n",
       "  '#tdm_21 Desenhista 2',\n",
       "  '#tdm_21 Desenhista 3'],\n",
       " [2,\n",
       "  ['Bidu',\n",
       "   'Manfredo',\n",
       "   '#tdm_21 Desenhista 1',\n",
       "   '#tdm_21 Desenhista 2',\n",
       "   '#tdm_21 Desenhista 3'],\n",
       "  ['Bidu', 'Dona Pedra'],\n",
       "  'end'],\n",
       " ['begin', 'Lobi', 'end'],\n",
       " [],\n",
       " []]"
      ]
     },
     "execution_count": 12,
     "metadata": {},
     "output_type": "execute_result"
    }
   ],
   "source": [
    "pages2"
   ]
  },
  {
   "cell_type": "code",
   "execution_count": null,
   "metadata": {},
   "outputs": [],
   "source": []
  }
 ],
 "metadata": {
  "kernelspec": {
   "display_name": "Python 3",
   "language": "python",
   "name": "python3"
  },
  "language_info": {
   "codemirror_mode": {
    "name": "ipython",
    "version": 3
   },
   "file_extension": ".py",
   "mimetype": "text/x-python",
   "name": "python",
   "nbconvert_exporter": "python",
   "pygments_lexer": "ipython3",
   "version": "3.8.5"
  }
 },
 "nbformat": 4,
 "nbformat_minor": 4
}
