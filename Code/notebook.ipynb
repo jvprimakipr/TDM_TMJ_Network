{
 "cells": [
  {
   "cell_type": "code",
   "execution_count": 10,
   "metadata": {},
   "outputs": [],
   "source": [
    "import os\n",
    "import sys\n",
    "\n",
    "p = os.path.abspath('Functions')\n",
    "if p not in sys.path:\n",
    "    sys.path.append(p)\n",
    "from class_TM import TM\n",
    "from class_characters import characters"
   ]
  },
  {
   "cell_type": "code",
   "execution_count": 11,
   "metadata": {},
   "outputs": [],
   "source": [
    "import pandas as pd\n",
    "pd.set_option('display.max_rows', None)"
   ]
  },
  {
   "cell_type": "markdown",
   "metadata": {},
   "source": [
    "# Turma da Mônica Jovem"
   ]
  },
  {
   "cell_type": "code",
   "execution_count": 3,
   "metadata": {},
   "outputs": [],
   "source": [
    "c = characters('#tdm_39')"
   ]
  },
  {
   "cell_type": "code",
   "execution_count": 8,
   "metadata": {},
   "outputs": [],
   "source": [
    "pages = his1 + his2 + his3 + his4 + his5 + his6 + his7 + his8 + his9 + his10 + his11 + his12"
   ]
  },
  {
   "cell_type": "code",
   "execution_count": 4,
   "metadata": {},
   "outputs": [],
   "source": [
    "hq = TM()\n",
    "hq.inserts(pages)\n",
    "\n",
    "hq.unpack(f'Data/{c.comic_book}.csv')"
   ]
  },
  {
   "cell_type": "code",
   "execution_count": 5,
   "metadata": {},
   "outputs": [
    {
     "data": {
      "text/plain": [
       "29"
      ]
     },
     "execution_count": 5,
     "metadata": {},
     "output_type": "execute_result"
    }
   ],
   "source": [
    "hq.n_characters"
   ]
  },
  {
   "cell_type": "code",
   "execution_count": 29,
   "metadata": {},
   "outputs": [],
   "source": [
    "%run TDM/TDM13.py"
   ]
  },
  {
   "cell_type": "code",
   "execution_count": 30,
   "metadata": {},
   "outputs": [
    {
     "data": {
      "text/plain": [
       "73"
      ]
     },
     "execution_count": 30,
     "metadata": {},
     "output_type": "execute_result"
    }
   ],
   "source": [
    "hq = TM()\n",
    "hq.inserts(pages13)\n",
    "hq.n_characters"
   ]
  },
  {
   "cell_type": "code",
   "execution_count": 31,
   "metadata": {},
   "outputs": [
    {
     "data": {
      "text/plain": [
       "['Dudu',\n",
       " 'Magali',\n",
       " '#tdm_32 Princesa',\n",
       " 'Dona Cecília',\n",
       " '#tdm_32 Atendente 1',\n",
       " '#tdm_32 Criança 1',\n",
       " '#tdm_32 Criança 2',\n",
       " '#tdm_32 Criança 3',\n",
       " '#tdm_32 Criança 4',\n",
       " '#tdm_32 Criança 5',\n",
       " '#tdm_32 Sombra 1',\n",
       " '#tdm_32 Sombra 2',\n",
       " '#tdm_32 Sombra 3',\n",
       " '#tdm_32 Sombra 4',\n",
       " '#tdm_32 Sombra 5',\n",
       " '#tdm_32 Sombra 6',\n",
       " '#tdm_32 Sombra 7',\n",
       " '#tdm_32 Sombra 8',\n",
       " '#tdm_32 Sombra 9',\n",
       " '#tdm_32 Sombra 10',\n",
       " '#tdm_32 Sombra 11',\n",
       " '#tdm_32 Sombra 12',\n",
       " '#tdm_32 Sombra 13',\n",
       " '#tdm_32 Sombra 14',\n",
       " '#tdm_32 Sombra 15',\n",
       " '#tdm_32 Sombra 16',\n",
       " '#tdm_32 Sombra 17',\n",
       " '#tdm_32 Sombra 18',\n",
       " '#tdm_32 Sombra 19',\n",
       " '#tdm_32 Criança 6',\n",
       " '#tdm_32 Figurante 1',\n",
       " '#tdm_32 Figurante 2',\n",
       " 'Chico Bento',\n",
       " 'Rosinha',\n",
       " 'Alminha',\n",
       " 'Penadinho',\n",
       " '#tdm_32 Figurante 3',\n",
       " '#tdm_32 Figurante 4',\n",
       " '#tdm_32 Figurante 5',\n",
       " 'Alma amante do Penadinho',\n",
       " 'Piteco',\n",
       " '#tdm_32 Dinossauro 1',\n",
       " '#tdm_32 Dinossauro 2',\n",
       " 'Mônica',\n",
       " 'Cascão',\n",
       " '#tdm_32 Alien 1',\n",
       " 'Maria Cebolinha',\n",
       " '#tdm_32 Figurante 6',\n",
       " 'Floquinho',\n",
       " 'Dona Cebola',\n",
       " 'Seu Cebola',\n",
       " 'Monicão',\n",
       " 'Bidu',\n",
       " 'Zé Lelé',\n",
       " 'Zé da Roça',\n",
       " 'Dona Marocas',\n",
       " 'Torresmo',\n",
       " '#tdm_32 Animal 1',\n",
       " 'Dona Cotinha',\n",
       " '#tdm_32 Criança 7',\n",
       " '#tdm_32 Criança 8',\n",
       " '#tdm_32 Criança 9',\n",
       " 'Papa-Capim',\n",
       " 'Cafuné',\n",
       " 'Jurema',\n",
       " '#tdm_32 Figurante 7',\n",
       " 'Cebolinha',\n",
       " 'Sansão',\n",
       " 'Chovinista',\n",
       " '#tdm_32 Figurante 8',\n",
       " '#tdm_32 Figurante 9',\n",
       " '#tdm_32 Animal 2',\n",
       " '#tdm_32 Figurante 10']"
      ]
     },
     "execution_count": 31,
     "metadata": {},
     "output_type": "execute_result"
    }
   ],
   "source": [
    "hq.characters"
   ]
  },
  {
   "cell_type": "code",
   "execution_count": null,
   "metadata": {},
   "outputs": [],
   "source": []
  },
  {
   "cell_type": "code",
   "execution_count": null,
   "metadata": {},
   "outputs": [],
   "source": []
  }
 ],
 "metadata": {
  "kernelspec": {
   "display_name": "Python 3",
   "language": "python",
   "name": "python3"
  },
  "language_info": {
   "codemirror_mode": {
    "name": "ipython",
    "version": 3
   },
   "file_extension": ".py",
   "mimetype": "text/x-python",
   "name": "python",
   "nbconvert_exporter": "python",
   "pygments_lexer": "ipython3",
   "version": "3.8.5"
  }
 },
 "nbformat": 4,
 "nbformat_minor": 4
}
