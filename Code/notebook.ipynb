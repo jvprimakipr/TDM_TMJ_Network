{
 "cells": [
  {
   "cell_type": "code",
   "execution_count": 6,
   "metadata": {},
   "outputs": [],
   "source": [
    "import os\n",
    "import sys\n",
    "\n",
    "p = os.path.abspath('Functions')\n",
    "if p not in sys.path:\n",
    "    sys.path.append(p)\n",
    "from class_TM import TM\n",
    "from class_characters import characters"
   ]
  },
  {
   "cell_type": "code",
   "execution_count": 7,
   "metadata": {},
   "outputs": [],
   "source": [
    "import pandas as pd\n",
    "pd.set_option('display.max_rows', None)"
   ]
  },
  {
   "cell_type": "markdown",
   "metadata": {},
   "source": [
    "# Turma da Mônica Jovem"
   ]
  },
  {
   "cell_type": "code",
   "execution_count": 2,
   "metadata": {},
   "outputs": [],
   "source": [
    "c = characters('#tdm_39')"
   ]
  },
  {
   "cell_type": "code",
   "execution_count": 8,
   "metadata": {},
   "outputs": [],
   "source": [
    "pages = his1 + his2 + his3 + his4 + his5 + his6 + his7 + his8 + his9 + his10 + his11 + his12"
   ]
  },
  {
   "cell_type": "code",
   "execution_count": 4,
   "metadata": {},
   "outputs": [],
   "source": [
    "hq = TM()pages = his1 + his2 + his3 + his4 + his5 + his6 + his7 + his8 + his9 + his10 + his11 + his12\n",
    "#hq.inserts(pages)\n",
    "\n",
    "hq.unpack(f'Data/{c.comic_book}.csv')"
   ]
  },
  {
   "cell_type": "code",
   "execution_count": 5,
   "metadata": {},
   "outputs": [
    {
     "data": {
      "text/plain": [
       "29"
      ]
     },
     "execution_count": 5,
     "metadata": {},
     "output_type": "execute_result"
    }
   ],
   "source": [
    "hq.n_characters"
   ]
  },
  {
   "cell_type": "code",
   "execution_count": 9,
   "metadata": {},
   "outputs": [],
   "source": [
    "%run TDM/TDM03.py"
   ]
  },
  {
   "cell_type": "code",
   "execution_count": 10,
   "metadata": {},
   "outputs": [
    {
     "data": {
      "text/plain": [
       "[['begin', 'Mônica', 'Cebolinha', 'Cascão', 'Seu Cebola', 'end'],\n",
       " [],\n",
       " ['Cebolinha', 'Seu Cebola'],\n",
       " ['begin',\n",
       "  'Cebolinha',\n",
       "  'Seu Cebola',\n",
       "  '#tdm_22 Atendente 1',\n",
       "  '#tdm_22 Atendente 2',\n",
       "  '#tdm_22 Criança 1',\n",
       "  '#tdm_22 Criança 2',\n",
       "  '#tdm_22 Criança 3',\n",
       "  '#tdm_22 Criança 4'],\n",
       " ['Cebolinha',\n",
       "  'Seu Cebola',\n",
       "  '#tdm_22 Pai 1',\n",
       "  '#tdm_22 Criança 5',\n",
       "  '#tdm_22 Criança 6',\n",
       "  '#tdm_22 Criança 7'],\n",
       " [2,\n",
       "  ['Cebolinha', 'Seu Cebola', '#tdm_22 Criança 8'],\n",
       "  ['Cebolinha',\n",
       "   'Seu Cebola',\n",
       "   '#tdm_22 Atendente 3',\n",
       "   '#tdm_22 Mãe 1',\n",
       "   '#tdm_22 Criança 9',\n",
       "   '#tdm_22 Criança 10']],\n",
       " ['Cebolinha', 'Seu Cebola', '#tdm_22 Criança 11', '#tdm_22 Criança 12'],\n",
       " ['Cebolinha', 'Seu Cebola', '#tdm_22 Criança 12'],\n",
       " ['Cebolinha', 'Seu Cebola', '#tdm_22 Criança 12'],\n",
       " ['Cebolinha', 'Seu Cebola', '#tdm_22 Atendente 4'],\n",
       " ['Cebolinha', 'Seu Cebola', '#tdm_22 Criança 13'],\n",
       " ['Cebolinha', 'Seu Cebola', '#tdm_22 Criança 14', '#tdm_22 Criança 15'],\n",
       " ['Cebolinha', 'Seu Cebola', '#tdm_22 Criança 14', '#tdm_22 Criança 15'],\n",
       " [2,\n",
       "  ['Cebolinha', 'Seu Cebola', '#tdm_22 Criança 16', '#tdm_22 Criança 17'],\n",
       "  ['Cebolinha',\n",
       "   'Seu Cebola',\n",
       "   '#tdm_22 Criança 18',\n",
       "   '#tdm_22 Criança 19',\n",
       "   '#tdm_22 Criança 20']],\n",
       " [2,\n",
       "  ['Cebolinha', 'Seu Cebola', '#tdm_22 Criança 21'],\n",
       "  ['Cebolinha', 'Seu Cebola', '#tdm_22 Criança 22', '#tdm_22 Criança 23']],\n",
       " [2,\n",
       "  ['Cebolinha', 'Seu Cebola'],\n",
       "  ['Seu Cebola', '#tdm_22 Mãe 2', '#tdm_22 Pai 2', '#tdm_22 Criança 24']],\n",
       " [2,\n",
       "  ['Seu Cebola', '#tdm_22 Pai 3', '#tdm_22 Criança 25'],\n",
       "  ['Cebolinha', 'Seu Cebola']],\n",
       " [2,\n",
       "  ['Cebolinha',\n",
       "   'Dona Cebola',\n",
       "   'Seu Cebola',\n",
       "   '#tdm_22 Jogador 1',\n",
       "   '#tdm_22 Jogador 2',\n",
       "   '#tdm_22 Jogador 3',\n",
       "   '#tdm_22 Jogador 4',\n",
       "   '#tdm_22 Jogador 5'],\n",
       "  ['Seu Cebola', '#tdm_22 Pai 4', '#tdm_22 Criança 26']],\n",
       " ['Cebolinha', 'Seu Cebola'],\n",
       " ['Cebolinha',\n",
       "  'Seu Cebola',\n",
       "  '#tdm_22 Caramujo 1',\n",
       "  '#tdm_22 Caramujo 2',\n",
       "  'end'],\n",
       " [],\n",
       " ['begin', 'Mônica', 'Magali', 'Sansão'],\n",
       " ['Cebolinha', 'Magali', 'Cascão', 'Xaveco', '#tdm_22 Sorveteiro 1', 'end'],\n",
       " ['begin',\n",
       "  'Cascão',\n",
       "  '#tdm_22 Criança 27',\n",
       "  '#tdm_22 Figurante 1',\n",
       "  '#tdm_22 Figurante 2'],\n",
       " [2,\n",
       "  ['Cascão', '#tdm_22 Figurante 3', '#tdm_22 Figurante 4'],\n",
       "  ['Cascão', '#tdm_22 Figurante 5', '#tdm_22 Figurante 6']],\n",
       " [2, ['Cascão', '#tdm_22 Atendente 5'], ['Cascão', 'Dona Lurdinha']],\n",
       " [],\n",
       " ['begin', 'Piteco', 'Vartolo', '#tdm_22 Dinossauro 1'],\n",
       " ['Piteco', 'Bolota', 'Vartolo'],\n",
       " ['Piteco', 'Bolota', 'Vartolo'],\n",
       " ['Piteco', 'Vartolo', '#tdm_22 Homem-Tigre 1'],\n",
       " [2,\n",
       "  ['Piteco', 'Vartolo', '#tdm_22 Homem-Tigre 1'],\n",
       "  ['Piteco', 'Bolota', 'Vartolo', '#tdm_22 Homem das Cavernas 1']],\n",
       " ['Piteco',\n",
       "  'Bolota',\n",
       "  'Vartolo',\n",
       "  '#tdm_22 Homem-Tigre 1',\n",
       "  '#tdm_22 Homem-Tigre 2',\n",
       "  '#tdm_22 Homem-Tigre 3'],\n",
       " ['Piteco',\n",
       "  'Bolota',\n",
       "  'Vartolo',\n",
       "  '#tdm_22 Homem das Cavernas 2',\n",
       "  '#tdm_22 Homem das Cavernas 3',\n",
       "  '#tdm_22 Homem das Cavernas 4',\n",
       "  '#tdm_22 Homem das Cavernas 5',\n",
       "  '#tdm_22 Homem das Cavernas 6'],\n",
       " [2,\n",
       "  ['#tdm_22 Homem-Tigre 1', '#tdm_22 Homem-Tigre 3'],\n",
       "  ['Piteco',\n",
       "   'Bolota',\n",
       "   'Vartolo',\n",
       "   '#tdm_22 Homem das Cavernas 7',\n",
       "   '#tdm_22 Homem das Cavernas 8',\n",
       "   '#tdm_22 Homem das Cavernas 9',\n",
       "   '#tdm_22 Homem-Tigre 1',\n",
       "   '#tdm_22 Homem-Tigre 2',\n",
       "   '#tdm_22 Homem-Tigre 3',\n",
       "   '#tdm_22 Homem-Tigre 4',\n",
       "   '#tdm_22 Homem-Tigre 5'],\n",
       "  'end'],\n",
       " ['begin', 'Zé Vampir', '#tdm_22 Criança 28', 'end'],\n",
       " [],\n",
       " [],\n",
       " [],\n",
       " ['begin',\n",
       "  'Penadinho',\n",
       "  '#tdm_22 Figurante 7',\n",
       "  '#tdm_22 Figurante 8',\n",
       "  '#tdm_22 Figurante 9'],\n",
       " ['Penadinho'],\n",
       " ['Penadinho', 'Frank'],\n",
       " ['Penadinho', 'Muminho', 'Zé Vampir', 'Frank', 'Zé Caveirinha'],\n",
       " ['Penadinho',\n",
       "  'Alminha',\n",
       "  'Muminho',\n",
       "  'Zé Vampir',\n",
       "  'Frank',\n",
       "  'Zé Caveirinha',\n",
       "  'Lobi',\n",
       "  'Dona Morte',\n",
       "  '#tdm_22 Fantasma 1',\n",
       "  '#tdm_22 Fantasma 2',\n",
       "  'end'],\n",
       " [],\n",
       " ['begin', 'Mônica', 'Cebolinha', 'Cascão', 'Sansão'],\n",
       " ['Mônica', 'Cebolinha', 'Cascão', 'Sansão', 'end'],\n",
       " ['begin', 'Papa-Capim', 'Caiapopó'],\n",
       " ['Papa-Capim', 'Caiapopó', 'Onça'],\n",
       " ['Papa-Capim', 'Caiapopó', 'Onça'],\n",
       " ['Papa-Capim', 'Caiapopó', 'Onça', 'end'],\n",
       " ['begin', 'Zé Lelé'],\n",
       " ['Zé Lelé', 'end'],\n",
       " [2, ['Cebolinha', 'Sansão'], ['Mônica', 'Cebolinha', 'Sansão'], 'begin'],\n",
       " ['Mônica', 'Cebolinha', 'Sansão', 'end'],\n",
       " [],\n",
       " ['begin', 'Humberto'],\n",
       " ['Humberto'],\n",
       " ['Humberto'],\n",
       " ['Humberto'],\n",
       " ['Humberto'],\n",
       " [2,\n",
       "  ['Humberto',\n",
       "   ['#tdm_22 Figurante 10',\n",
       "    '#tdm_22 Figurante 11',\n",
       "    '#tdm_22 Figurante 12',\n",
       "    '#tdm_22 Figurante 13',\n",
       "    '#tdm_22 Figurante 14',\n",
       "    '#tdm_22 Figurante 15',\n",
       "    '#tdm_22 Figurante 16',\n",
       "    '#tdm_22 Figurante 17',\n",
       "    '#tdm_22 Figurante 18',\n",
       "    '#tdm_22 Figurante 19']],\n",
       "  ['Humberto', '#tdm_22 Figurante 20']],\n",
       " ['Humberto'],\n",
       " ['Humberto', '#tdm_22 Tritão 1'],\n",
       " [2,\n",
       "  ['Humberto', '#tdm_22 Pai 5', '#tdm_22 Criança 29', '#tdm_22 Tritão 1'],\n",
       "  ['#tdm_22 Tritão 1', '#tdm_22 Tritão 2', '#tdm_22 Tritão 3'],\n",
       "  'end'],\n",
       " ['begin', 'Penadinho', 'Alminha', 'Zé Vampir', 'end'],\n",
       " [],\n",
       " []]"
      ]
     },
     "execution_count": 10,
     "metadata": {},
     "output_type": "execute_result"
    }
   ],
   "source": [
    "pages3"
   ]
  },
  {
   "cell_type": "code",
   "execution_count": null,
   "metadata": {},
   "outputs": [],
   "source": []
  }
 ],
 "metadata": {
  "kernelspec": {
   "display_name": "Python 3",
   "language": "python",
   "name": "python3"
  },
  "language_info": {
   "codemirror_mode": {
    "name": "ipython",
    "version": 3
   },
   "file_extension": ".py",
   "mimetype": "text/x-python",
   "name": "python",
   "nbconvert_exporter": "python",
   "pygments_lexer": "ipython3",
   "version": "3.8.5"
  }
 },
 "nbformat": 4,
 "nbformat_minor": 4
}
