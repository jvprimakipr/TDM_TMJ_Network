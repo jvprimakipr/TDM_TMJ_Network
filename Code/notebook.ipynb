{
 "cells": [
  {
   "cell_type": "code",
   "execution_count": 1,
   "metadata": {},
   "outputs": [],
   "source": [
    "import os\n",
    "import sys\n",
    "\n",
    "p = os.path.abspath('Functions')\n",
    "if p not in sys.path:\n",
    "    sys.path.append(p)\n",
    "from class_TM import TM\n",
    "from class_characters import characters"
   ]
  },
  {
   "cell_type": "code",
   "execution_count": 2,
   "metadata": {},
   "outputs": [],
   "source": [
    "import pandas as pd\n",
    "pd.set_option('display.max_rows', None)"
   ]
  },
  {
   "cell_type": "markdown",
   "metadata": {},
   "source": [
    "# Turma da Mônica Jovem"
   ]
  },
  {
   "cell_type": "code",
   "execution_count": 3,
   "metadata": {},
   "outputs": [],
   "source": [
    "c = characters('#tdm_39')"
   ]
  },
  {
   "cell_type": "code",
   "execution_count": 8,
   "metadata": {},
   "outputs": [],
   "source": [
    "pages = his1 + his2 + his3 + his4 + his5 + his6 + his7 + his8 + his9 + his10 + his11 + his12"
   ]
  },
  {
   "cell_type": "code",
   "execution_count": 4,
   "metadata": {},
   "outputs": [],
   "source": [
    "hq = TM()\n",
    "hq.inserts(pages)\n",
    "\n",
    "hq.unpack(f'Data/{c.comic_book}.csv')"
   ]
  },
  {
   "cell_type": "code",
   "execution_count": 5,
   "metadata": {},
   "outputs": [
    {
     "data": {
      "text/plain": [
       "29"
      ]
     },
     "execution_count": 5,
     "metadata": {},
     "output_type": "execute_result"
    }
   ],
   "source": [
    "hq.n_characters"
   ]
  },
  {
   "cell_type": "code",
   "execution_count": 31,
   "metadata": {},
   "outputs": [],
   "source": [
    "%run TDM/TDM07.py"
   ]
  },
  {
   "cell_type": "code",
   "execution_count": 32,
   "metadata": {},
   "outputs": [],
   "source": [
    "hq = TM()\n",
    "hq.inserts(pages7)"
   ]
  },
  {
   "cell_type": "code",
   "execution_count": 33,
   "metadata": {},
   "outputs": [
    {
     "data": {
      "text/plain": [
       "123"
      ]
     },
     "execution_count": 33,
     "metadata": {},
     "output_type": "execute_result"
    }
   ],
   "source": [
    "hq.n_characters"
   ]
  },
  {
   "cell_type": "code",
   "execution_count": 34,
   "metadata": {},
   "outputs": [
    {
     "data": {
      "text/plain": [
       "['Mônica',\n",
       " 'Marina',\n",
       " 'Cebolinha',\n",
       " 'Cascão',\n",
       " 'Xaveco',\n",
       " 'Nimbus',\n",
       " 'Do Contra',\n",
       " 'Humberto',\n",
       " 'Jeremias',\n",
       " 'Denise',\n",
       " 'Carminha Frufru',\n",
       " 'Magali',\n",
       " '#tdm_26 Sombra 1',\n",
       " '#tdm_26 Sombra 2',\n",
       " '#tdm_26 Sombra 3',\n",
       " '#tdm_26 Sombra 4',\n",
       " '#tdm_26 Sombra 5',\n",
       " '#tdm_26 Sombra 6',\n",
       " '#tdm_26 Sombra 7',\n",
       " '#tdm_26 Sombra 8',\n",
       " '#tdm_26 Criança 1',\n",
       " '#tdm_26 Criança 2',\n",
       " '#tdm_26 Criança 3',\n",
       " '#tdm_26 Sombra 9',\n",
       " '#tdm_26 Sombra 10',\n",
       " '#tdm_26 Sombra 11',\n",
       " '#tdm_26 Criança 4',\n",
       " '#tdm_26 Criança 5',\n",
       " '#tdm_26 Criança 6',\n",
       " '#tdm_26 Criança 7',\n",
       " '#tdm_26 Criança 8',\n",
       " '#tdm_26 Criança 9',\n",
       " '#tdm_26 Sombra 12',\n",
       " '#tdm_26 Sombra 13',\n",
       " '#tdm_26 Criança 10',\n",
       " '#tdm_26 Criança 11',\n",
       " '#tdm_26 Criança 12',\n",
       " '#tdm_26 Criança 13',\n",
       " '#tdm_26 Criança 14',\n",
       " '#tdm_26 Criança 15',\n",
       " 'Maurício de Souza',\n",
       " '#tdm_26 Criança 16',\n",
       " '#tdm_26 Criança 17',\n",
       " '#tdm_26 Criança 18',\n",
       " '#tdm_26 Criança 19',\n",
       " '#tdm_26 Criança 20',\n",
       " '#tdm_26 Criança 21',\n",
       " '#tdm_26 Criança 22',\n",
       " '#tdm_26 Criança 23',\n",
       " '#tdm_26 Criança 24',\n",
       " '#tdm_26 Criança 25',\n",
       " '#tdm_26 Criança 26',\n",
       " '#tdm_26 Criança 27',\n",
       " '#tdm_26 Criança 28',\n",
       " '#tdm_26 Criança 29',\n",
       " '#tdm_26 Criança 30',\n",
       " '#tdm_26 Criança 31',\n",
       " '#tdm_26 Sombra 14',\n",
       " '#tdm_26 Sombra 15',\n",
       " '#tdm_26 Sombra 16',\n",
       " '#tdm_26 Sombra 17',\n",
       " '#tdm_26 Sombra 18',\n",
       " '#tdm_26 Sombra 19',\n",
       " '#tdm_26 Sombra 20',\n",
       " '#tdm_26 Sombra 21',\n",
       " 'Alice',\n",
       " 'Sansão',\n",
       " 'Dona Lili',\n",
       " 'Dona Lurdinha',\n",
       " 'Zé Luís',\n",
       " 'Pajé',\n",
       " 'Cacique',\n",
       " '#tdm_26 Índia',\n",
       " '#tdm_26 Índio',\n",
       " 'Papa-Capim',\n",
       " 'Dudu',\n",
       " 'Professor Spada / Doutor Spam',\n",
       " 'Anjinho',\n",
       " '#tdm_26 Anjo 1',\n",
       " '#tdm_26 Anjo 2',\n",
       " '#tdm_26 Anjo 3',\n",
       " '#tdm_26 Figurante 1',\n",
       " '#tdm_26 Figurante 2',\n",
       " '#tdm_26 Sombra 22',\n",
       " '#tdm_26 Sombra 23',\n",
       " '#tdm_26 Sombra 24',\n",
       " '#tdm_26 Figurante 3',\n",
       " '#tdm_26 Figurante 4',\n",
       " '#tdm_26 Figurante 5',\n",
       " '#tdm_26 Sombra 25',\n",
       " '#tdm_26 Sombra 26',\n",
       " '#tdm_26 Sombra 27',\n",
       " '#tdm_26 Sombra 28',\n",
       " '#tdm_26 Figurante 6',\n",
       " '#tdm_26 Figurante 7',\n",
       " '#tdm_26 Figurante 8',\n",
       " '#tdm_26 Figurante 9',\n",
       " '#tdm_26 Figurante 10',\n",
       " 'Penadinho',\n",
       " 'Fantasma do Sultão',\n",
       " '#tdm_26 Animal 1',\n",
       " '#tdm_26 Animal 2',\n",
       " 'Luca',\n",
       " '#tdm_26 Alien 1',\n",
       " '#tdm_26 Alien 2',\n",
       " '#tdm_26 Alien 3',\n",
       " '#tdm_26 Alien 4',\n",
       " '#tdm_26 Alien 5',\n",
       " '#tdm_26 Alien 6',\n",
       " 'Astronauta',\n",
       " '#tdm_26 Alien 7',\n",
       " 'Computador do Astronauta',\n",
       " '#tdm_26 Alien 8',\n",
       " '#tdm_26 Alien 9',\n",
       " '#tdm_26 Alien 10',\n",
       " '#tdm_26 Alien 11',\n",
       " '#tdm_26 Figurante 11',\n",
       " '#tdm_26 Figurante 12',\n",
       " 'Natalina',\n",
       " 'Dona Luísa',\n",
       " 'Dona Cebola',\n",
       " 'Seu Cebola',\n",
       " 'Louco']"
      ]
     },
     "execution_count": 34,
     "metadata": {},
     "output_type": "execute_result"
    }
   ],
   "source": [
    "hq.characters"
   ]
  },
  {
   "cell_type": "code",
   "execution_count": null,
   "metadata": {},
   "outputs": [],
   "source": []
  }
 ],
 "metadata": {
  "kernelspec": {
   "display_name": "Python 3",
   "language": "python",
   "name": "python3"
  },
  "language_info": {
   "codemirror_mode": {
    "name": "ipython",
    "version": 3
   },
   "file_extension": ".py",
   "mimetype": "text/x-python",
   "name": "python",
   "nbconvert_exporter": "python",
   "pygments_lexer": "ipython3",
   "version": "3.8.5"
  }
 },
 "nbformat": 4,
 "nbformat_minor": 4
}
