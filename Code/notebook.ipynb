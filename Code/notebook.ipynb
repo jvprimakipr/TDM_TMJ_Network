{
 "cells": [
  {
   "cell_type": "code",
   "execution_count": 4,
   "metadata": {},
   "outputs": [],
   "source": [
    "import os\n",
    "import sys\n",
    "\n",
    "p = os.path.abspath('Functions')\n",
    "if p not in sys.path:\n",
    "    sys.path.append(p)\n",
    "from class_TM import TM\n",
    "from class_characters import characters"
   ]
  },
  {
   "cell_type": "code",
   "execution_count": 5,
   "metadata": {},
   "outputs": [],
   "source": [
    "import pandas as pd\n",
    "pd.set_option('display.max_rows', None)"
   ]
  },
  {
   "cell_type": "markdown",
   "metadata": {},
   "source": [
    "# Turma da Mônica Jovem"
   ]
  },
  {
   "cell_type": "code",
   "execution_count": 3,
   "metadata": {},
   "outputs": [],
   "source": [
    "c = characters('#tdm_39')"
   ]
  },
  {
   "cell_type": "code",
   "execution_count": 8,
   "metadata": {},
   "outputs": [],
   "source": [
    "pages = his1 + his2 + his3 + his4 + his5 + his6 + his7 + his8 + his9 + his10 + his11 + his12"
   ]
  },
  {
   "cell_type": "code",
   "execution_count": 4,
   "metadata": {},
   "outputs": [],
   "source": [
    "hq = TM()\n",
    "hq.inserts(pages)\n",
    "\n",
    "hq.unpack(f'Data/{c.comic_book}.csv')"
   ]
  },
  {
   "cell_type": "code",
   "execution_count": 5,
   "metadata": {},
   "outputs": [
    {
     "data": {
      "text/plain": [
       "29"
      ]
     },
     "execution_count": 5,
     "metadata": {},
     "output_type": "execute_result"
    }
   ],
   "source": [
    "hq.n_characters"
   ]
  },
  {
   "cell_type": "code",
   "execution_count": 6,
   "metadata": {},
   "outputs": [],
   "source": [
    "%run TDM/TDM16.py"
   ]
  },
  {
   "cell_type": "code",
   "execution_count": 8,
   "metadata": {},
   "outputs": [
    {
     "data": {
      "text/plain": [
       "94"
      ]
     },
     "execution_count": 8,
     "metadata": {},
     "output_type": "execute_result"
    }
   ],
   "source": [
    "hq = TM()\n",
    "hq.inserts(pages16)\n",
    "hq.n_characters"
   ]
  },
  {
   "cell_type": "code",
   "execution_count": 9,
   "metadata": {},
   "outputs": [
    {
     "data": {
      "text/plain": [
       "['Chico Bento',\n",
       " '#tdm_35 Criança 1',\n",
       " 'Espírito do Milharal',\n",
       " '#tdm_35 Animal 1',\n",
       " '#tdm_35 Animal 2',\n",
       " '#tdm_35 Animal 3',\n",
       " '#tdm_35 Animal 4',\n",
       " '#tdm_35 Animal 5',\n",
       " '#tdm_35 Animal 6',\n",
       " '#tdm_35 Animal 7',\n",
       " 'Nhô Lau',\n",
       " '#tdm_35 Animal 8',\n",
       " '#tdm_35 Animal 9',\n",
       " '#tdm_35 Sombra 1',\n",
       " '#tdm_35 Sombra 2',\n",
       " '#tdm_35 Sombra 3',\n",
       " '#tdm_35 Pai 1',\n",
       " '#tdm_35 Mãe 1',\n",
       " '#tdm_35 Mãe 2',\n",
       " '#tdm_35 Atendente 1',\n",
       " '#tdm_35 Criança 2',\n",
       " '#tdm_35 Criança 3',\n",
       " '#tdm_35 Criança 4',\n",
       " '#tdm_35 Sombra 4',\n",
       " '#tdm_35 Sombra 5',\n",
       " '#tdm_35 Sombra 6',\n",
       " '#tdm_35 Sombra 7',\n",
       " '#tdm_35 Sombra 8',\n",
       " '#tdm_35 Sombra 9',\n",
       " '#tdm_35 Sombra 10',\n",
       " '#tdm_35 Sombra 11',\n",
       " '#tdm_35 Sombra 12',\n",
       " '#tdm_35 Sombra 13',\n",
       " '#tdm_35 Sombra 14',\n",
       " '#tdm_35 Sombra 15',\n",
       " '#tdm_35 Sombra 16',\n",
       " '#tdm_35 Sombra 17',\n",
       " '#tdm_35 Atendente 2',\n",
       " '#tdm_35 Criança 5',\n",
       " '#tdm_35 Criança 6',\n",
       " '#tdm_35 Criança 7',\n",
       " '#tdm_35 Criança 8',\n",
       " '#tdm_35 Criança 9',\n",
       " '#tdm_35 Figurante 1',\n",
       " '#tdm_35 Figurante 2',\n",
       " 'Bidu',\n",
       " 'Duque',\n",
       " 'Zé Gordão',\n",
       " '#tdm_35 Animal 10',\n",
       " 'Dorinha',\n",
       " 'Mãe da Dorinha',\n",
       " 'Magali',\n",
       " 'Dona Lili',\n",
       " 'Cascão',\n",
       " 'Mingau',\n",
       " 'Papa-Capim',\n",
       " 'Cafuné',\n",
       " '#tdm_35 Figurante 3',\n",
       " 'Jurema',\n",
       " '#tdm_35 Indiazinha 1',\n",
       " '#tdm_35 Índio',\n",
       " '#tdm_35 Índia',\n",
       " '#tdm_35 Figurante 4',\n",
       " '#tdm_35 Indiazinha 2',\n",
       " '#tdm_35 Indiazinha 3',\n",
       " 'Cebolinha',\n",
       " 'Do Contra',\n",
       " 'Frank',\n",
       " '#tdm_35 Figurante 5',\n",
       " '#tdm_35 Figurante 6',\n",
       " '#tdm_35 Animal 11',\n",
       " '#tdm_35 Animal 12',\n",
       " '#tdm_35 Figurante 7',\n",
       " 'Penadinho',\n",
       " '#tdm_35 Figurante 8',\n",
       " 'Zé Vampir',\n",
       " 'Lobi',\n",
       " '#tdm_35 Figurante 9',\n",
       " '#tdm_35 Figurante 10',\n",
       " '#tdm_35 Figurante 11',\n",
       " 'Cranicóla',\n",
       " 'Zé Caveirinha',\n",
       " 'Muminho',\n",
       " '#tdm_35 Figurante 12',\n",
       " '#tdm_35 Figurante 13',\n",
       " '#tdm_35 Figurante 14',\n",
       " '#tdm_35 Figurante 15',\n",
       " '#tdm_35 Figurante 16',\n",
       " '#tdm_35 Figurante 17',\n",
       " '#tdm_35 Figurante 18',\n",
       " '#tdm_35 Animal 13',\n",
       " '#tdm_35 Figurante 19',\n",
       " '#tdm_35 Figurante 20',\n",
       " '#tdm_35 Fantasminha']"
      ]
     },
     "execution_count": 9,
     "metadata": {},
     "output_type": "execute_result"
    }
   ],
   "source": [
    "hq.characters"
   ]
  },
  {
   "cell_type": "code",
   "execution_count": null,
   "metadata": {},
   "outputs": [],
   "source": []
  },
  {
   "cell_type": "code",
   "execution_count": null,
   "metadata": {},
   "outputs": [],
   "source": []
  }
 ],
 "metadata": {
  "kernelspec": {
   "display_name": "Python 3",
   "language": "python",
   "name": "python3"
  },
  "language_info": {
   "codemirror_mode": {
    "name": "ipython",
    "version": 3
   },
   "file_extension": ".py",
   "mimetype": "text/x-python",
   "name": "python",
   "nbconvert_exporter": "python",
   "pygments_lexer": "ipython3",
   "version": "3.8.5"
  }
 },
 "nbformat": 4,
 "nbformat_minor": 4
}
