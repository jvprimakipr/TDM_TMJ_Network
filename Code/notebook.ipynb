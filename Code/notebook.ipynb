{
 "cells": [
  {
   "cell_type": "code",
   "execution_count": 3,
   "metadata": {},
   "outputs": [],
   "source": [
    "import os\n",
    "import sys\n",
    "\n",
    "p = os.path.abspath('..\\Functions')\n",
    "if p not in sys.path:\n",
    "    sys.path.append(p)\n",
    "from class_TM import TM\n",
    "from class_characters import characters"
   ]
  },
  {
   "cell_type": "markdown",
   "metadata": {},
   "source": [
    "# Turma da Mônica Jovem"
   ]
  },
  {
   "cell_type": "code",
   "execution_count": 6,
   "metadata": {},
   "outputs": [],
   "source": [
    "c = characters('#tdm_39')"
   ]
  },
  {
   "cell_type": "code",
   "execution_count": 7,
   "metadata": {},
   "outputs": [],
   "source": []
  },
  {
   "cell_type": "code",
   "execution_count": 8,
   "metadata": {},
   "outputs": [],
   "source": [
    "pages = his1 + his2 + his3 + his4 + his5 + his6 + his7 + his8"
   ]
  },
  {
   "cell_type": "code",
   "execution_count": 9,
   "metadata": {},
   "outputs": [],
   "source": [
    "hq = TM()\n",
    "hq.inserts(pages)\n",
    "\n",
    "hq.pack(f'../Data/{c.comic_book}.csv')"
   ]
  },
  {
   "cell_type": "code",
   "execution_count": 10,
   "metadata": {},
   "outputs": [
    {
     "data": {
      "text/plain": [
       "29"
      ]
     },
     "execution_count": 10,
     "metadata": {},
     "output_type": "execute_result"
    }
   ],
   "source": [
    "hq.n_characters"
   ]
  },
  {
   "cell_type": "code",
   "execution_count": 11,
   "metadata": {},
   "outputs": [
    {
     "data": {
      "text/plain": [
       "['Mônica',\n",
       " 'Cebolinha',\n",
       " 'Cascão',\n",
       " 'Josefina',\n",
       " 'Sansão',\n",
       " 'Penadinho',\n",
       " 'Zé Vampir',\n",
       " '#tdm_39 Atendente 1',\n",
       " 'Magali',\n",
       " 'Franjinha',\n",
       " 'Xaveco',\n",
       " 'Dudu',\n",
       " 'Jeremias',\n",
       " '#tdm_39 Sombra 1',\n",
       " '#tdm_39 Sombra 2',\n",
       " 'Frank',\n",
       " 'Pixuquinha',\n",
       " 'Piteco',\n",
       " 'Ogra',\n",
       " '#tdm_39 Dinossauro 1',\n",
       " '#tdm_39 Sombra 3',\n",
       " '#tdm_39 Animal 1',\n",
       " '#tdm_39 Animal 2',\n",
       " '#tdm_39 Animal 3',\n",
       " 'Thuga',\n",
       " 'Lobi',\n",
       " '#tdm_39 Rex',\n",
       " 'Marina',\n",
       " 'Raposão']"
      ]
     },
     "execution_count": 11,
     "metadata": {},
     "output_type": "execute_result"
    }
   ],
   "source": [
    "hq.characters"
   ]
  },
  {
   "cell_type": "code",
   "execution_count": null,
   "metadata": {},
   "outputs": [],
   "source": []
  }
 ],
 "metadata": {
  "kernelspec": {
   "display_name": "Python 3",
   "language": "python",
   "name": "python3"
  },
  "language_info": {
   "codemirror_mode": {
    "name": "ipython",
    "version": 3
   },
   "file_extension": ".py",
   "mimetype": "text/x-python",
   "name": "python",
   "nbconvert_exporter": "python",
   "pygments_lexer": "ipython3",
   "version": "3.8.5"
  }
 },
 "nbformat": 4,
 "nbformat_minor": 4
}
