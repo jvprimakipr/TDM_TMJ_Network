{
 "cells": [
  {
   "cell_type": "code",
   "execution_count": 1,
   "metadata": {},
   "outputs": [],
   "source": [
    "import os\n",
    "import sys\n",
    "\n",
    "p = os.path.abspath('Functions')\n",
    "if p not in sys.path:\n",
    "    sys.path.append(p)\n",
    "from class_TM import TM\n",
    "from class_characters import characters"
   ]
  },
  {
   "cell_type": "code",
   "execution_count": 2,
   "metadata": {},
   "outputs": [],
   "source": [
    "import pandas as pd\n",
    "pd.set_option('display.max_rows', None)"
   ]
  },
  {
   "cell_type": "markdown",
   "metadata": {},
   "source": [
    "# Turma da Mônica Jovem"
   ]
  },
  {
   "cell_type": "code",
   "execution_count": 3,
   "metadata": {},
   "outputs": [],
   "source": [
    "c = characters('#tdm_39')"
   ]
  },
  {
   "cell_type": "code",
   "execution_count": 8,
   "metadata": {},
   "outputs": [],
   "source": [
    "pages = his1 + his2 + his3 + his4 + his5 + his6 + his7 + his8 + his9 + his10 + his11 + his12"
   ]
  },
  {
   "cell_type": "code",
   "execution_count": 4,
   "metadata": {},
   "outputs": [],
   "source": [
    "hq = TM()\n",
    "hq.inserts(pages)\n",
    "\n",
    "hq.unpack(f'Data/{c.comic_book}.csv')"
   ]
  },
  {
   "cell_type": "code",
   "execution_count": 5,
   "metadata": {},
   "outputs": [
    {
     "data": {
      "text/plain": [
       "29"
      ]
     },
     "execution_count": 5,
     "metadata": {},
     "output_type": "execute_result"
    }
   ],
   "source": [
    "hq.n_characters"
   ]
  },
  {
   "cell_type": "code",
   "execution_count": 35,
   "metadata": {},
   "outputs": [],
   "source": [
    "%run TDM/TDM08.py"
   ]
  },
  {
   "cell_type": "code",
   "execution_count": 36,
   "metadata": {},
   "outputs": [],
   "source": [
    "hq = TM()\n",
    "hq.inserts(pages8)"
   ]
  },
  {
   "cell_type": "code",
   "execution_count": 37,
   "metadata": {},
   "outputs": [
    {
     "data": {
      "text/plain": [
       "101"
      ]
     },
     "execution_count": 37,
     "metadata": {},
     "output_type": "execute_result"
    }
   ],
   "source": [
    "hq.n_characters"
   ]
  },
  {
   "cell_type": "code",
   "execution_count": 38,
   "metadata": {},
   "outputs": [
    {
     "data": {
      "text/plain": [
       "['Mônica',\n",
       " 'Cebolinha',\n",
       " 'Cascão',\n",
       " 'Magali',\n",
       " '#tdm_27 Criança 1',\n",
       " '#tdm_27 Criança 2',\n",
       " '#tdm_27 Criança 3',\n",
       " '#tdm_27 Criança 4',\n",
       " '#tdm_27 Criança 5',\n",
       " '#tdm_27 Criança 6',\n",
       " '#tdm_27 Criança 7',\n",
       " '#tdm_27 Criança 8',\n",
       " '#tdm_27 Criança 9',\n",
       " 'Planeta Terra',\n",
       " 'Sansão',\n",
       " '#tdm_27 Sombra 1',\n",
       " '#tdm_27 Atendente 1',\n",
       " '#tdm_27 Atendente 2',\n",
       " '#tdm_27 Criança 10',\n",
       " '#tdm_27 Criança 11',\n",
       " '#tdm_27 Sombra 2',\n",
       " '#tdm_27 Criança 12',\n",
       " '#tdm_27 Criança 13',\n",
       " '#tdm_27 Criança 14',\n",
       " '#tdm_27 Criança 15',\n",
       " '#tdm_27 Figurante 1',\n",
       " '#tdm_27 Criança 16',\n",
       " '#tdm_27 Mãe 1',\n",
       " '#tdm_27 Animal 1',\n",
       " '#tdm_27 Figurante 2',\n",
       " '#tdm_27 Figurante 3',\n",
       " '#tdm_27 Figurante 4',\n",
       " '#tdm_27 Figurante 5',\n",
       " '#tdm_27 Figurante 6',\n",
       " 'Dona Lurdinha',\n",
       " 'Dona Cebola',\n",
       " 'Seu Cebola',\n",
       " 'Seu Antenor',\n",
       " '#tdm_27 Figurante 7',\n",
       " '#tdm_27 Criança 17',\n",
       " '#tdm_27 Roteirista 1',\n",
       " '#tdm_27 Roteirista 2',\n",
       " '#tdm_27 Roteirista 3',\n",
       " '#tdm_27 Roteirista 4',\n",
       " '#tdm_27 Criança 18',\n",
       " '#tdm_27 Criança 19',\n",
       " '#tdm_27 Criança 20',\n",
       " '#tdm_27 Criança 21',\n",
       " '#tdm_27 Sombra 3',\n",
       " '#tdm_27 Sombra 4',\n",
       " '#tdm_27 Sombra 5',\n",
       " '#tdm_27 Sombra 6',\n",
       " 'Lua',\n",
       " 'Anjinho',\n",
       " '#tdm_27 Anjinha',\n",
       " 'Marina',\n",
       " '#tdm_27 Animal 2',\n",
       " 'Rita Najura',\n",
       " 'Comadre Cigarra',\n",
       " 'Jotalhão',\n",
       " '#tdm_27 Figurante 8',\n",
       " '#tdm_27 Figurante 9',\n",
       " 'Cupido',\n",
       " 'Dona Morte',\n",
       " 'Penadinho',\n",
       " 'Muminho',\n",
       " 'Zé Vampir',\n",
       " 'Cranicóla',\n",
       " 'Lobi',\n",
       " '#tdm_27 Figurante 10',\n",
       " '#tdm_27 Figurante 11',\n",
       " '#tdm_27 Figurante 12',\n",
       " '#tdm_27 Sombra 7',\n",
       " '#tdm_27 Figurante 13',\n",
       " 'Bidu',\n",
       " '#tdm_27 Animal 3',\n",
       " '#tdm_27 Criança 22',\n",
       " '#tdm_27 Animal 4',\n",
       " '#tdm_27 Figurante 14',\n",
       " '#tdm_27 Figurante 15',\n",
       " '#tdm_27 Animal 5',\n",
       " '#tdm_27 Figurante 16',\n",
       " '#tdm_27 Animal 6',\n",
       " '#tdm_27 Figurante 17',\n",
       " '#tdm_27 Figurante 18',\n",
       " '#tdm_27 Figurante 19',\n",
       " '#tdm_27 Figurante 20',\n",
       " '#tdm_27 Figurante 21',\n",
       " '#tdm_27 Figurante 22',\n",
       " '#tdm_27 Figurante 23',\n",
       " '#tdm_27 Figurante 24',\n",
       " 'Chico Bento',\n",
       " 'Dona Cotinha',\n",
       " 'Hiro',\n",
       " 'Genesinho',\n",
       " 'Rosinha',\n",
       " 'Menino de Pedra',\n",
       " '#tdm_27 Criança 23',\n",
       " '#tdm_27 Criança 24',\n",
       " 'Franjinha',\n",
       " 'Floquinho']"
      ]
     },
     "execution_count": 38,
     "metadata": {},
     "output_type": "execute_result"
    }
   ],
   "source": [
    "hq.characters"
   ]
  },
  {
   "cell_type": "code",
   "execution_count": null,
   "metadata": {},
   "outputs": [],
   "source": []
  }
 ],
 "metadata": {
  "kernelspec": {
   "display_name": "Python 3",
   "language": "python",
   "name": "python3"
  },
  "language_info": {
   "codemirror_mode": {
    "name": "ipython",
    "version": 3
   },
   "file_extension": ".py",
   "mimetype": "text/x-python",
   "name": "python",
   "nbconvert_exporter": "python",
   "pygments_lexer": "ipython3",
   "version": "3.8.5"
  }
 },
 "nbformat": 4,
 "nbformat_minor": 4
}
