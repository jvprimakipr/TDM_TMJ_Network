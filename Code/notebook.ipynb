{
 "cells": [
  {
   "cell_type": "code",
   "execution_count": 10,
   "metadata": {},
   "outputs": [],
   "source": [
    "import os\n",
    "import sys\n",
    "\n",
    "p = os.path.abspath('Functions')\n",
    "if p not in sys.path:\n",
    "    sys.path.append(p)\n",
    "from class_TM import TM\n",
    "from class_characters import characters"
   ]
  },
  {
   "cell_type": "code",
   "execution_count": 11,
   "metadata": {},
   "outputs": [],
   "source": [
    "import pandas as pd\n",
    "pd.set_option('display.max_rows', None)"
   ]
  },
  {
   "cell_type": "markdown",
   "metadata": {},
   "source": [
    "# Turma da Mônica Jovem"
   ]
  },
  {
   "cell_type": "code",
   "execution_count": 3,
   "metadata": {},
   "outputs": [],
   "source": [
    "c = characters('#tdm_39')"
   ]
  },
  {
   "cell_type": "code",
   "execution_count": 8,
   "metadata": {},
   "outputs": [],
   "source": [
    "pages = his1 + his2 + his3 + his4 + his5 + his6 + his7 + his8 + his9 + his10 + his11 + his12"
   ]
  },
  {
   "cell_type": "code",
   "execution_count": 4,
   "metadata": {},
   "outputs": [],
   "source": [
    "hq = TM()\n",
    "hq.inserts(pages)\n",
    "\n",
    "hq.unpack(f'Data/{c.comic_book}.csv')"
   ]
  },
  {
   "cell_type": "code",
   "execution_count": 5,
   "metadata": {},
   "outputs": [
    {
     "data": {
      "text/plain": [
       "29"
      ]
     },
     "execution_count": 5,
     "metadata": {},
     "output_type": "execute_result"
    }
   ],
   "source": [
    "hq.n_characters"
   ]
  },
  {
   "cell_type": "code",
   "execution_count": 40,
   "metadata": {},
   "outputs": [],
   "source": [
    "%run TDM/TDM15.py"
   ]
  },
  {
   "cell_type": "code",
   "execution_count": 41,
   "metadata": {},
   "outputs": [
    {
     "data": {
      "text/plain": [
       "116"
      ]
     },
     "execution_count": 41,
     "metadata": {},
     "output_type": "execute_result"
    }
   ],
   "source": [
    "hq = TM()\n",
    "hq.inserts(pages15)\n",
    "hq.n_characters"
   ]
  },
  {
   "cell_type": "code",
   "execution_count": 42,
   "metadata": {},
   "outputs": [
    {
     "data": {
      "text/plain": [
       "['Anjinho',\n",
       " 'Cascão',\n",
       " 'Cebolinha',\n",
       " 'Mônica',\n",
       " 'Magali',\n",
       " 'Sansão',\n",
       " '#tdm_34 Anjinho Substituto',\n",
       " 'Dona Lili',\n",
       " '#tdm_34 Pai 1',\n",
       " '#tdm_34 Criança 1',\n",
       " '#tdm_34 Sombra 1',\n",
       " '#tdm_34 Sombra 2',\n",
       " '#tdm_34 Sombra 3',\n",
       " '#tdm_34 Sombra 4',\n",
       " '#tdm_34 Mãe 1',\n",
       " '#tdm_34 Mãe 2',\n",
       " '#tdm_34 Atendente 1',\n",
       " '#tdm_34 Criança 2',\n",
       " '#tdm_34 Criança 3',\n",
       " '#tdm_34 Criança 4',\n",
       " '#tdm_34 Criança 5',\n",
       " '#tdm_34 Sombra 5',\n",
       " '#tdm_34 Sombra 6',\n",
       " '#tdm_34 Sombra 7',\n",
       " '#tdm_34 Sombra 8',\n",
       " '#tdm_34 Pai 2',\n",
       " '#tdm_34 Criança 6',\n",
       " '#tdm_34 Criança 7',\n",
       " '#tdm_34 Criança 8',\n",
       " '#tdm_34 Criança 9',\n",
       " '#tdm_34 Criança 10',\n",
       " '#tdm_34 Criança 11',\n",
       " '#tdm_34 Anjo 1',\n",
       " '#tdm_34 Anjo 2',\n",
       " '#tdm_34 Anjo 3',\n",
       " '#tdm_34 Anjo 4',\n",
       " '#tdm_34 Anjo 5',\n",
       " '#tdm_34 Anjo 6',\n",
       " '#tdm_34 Anjo 7',\n",
       " '#tdm_34 Anjo 8',\n",
       " '#tdm_34 Anjo 9',\n",
       " '#tdm_34 Anjo 10',\n",
       " '#tdm_34 Anjo 11',\n",
       " '#tdm_34 Anjo 12',\n",
       " '#tdm_34 Anjo 13',\n",
       " '#tdm_34 Anjo 14',\n",
       " '#tdm_34 Anjo 15',\n",
       " '#tdm_34 Anjo 16',\n",
       " '#tdm_34 Anjo 17',\n",
       " '#tdm_34 Anjo 18',\n",
       " 'Astronauta',\n",
       " '#tdm_34 Alien 1',\n",
       " 'Piteco',\n",
       " '#tdm_34 Dinossauro 1',\n",
       " '#tdm_34 Homem das Cavernas 1',\n",
       " 'Thuga',\n",
       " 'Bolota',\n",
       " 'Vartolo',\n",
       " '#tdm_34 Homem das Cavernas 8',\n",
       " '#tdm_34 Dinossauro 2',\n",
       " '#tdm_34 Dinossauro 3',\n",
       " '#tdm_34 Homem das Cavernas 7',\n",
       " '#tdm_34 Homem das Cavernas 2',\n",
       " '#tdm_34 Sombra 9',\n",
       " '#tdm_34 Sombra 10',\n",
       " '#tdm_34 Homem das Cavernas 3',\n",
       " '#tdm_34 Homem das Cavernas 4',\n",
       " '#tdm_34 Homem das Cavernas 5',\n",
       " '#tdm_34 Homem das Cavernas 6',\n",
       " 'Dona Luísa',\n",
       " 'Seu Souza',\n",
       " 'Seu Cebola',\n",
       " 'Nico Demo',\n",
       " '#tdm_34 Criança 12',\n",
       " '#tdm_34 Criança 13',\n",
       " '#tdm_34 Criança 14',\n",
       " 'Jimmy',\n",
       " 'Bidu',\n",
       " 'Bugu',\n",
       " 'Franjinha',\n",
       " 'Maurício de Souza',\n",
       " 'Penadinho',\n",
       " '#tdm_34 Animal 1',\n",
       " '#tdm_34 Animal 2',\n",
       " '#tdm_34 Animal 3',\n",
       " '#tdm_34 Animal 4',\n",
       " '#tdm_34 Animal 5',\n",
       " 'Bloguinho',\n",
       " 'Nimbus',\n",
       " '#tdm_34 Animal 6',\n",
       " '#tdm_34 Animal 7',\n",
       " '#tdm_34 Animal 8',\n",
       " '#tdm_34 Animal 9',\n",
       " '#tdm_34 Animal 10',\n",
       " '#tdm_34 Animal 11',\n",
       " '#tdm_34 Animal 12',\n",
       " '#tdm_34 Animal 13',\n",
       " '#tdm_34 Animal 14',\n",
       " '#tdm_34 Animal 15',\n",
       " '#tdm_34 Animal 16',\n",
       " '#tdm_34 Animal 17',\n",
       " '#tdm_34 Animal 18',\n",
       " '#tdm_34 Animal 19',\n",
       " '#tdm_34 Figurante 1',\n",
       " '#tdm_34 Figurante 2',\n",
       " '#tdm_34 Figurante 3',\n",
       " '#tdm_34 Figurante 4',\n",
       " '#tdm_34 Animal 20',\n",
       " '#tdm_34 Figurante 5',\n",
       " '#tdm_34 Figurante 6',\n",
       " '#tdm_34 Figurante 7',\n",
       " '#tdm_34 Animal 21',\n",
       " '#tdm_34 Figurante 8',\n",
       " 'Dona Lurdinha',\n",
       " 'Humberto',\n",
       " 'Eco']"
      ]
     },
     "execution_count": 42,
     "metadata": {},
     "output_type": "execute_result"
    }
   ],
   "source": [
    "hq.characters"
   ]
  },
  {
   "cell_type": "code",
   "execution_count": null,
   "metadata": {},
   "outputs": [],
   "source": []
  },
  {
   "cell_type": "code",
   "execution_count": null,
   "metadata": {},
   "outputs": [],
   "source": []
  }
 ],
 "metadata": {
  "kernelspec": {
   "display_name": "Python 3",
   "language": "python",
   "name": "python3"
  },
  "language_info": {
   "codemirror_mode": {
    "name": "ipython",
    "version": 3
   },
   "file_extension": ".py",
   "mimetype": "text/x-python",
   "name": "python",
   "nbconvert_exporter": "python",
   "pygments_lexer": "ipython3",
   "version": "3.8.5"
  }
 },
 "nbformat": 4,
 "nbformat_minor": 4
}
