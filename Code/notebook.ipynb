{
 "cells": [
  {
   "cell_type": "code",
   "execution_count": 1,
   "metadata": {},
   "outputs": [],
   "source": [
    "import os\n",
    "import sys\n",
    "\n",
    "p = os.path.abspath('Functions')\n",
    "if p not in sys.path:\n",
    "    sys.path.append(p)\n",
    "from class_TM import TM\n",
    "from class_characters import characters"
   ]
  },
  {
   "cell_type": "code",
   "execution_count": 2,
   "metadata": {},
   "outputs": [],
   "source": [
    "import pandas as pd\n",
    "pd.set_option('display.max_rows', None)"
   ]
  },
  {
   "cell_type": "markdown",
   "metadata": {},
   "source": [
    "# Turma da Mônica Jovem"
   ]
  },
  {
   "cell_type": "code",
   "execution_count": 3,
   "metadata": {},
   "outputs": [],
   "source": [
    "c = characters('#tdm_39')"
   ]
  },
  {
   "cell_type": "code",
   "execution_count": 8,
   "metadata": {},
   "outputs": [],
   "source": [
    "pages = his1 + his2 + his3 + his4 + his5 + his6 + his7 + his8 + his9 + his10 + his11 + his12"
   ]
  },
  {
   "cell_type": "code",
   "execution_count": 4,
   "metadata": {},
   "outputs": [],
   "source": [
    "hq = TM()\n",
    "hq.inserts(pages)\n",
    "\n",
    "hq.unpack(f'Data/{c.comic_book}.csv')"
   ]
  },
  {
   "cell_type": "code",
   "execution_count": 5,
   "metadata": {},
   "outputs": [
    {
     "data": {
      "text/plain": [
       "29"
      ]
     },
     "execution_count": 5,
     "metadata": {},
     "output_type": "execute_result"
    }
   ],
   "source": [
    "hq.n_characters"
   ]
  },
  {
   "cell_type": "code",
   "execution_count": 6,
   "metadata": {},
   "outputs": [],
   "source": [
    "%run TDM/TDM09.py"
   ]
  },
  {
   "cell_type": "code",
   "execution_count": 7,
   "metadata": {},
   "outputs": [],
   "source": [
    "hq = TM()\n",
    "hq.inserts(pages9)"
   ]
  },
  {
   "cell_type": "code",
   "execution_count": 8,
   "metadata": {},
   "outputs": [
    {
     "data": {
      "text/plain": [
       "100"
      ]
     },
     "execution_count": 8,
     "metadata": {},
     "output_type": "execute_result"
    }
   ],
   "source": [
    "hq.n_characters"
   ]
  },
  {
   "cell_type": "code",
   "execution_count": 9,
   "metadata": {},
   "outputs": [
    {
     "data": {
      "text/plain": [
       "['Cebolinha',\n",
       " 'Cascão',\n",
       " 'Mônica',\n",
       " 'Cebolinha do Futuro',\n",
       " '#tdm_28 Pai 1',\n",
       " '#tdm_28 Criança 1',\n",
       " '#tdm_28 Criança 2',\n",
       " '#tdm_28 Criança 3',\n",
       " '#tdm_28 Criança 4',\n",
       " '#tdm_28 Figurante 1',\n",
       " '#tdm_28 Criança 5',\n",
       " 'Filho do Cebolinha do Futuro',\n",
       " 'Franjinha do Futuro',\n",
       " '#tdm_28 Criança 6',\n",
       " '#tdm_28 Criança 7',\n",
       " '#tdm_28 Criança 8',\n",
       " '#tdm_28 Criança 9',\n",
       " 'Seu Antenor',\n",
       " '#tdm_28 Criança 10',\n",
       " '#tdm_28 Criança 11',\n",
       " 'Muminho',\n",
       " 'Zé Vampir',\n",
       " 'Sansão',\n",
       " '#tdm_28 Mãe 1',\n",
       " '#tdm_28 Criança 12',\n",
       " '#tdm_28 Criança 13',\n",
       " 'Mônica do Futuro',\n",
       " 'Louco',\n",
       " 'Magali',\n",
       " '#tdm_28 Animal 1',\n",
       " '#tdm_28 Animal 2',\n",
       " '#tdm_28 Animal 3',\n",
       " '#tdm_28 Animal 4',\n",
       " '#tdm_28 Animal 5',\n",
       " 'Piteco',\n",
       " 'Maurício de Souza',\n",
       " 'Thuga',\n",
       " 'Bolota',\n",
       " '#tdm_28 Dinossauro 1',\n",
       " '#tdm_28 Animal 6',\n",
       " '#tdm_28 Dinossauro 2',\n",
       " '#tdm_28 Dinossauro 3',\n",
       " '#tdm_28 Tchako 1',\n",
       " '#tdm_28 Tchako 2',\n",
       " '#tdm_28 Tchako 3',\n",
       " '#tdm_28 Tchako 4',\n",
       " '#tdm_28 Gigante',\n",
       " '#tdm_28 Tchako 5',\n",
       " '#tdm_28 Tchako 6',\n",
       " '#tdm_28 Tchako 7',\n",
       " '#tdm_28 Tchako 8',\n",
       " '#tdm_28 Alien 1',\n",
       " '#tdm_28 Dinossauro 4',\n",
       " '#tdm_28 Figurante 2',\n",
       " '#tdm_28 Figurante 3',\n",
       " '#tdm_28 Figurante 4',\n",
       " '#tdm_28 Índio',\n",
       " 'Astronauta',\n",
       " 'Penadinho',\n",
       " 'Cranicóla',\n",
       " 'Anjinho',\n",
       " 'Zé Luís',\n",
       " 'Xabéu',\n",
       " 'Denise',\n",
       " 'Aninha',\n",
       " 'Humberto',\n",
       " 'Luca',\n",
       " 'Marina',\n",
       " 'Bidu',\n",
       " 'Dudu',\n",
       " 'Xaveco',\n",
       " 'Tikara',\n",
       " 'Keiko',\n",
       " 'Alvinho',\n",
       " 'Franjinha',\n",
       " 'Titi',\n",
       " 'Teveluisão',\n",
       " 'Professor Spada / Doutor Spam',\n",
       " 'Maria Cascuda',\n",
       " 'Do Contra',\n",
       " 'Fabinho Boa Pinta',\n",
       " 'Mingau',\n",
       " 'Dorinha',\n",
       " 'Maria Cebolinha',\n",
       " 'Bloguinho',\n",
       " 'Alfacinha',\n",
       " 'Jeremias',\n",
       " 'Seu Juca',\n",
       " 'Manezinho',\n",
       " 'Jotalhão',\n",
       " 'Nimbus',\n",
       " 'Quinzinho',\n",
       " 'Carminha Frufru',\n",
       " 'Tonica',\n",
       " '#tdm_28 Japa',\n",
       " 'Seu Souza',\n",
       " 'Dona Luísa',\n",
       " 'Monicão',\n",
       " '#tdm_28 Animal 7',\n",
       " 'Inho desconhecido']"
      ]
     },
     "execution_count": 9,
     "metadata": {},
     "output_type": "execute_result"
    }
   ],
   "source": [
    "hq.characters"
   ]
  },
  {
   "cell_type": "code",
   "execution_count": null,
   "metadata": {},
   "outputs": [],
   "source": []
  }
 ],
 "metadata": {
  "kernelspec": {
   "display_name": "Python 3",
   "language": "python",
   "name": "python3"
  },
  "language_info": {
   "codemirror_mode": {
    "name": "ipython",
    "version": 3
   },
   "file_extension": ".py",
   "mimetype": "text/x-python",
   "name": "python",
   "nbconvert_exporter": "python",
   "pygments_lexer": "ipython3",
   "version": "3.8.5"
  }
 },
 "nbformat": 4,
 "nbformat_minor": 4
}
