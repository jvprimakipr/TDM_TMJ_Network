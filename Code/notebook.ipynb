{
 "cells": [
  {
   "cell_type": "code",
   "execution_count": 10,
   "metadata": {},
   "outputs": [],
   "source": [
    "import os\n",
    "import sys\n",
    "\n",
    "p = os.path.abspath('Functions')\n",
    "if p not in sys.path:\n",
    "    sys.path.append(p)\n",
    "from class_TM import TM\n",
    "from class_characters import characters"
   ]
  },
  {
   "cell_type": "code",
   "execution_count": 11,
   "metadata": {},
   "outputs": [],
   "source": [
    "import pandas as pd\n",
    "pd.set_option('display.max_rows', None)"
   ]
  },
  {
   "cell_type": "markdown",
   "metadata": {},
   "source": [
    "# Turma da Mônica Jovem"
   ]
  },
  {
   "cell_type": "code",
   "execution_count": 3,
   "metadata": {},
   "outputs": [],
   "source": [
    "c = characters('#tdm_39')"
   ]
  },
  {
   "cell_type": "code",
   "execution_count": 8,
   "metadata": {},
   "outputs": [],
   "source": [
    "pages = his1 + his2 + his3 + his4 + his5 + his6 + his7 + his8 + his9 + his10 + his11 + his12"
   ]
  },
  {
   "cell_type": "code",
   "execution_count": 4,
   "metadata": {},
   "outputs": [],
   "source": [
    "hq = TM()\n",
    "hq.inserts(pages)\n",
    "\n",
    "hq.unpack(f'Data/{c.comic_book}.csv')"
   ]
  },
  {
   "cell_type": "code",
   "execution_count": 5,
   "metadata": {},
   "outputs": [
    {
     "data": {
      "text/plain": [
       "29"
      ]
     },
     "execution_count": 5,
     "metadata": {},
     "output_type": "execute_result"
    }
   ],
   "source": [
    "hq.n_characters"
   ]
  },
  {
   "cell_type": "code",
   "execution_count": 26,
   "metadata": {},
   "outputs": [],
   "source": [
    "%run TDM/TDM12.py"
   ]
  },
  {
   "cell_type": "code",
   "execution_count": 27,
   "metadata": {},
   "outputs": [
    {
     "data": {
      "text/plain": [
       "103"
      ]
     },
     "execution_count": 27,
     "metadata": {},
     "output_type": "execute_result"
    }
   ],
   "source": [
    "hq = TM()\n",
    "hq.inserts(pages12)\n",
    "hq.n_characters"
   ]
  },
  {
   "cell_type": "code",
   "execution_count": 28,
   "metadata": {},
   "outputs": [
    {
     "data": {
      "text/plain": [
       "['Cascão',\n",
       " 'Cebolinha',\n",
       " 'Maria Cascuda',\n",
       " 'Mônica',\n",
       " 'Magali',\n",
       " 'Denise',\n",
       " '#tdm_31 Sombra 1',\n",
       " '#tdm_31 Sombra 2',\n",
       " '#tdm_31 Sombra 3',\n",
       " '#tdm_31 Sombra 4',\n",
       " '#tdm_31 Sombra 5',\n",
       " '#tdm_31 Sombra 6',\n",
       " '#tdm_31 Sombra 7',\n",
       " '#tdm_31 Sombra 8',\n",
       " '#tdm_31 Sombra 9',\n",
       " '#tdm_31 Sombra 10',\n",
       " 'Xaveco',\n",
       " '#tdm_31 Criança 1',\n",
       " '#tdm_31 Criança 2',\n",
       " '#tdm_31 Criança 3',\n",
       " '#tdm_31 Criança 4',\n",
       " '#tdm_31 Criança 5',\n",
       " '#tdm_31 Criança 6',\n",
       " '#tdm_31 Criança 7',\n",
       " 'Fabinho Boa Pinta',\n",
       " '#tdm_31 Criança 8',\n",
       " '#tdm_31 Sombra 11',\n",
       " '#tdm_31 Sombra 12',\n",
       " 'Ricardinho',\n",
       " 'Bernardinho',\n",
       " '#tdm_31 Criança 9',\n",
       " '#tdm_31 Sombra 13',\n",
       " '#tdm_31 Sombra 14',\n",
       " '#tdm_31 Sombra 15',\n",
       " '#tdm_31 Sombra 16',\n",
       " '#tdm_31 Sombra 17',\n",
       " '#tdm_31 Sombra 18',\n",
       " '#tdm_31 Sombra 19',\n",
       " '#tdm_31 Sombra 20',\n",
       " '#tdm_31 Sombra 21',\n",
       " '#tdm_31 Sombra 22',\n",
       " '#tdm_31 Sombra 23',\n",
       " 'Luca',\n",
       " 'Quinzinho',\n",
       " '#tdm_31 Criança 10',\n",
       " 'Sansão',\n",
       " 'Bolota',\n",
       " 'Thuga',\n",
       " 'Piteco',\n",
       " 'Dona Luísa',\n",
       " 'Dona Cebola',\n",
       " 'Dona Lurdinha',\n",
       " 'Dona Lili',\n",
       " 'Maria Cebolinha',\n",
       " 'Dudu',\n",
       " 'Titi',\n",
       " 'Jeremias',\n",
       " 'Manezinho',\n",
       " 'Xabéu',\n",
       " 'Zé Luís',\n",
       " 'Seu Cebola',\n",
       " '#tdm_31 Animal 1',\n",
       " '#tdm_31 Animal 2',\n",
       " '#tdm_31 Animal 3',\n",
       " 'Chico Bento',\n",
       " 'Zé Lelé',\n",
       " '#tdm_31 Animal 4',\n",
       " '#tdm_31 Bruxo',\n",
       " '#tdm_31 Abóbora com pernas 1',\n",
       " '#tdm_31 Abóbora com pernas 2',\n",
       " '#tdm_31 Abóbora com pernas 3',\n",
       " '#tdm_31 Abóbora com pernas 4',\n",
       " '#tdm_31 Abóbora com pernas 5',\n",
       " '#tdm_31 Abóbora com pernas 6',\n",
       " '#tdm_31 Abóbora com pernas 7',\n",
       " '#tdm_31 Abóbora com pernas 8',\n",
       " '#tdm_31 Abóbora com pernas 9',\n",
       " '#tdm_31 Abóbora com pernas 10',\n",
       " 'Duende',\n",
       " 'Bidu',\n",
       " 'Mingau',\n",
       " 'Chovinista',\n",
       " '#tdm_31 Animal 5',\n",
       " '#tdm_31 Animal 6',\n",
       " '#tdm_31 Animal 7',\n",
       " '#tdm_31 Animal 8',\n",
       " '#tdm_31 Animal 9',\n",
       " '#tdm_31 Animal 10',\n",
       " '#tdm_31 Animal 11',\n",
       " '#tdm_31 Animal 12',\n",
       " '#tdm_31 Animal 13',\n",
       " '#tdm_31 Figurante 1',\n",
       " 'Penadinho',\n",
       " 'Zé Vampir',\n",
       " 'Alminha',\n",
       " 'Floquinho',\n",
       " '#tdm_31 Animal 14',\n",
       " 'Monicão',\n",
       " '#tdm_31 Criança 11',\n",
       " '#tdm_31 Criança 12',\n",
       " '#tdm_31 Criança 13',\n",
       " '#tdm_31 Sombra 24',\n",
       " 'Do Contra']"
      ]
     },
     "execution_count": 28,
     "metadata": {},
     "output_type": "execute_result"
    }
   ],
   "source": [
    "hq.characters"
   ]
  },
  {
   "cell_type": "code",
   "execution_count": null,
   "metadata": {},
   "outputs": [],
   "source": []
  }
 ],
 "metadata": {
  "kernelspec": {
   "display_name": "Python 3",
   "language": "python",
   "name": "python3"
  },
  "language_info": {
   "codemirror_mode": {
    "name": "ipython",
    "version": 3
   },
   "file_extension": ".py",
   "mimetype": "text/x-python",
   "name": "python",
   "nbconvert_exporter": "python",
   "pygments_lexer": "ipython3",
   "version": "3.8.5"
  }
 },
 "nbformat": 4,
 "nbformat_minor": 4
}
