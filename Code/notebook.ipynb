{
 "cells": [
  {
   "cell_type": "code",
   "execution_count": 4,
   "metadata": {},
   "outputs": [],
   "source": [
    "import os\n",
    "import sys\n",
    "\n",
    "p = os.path.abspath('Functions')\n",
    "if p not in sys.path:\n",
    "    sys.path.append(p)\n",
    "from class_TM import TM\n",
    "from class_characters import characters"
   ]
  },
  {
   "cell_type": "code",
   "execution_count": 5,
   "metadata": {},
   "outputs": [],
   "source": [
    "import pandas as pd\n",
    "pd.set_option('display.max_rows', None)"
   ]
  },
  {
   "cell_type": "markdown",
   "metadata": {},
   "source": [
    "# Turma da Mônica Jovem"
   ]
  },
  {
   "cell_type": "code",
   "execution_count": 3,
   "metadata": {},
   "outputs": [],
   "source": [
    "c = characters('#tdm_39')"
   ]
  },
  {
   "cell_type": "code",
   "execution_count": 8,
   "metadata": {},
   "outputs": [],
   "source": [
    "pages = his1 + his2 + his3 + his4 + his5 + his6 + his7 + his8 + his9 + his10 + his11 + his12"
   ]
  },
  {
   "cell_type": "code",
   "execution_count": 4,
   "metadata": {},
   "outputs": [],
   "source": [
    "hq = TM()\n",
    "hq.inserts(pages)\n",
    "\n",
    "hq.unpack(f'Data/{c.comic_book}.csv')"
   ]
  },
  {
   "cell_type": "code",
   "execution_count": 5,
   "metadata": {},
   "outputs": [
    {
     "data": {
      "text/plain": [
       "29"
      ]
     },
     "execution_count": 5,
     "metadata": {},
     "output_type": "execute_result"
    }
   ],
   "source": [
    "hq.n_characters"
   ]
  },
  {
   "cell_type": "code",
   "execution_count": 13,
   "metadata": {},
   "outputs": [],
   "source": [
    "%run TDM/TDM17.py"
   ]
  },
  {
   "cell_type": "code",
   "execution_count": 14,
   "metadata": {},
   "outputs": [
    {
     "data": {
      "text/plain": [
       "122"
      ]
     },
     "execution_count": 14,
     "metadata": {},
     "output_type": "execute_result"
    }
   ],
   "source": [
    "hq = TM()\n",
    "hq.inserts(pages17)\n",
    "hq.n_characters"
   ]
  },
  {
   "cell_type": "code",
   "execution_count": 15,
   "metadata": {},
   "outputs": [
    {
     "data": {
      "text/plain": [
       "['Cebolinha',\n",
       " 'Sansão',\n",
       " 'Cascão',\n",
       " '#tdm_36 Figurante 1',\n",
       " '#tdm_36 Figurante 2',\n",
       " '#tdm_36 Figurante 3',\n",
       " '#tdm_36 Figurante 4',\n",
       " '#tdm_36 Figurante 5',\n",
       " '#tdm_36 Figurante 6',\n",
       " '#tdm_36 Figurante 7',\n",
       " '#tdm_36 Figurante 8',\n",
       " '#tdm_36 Figurante 9',\n",
       " '#tdm_36 Figurante 10',\n",
       " '#tdm_36 Criança 1',\n",
       " '#tdm_36 Criança 2',\n",
       " '#tdm_36 Criança 3',\n",
       " '#tdm_36 Criança 4',\n",
       " 'Mônica',\n",
       " 'Magali',\n",
       " '#tdm_36 Mãe 1',\n",
       " '#tdm_36 Atendente 1',\n",
       " '#tdm_36 Criança 5',\n",
       " '#tdm_36 Criança 6',\n",
       " '#tdm_36 Sombra 1',\n",
       " '#tdm_36 Sombra 2',\n",
       " '#tdm_36 Sombra 3',\n",
       " '#tdm_36 Sombra 4',\n",
       " '#tdm_36 Sombra 5',\n",
       " '#tdm_36 Sombra 6',\n",
       " '#tdm_36 Sombra 7',\n",
       " '#tdm_36 Sombra 8',\n",
       " '#tdm_36 Sombra 9',\n",
       " '#tdm_36 Sombra 10',\n",
       " '#tdm_36 Atendente 2',\n",
       " '#tdm_36 Criança 7',\n",
       " '#tdm_36 Criança 8',\n",
       " '#tdm_36 Criança 9',\n",
       " '#tdm_36 Criança 10',\n",
       " '#tdm_36 Criança 11',\n",
       " '#tdm_36 Criança 12',\n",
       " '#tdm_36 Criança 13',\n",
       " '#tdm_36 Criança 14',\n",
       " '#tdm_36 Sombra 11',\n",
       " '#tdm_36 Sombra 12',\n",
       " '#tdm_36 Pai 1',\n",
       " '#tdm_36 Pai 2',\n",
       " '#tdm_36 Gnomo do Papai Noel 1',\n",
       " '#tdm_36 Gnomo do Papai Noel 2',\n",
       " '#tdm_36 Gnomo do Papai Noel 3',\n",
       " '#tdm_36 Criança 15',\n",
       " '#tdm_36 Criança 16',\n",
       " '#tdm_36 Criança 17',\n",
       " '#tdm_36 Criança 18',\n",
       " '#tdm_36 Criança 19',\n",
       " '#tdm_36 Criança 20',\n",
       " '#tdm_36 Criança 21',\n",
       " '#tdm_36 Sombra 13',\n",
       " '#tdm_36 Sombra 14',\n",
       " '#tdm_36 Sombra 15',\n",
       " '#tdm_36 Sombra 16',\n",
       " '#tdm_36 Sombra 17',\n",
       " '#tdm_36 Sombra 18',\n",
       " '#tdm_36 Sombra 19',\n",
       " '#tdm_36 Sombra 20',\n",
       " '#tdm_36 Sombra 21',\n",
       " '#tdm_36 Sombra 22',\n",
       " '#tdm_36 Pai 3',\n",
       " '#tdm_36 Criança 22',\n",
       " '#tdm_36 Sombra 23',\n",
       " '#tdm_36 Sombra 24',\n",
       " '#tdm_36 Sombra 25',\n",
       " '#tdm_36 Sombra 26',\n",
       " 'Papai Noel',\n",
       " '#tdm_36 Gnomo do Papai Noel 4',\n",
       " '#tdm_36 Figurante 11',\n",
       " '#tdm_36 Sombra 27',\n",
       " '#tdm_36 Sombra 28',\n",
       " '#tdm_36 Sombra 29',\n",
       " '#tdm_36 Sombra 30',\n",
       " '#tdm_36 Sombra 31',\n",
       " '#tdm_36 Sombra 32',\n",
       " '#tdm_36 Sombra 33',\n",
       " '#tdm_36 Sombra 34',\n",
       " '#tdm_36 Sombra 35',\n",
       " '#tdm_36 Sombra 36',\n",
       " 'Nico Demo',\n",
       " 'Zé Lelé',\n",
       " 'Maria Cafufa',\n",
       " '#tdm_36 Animal 1',\n",
       " '#tdm_36 Animal 2',\n",
       " '#tdm_36 Animal 3',\n",
       " '#tdm_36 Figurante 12',\n",
       " '#tdm_36 Figurante 13',\n",
       " 'Maria Cascuda',\n",
       " 'Titi',\n",
       " 'Aninha',\n",
       " 'Quinzinho',\n",
       " 'Bidu',\n",
       " 'Homem de Chumbo',\n",
       " 'Zing Mascarado',\n",
       " 'Alberto Aíston',\n",
       " 'Sônico',\n",
       " 'Franjinha',\n",
       " 'Seu Cebola',\n",
       " 'Dona Cebola',\n",
       " '#tdm_36 Figurante 14',\n",
       " '#tdm_36 Figurante 15',\n",
       " '#tdm_36 Figurante 16',\n",
       " '#tdm_36 Figurante 17',\n",
       " '#tdm_36 Sombra 37',\n",
       " '#tdm_36 Sombra 38',\n",
       " '#tdm_36 Personagem de jogo 1',\n",
       " 'Princesa Pesseguinho',\n",
       " 'Zelda',\n",
       " 'Pacman',\n",
       " 'Bloguinho',\n",
       " 'Mario Vermelho',\n",
       " '#tdm_36 Personagem de jogo 2',\n",
       " '#tdm_36 Personagem de jogo 3',\n",
       " '#tdm_36 Personagem de jogo 4',\n",
       " '#tdm_36 Personagem de jogo 5',\n",
       " 'Do Contra']"
      ]
     },
     "execution_count": 15,
     "metadata": {},
     "output_type": "execute_result"
    }
   ],
   "source": [
    "hq.characters"
   ]
  },
  {
   "cell_type": "code",
   "execution_count": null,
   "metadata": {},
   "outputs": [],
   "source": []
  },
  {
   "cell_type": "code",
   "execution_count": null,
   "metadata": {},
   "outputs": [],
   "source": []
  }
 ],
 "metadata": {
  "kernelspec": {
   "display_name": "Python 3",
   "language": "python",
   "name": "python3"
  },
  "language_info": {
   "codemirror_mode": {
    "name": "ipython",
    "version": 3
   },
   "file_extension": ".py",
   "mimetype": "text/x-python",
   "name": "python",
   "nbconvert_exporter": "python",
   "pygments_lexer": "ipython3",
   "version": "3.8.5"
  }
 },
 "nbformat": 4,
 "nbformat_minor": 4
}
