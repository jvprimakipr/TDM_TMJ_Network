{
 "cells": [
  {
   "cell_type": "code",
   "execution_count": 1,
   "metadata": {},
   "outputs": [],
   "source": [
    "import os\n",
    "import sys\n",
    "\n",
    "p = os.path.abspath('Functions')\n",
    "if p not in sys.path:\n",
    "    sys.path.append(p)\n",
    "from class_TM import TM\n",
    "from class_characters import characters"
   ]
  },
  {
   "cell_type": "code",
   "execution_count": 2,
   "metadata": {},
   "outputs": [],
   "source": [
    "import pandas as pd\n",
    "pd.set_option('display.max_rows', None)"
   ]
  },
  {
   "cell_type": "markdown",
   "metadata": {},
   "source": [
    "# Turma da Mônica Jovem"
   ]
  },
  {
   "cell_type": "code",
   "execution_count": 3,
   "metadata": {},
   "outputs": [],
   "source": [
    "c = characters('#tdm_39')"
   ]
  },
  {
   "cell_type": "code",
   "execution_count": 8,
   "metadata": {},
   "outputs": [],
   "source": [
    "pages = his1 + his2 + his3 + his4 + his5 + his6 + his7 + his8 + his9 + his10 + his11 + his12"
   ]
  },
  {
   "cell_type": "code",
   "execution_count": 4,
   "metadata": {},
   "outputs": [],
   "source": [
    "hq = TM()\n",
    "hq.inserts(pages)\n",
    "\n",
    "hq.unpack(f'Data/{c.comic_book}.csv')"
   ]
  },
  {
   "cell_type": "code",
   "execution_count": 5,
   "metadata": {},
   "outputs": [
    {
     "data": {
      "text/plain": [
       "29"
      ]
     },
     "execution_count": 5,
     "metadata": {},
     "output_type": "execute_result"
    }
   ],
   "source": [
    "hq.n_characters"
   ]
  },
  {
   "cell_type": "code",
   "execution_count": 19,
   "metadata": {},
   "outputs": [],
   "source": [
    "%run TDM/TDM06.py"
   ]
  },
  {
   "cell_type": "code",
   "execution_count": 20,
   "metadata": {},
   "outputs": [],
   "source": [
    "hq = TM()\n",
    "hq.inserts(pages6)"
   ]
  },
  {
   "cell_type": "code",
   "execution_count": 21,
   "metadata": {},
   "outputs": [
    {
     "data": {
      "text/plain": [
       "83"
      ]
     },
     "execution_count": 21,
     "metadata": {},
     "output_type": "execute_result"
    }
   ],
   "source": [
    "hq.n_characters"
   ]
  },
  {
   "cell_type": "code",
   "execution_count": 22,
   "metadata": {},
   "outputs": [
    {
     "data": {
      "text/plain": [
       "['Sansão',\n",
       " 'Cebolinha',\n",
       " 'Cascão',\n",
       " 'Mônica',\n",
       " '#tdm_25 Criança 1',\n",
       " '#tdm_25 Criança 2',\n",
       " 'Dona Cebola',\n",
       " '#tdm_25 Animal 1',\n",
       " '#tdm_25 Animal 2',\n",
       " '#tdm_25 Sombra 1',\n",
       " '#tdm_25 Sombra 2',\n",
       " '#tdm_25 Figurante 1',\n",
       " '#tdm_25 Criança 3',\n",
       " '#tdm_25 Criança 4',\n",
       " '#tdm_25 Criança 5',\n",
       " '#tdm_25 Sombra 3',\n",
       " '#tdm_25 Sombra 4',\n",
       " '#tdm_25 Sombra 5',\n",
       " '#tdm_25 Sombra 6',\n",
       " '#tdm_25 Sombra 7',\n",
       " '#tdm_25 Sombra 8',\n",
       " '#tdm_25 Sombra 9',\n",
       " '#tdm_25 Sombra 10',\n",
       " '#tdm_25 Sombra 11',\n",
       " '#tdm_25 Sombra 12',\n",
       " '#tdm_25 Sombra 13',\n",
       " '#tdm_25 Sombra 14',\n",
       " '#tdm_25 Sombra 15',\n",
       " '#tdm_25 Sombra 16',\n",
       " '#tdm_25 Sombra 17',\n",
       " '#tdm_25 Sombra 18',\n",
       " '#tdm_25 Sombra 19',\n",
       " '#tdm_25 Sombra 20',\n",
       " '#tdm_25 Sombra 21',\n",
       " '#tdm_25 Sombra 22',\n",
       " 'Cérebro do Cebolinha',\n",
       " '#tdm_25 Criança 6',\n",
       " '#tdm_25 Criança 7',\n",
       " '#tdm_25 Criança 8',\n",
       " '#tdm_25 Atendente 1',\n",
       " '#tdm_25 Criança 9',\n",
       " '#tdm_25 Figurante 2',\n",
       " '#tdm_25 Mãe 1',\n",
       " '#tdm_25 Criança 10',\n",
       " '#tdm_25 Sombra 23',\n",
       " 'Magali',\n",
       " 'Penadinho',\n",
       " 'Cupido',\n",
       " 'Frank',\n",
       " '#tdm_25 Figurante 3',\n",
       " 'Zé Vampir',\n",
       " 'Lobi',\n",
       " '#tdm_25 Animal 3',\n",
       " '#tdm_25 Animal 4',\n",
       " 'Alminha',\n",
       " 'Chico Bento',\n",
       " 'Nhô Lau',\n",
       " 'Rolo',\n",
       " 'Verinha',\n",
       " '#tdm_25 Figurante 4',\n",
       " 'Luca',\n",
       " 'Denise',\n",
       " 'Franjinha',\n",
       " 'Mingau',\n",
       " 'Bidu',\n",
       " 'Xaveco',\n",
       " 'Seu Xavier',\n",
       " 'Banda',\n",
       " '#tdm_25 Criança 11',\n",
       " '#tdm_25 Animal 5',\n",
       " 'Sequestradores',\n",
       " '#tdm_25 Figurante 5',\n",
       " 'Rosinha',\n",
       " 'Dona Marocas',\n",
       " 'Padre Lino',\n",
       " 'Dona Cotinha',\n",
       " '#tdm_25 Figurante 6',\n",
       " 'Fabinho Boa Pinta',\n",
       " '#tdm_25 Criança 12',\n",
       " '#tdm_25 Mãe 2',\n",
       " '#tdm_25 Figurante 7',\n",
       " 'Marina',\n",
       " 'Zé Caveirinha']"
      ]
     },
     "execution_count": 22,
     "metadata": {},
     "output_type": "execute_result"
    }
   ],
   "source": [
    "hq.characters"
   ]
  },
  {
   "cell_type": "code",
   "execution_count": null,
   "metadata": {},
   "outputs": [],
   "source": []
  }
 ],
 "metadata": {
  "kernelspec": {
   "display_name": "Python 3",
   "language": "python",
   "name": "python3"
  },
  "language_info": {
   "codemirror_mode": {
    "name": "ipython",
    "version": 3
   },
   "file_extension": ".py",
   "mimetype": "text/x-python",
   "name": "python",
   "nbconvert_exporter": "python",
   "pygments_lexer": "ipython3",
   "version": "3.8.5"
  }
 },
 "nbformat": 4,
 "nbformat_minor": 4
}
