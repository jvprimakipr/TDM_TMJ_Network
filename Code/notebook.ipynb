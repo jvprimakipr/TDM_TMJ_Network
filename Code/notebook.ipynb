{
 "cells": [
  {
   "cell_type": "code",
   "execution_count": 10,
   "metadata": {},
   "outputs": [],
   "source": [
    "import os\n",
    "import sys\n",
    "\n",
    "p = os.path.abspath('Functions')\n",
    "if p not in sys.path:\n",
    "    sys.path.append(p)\n",
    "from class_TM import TM\n",
    "from class_characters import characters"
   ]
  },
  {
   "cell_type": "code",
   "execution_count": 11,
   "metadata": {},
   "outputs": [],
   "source": [
    "import pandas as pd\n",
    "pd.set_option('display.max_rows', None)"
   ]
  },
  {
   "cell_type": "markdown",
   "metadata": {},
   "source": [
    "# Turma da Mônica Jovem"
   ]
  },
  {
   "cell_type": "code",
   "execution_count": 3,
   "metadata": {},
   "outputs": [],
   "source": [
    "c = characters('#tdm_39')"
   ]
  },
  {
   "cell_type": "code",
   "execution_count": 8,
   "metadata": {},
   "outputs": [],
   "source": [
    "pages = his1 + his2 + his3 + his4 + his5 + his6 + his7 + his8 + his9 + his10 + his11 + his12"
   ]
  },
  {
   "cell_type": "code",
   "execution_count": 4,
   "metadata": {},
   "outputs": [],
   "source": [
    "hq = TM()\n",
    "hq.inserts(pages)\n",
    "\n",
    "hq.unpack(f'Data/{c.comic_book}.csv')"
   ]
  },
  {
   "cell_type": "code",
   "execution_count": 5,
   "metadata": {},
   "outputs": [
    {
     "data": {
      "text/plain": [
       "29"
      ]
     },
     "execution_count": 5,
     "metadata": {},
     "output_type": "execute_result"
    }
   ],
   "source": [
    "hq.n_characters"
   ]
  },
  {
   "cell_type": "code",
   "execution_count": 12,
   "metadata": {},
   "outputs": [],
   "source": [
    "%run TDM/TDM10.py"
   ]
  },
  {
   "cell_type": "code",
   "execution_count": 13,
   "metadata": {},
   "outputs": [],
   "source": [
    "hq = TM()\n",
    "hq.inserts(pages10)"
   ]
  },
  {
   "cell_type": "code",
   "execution_count": 14,
   "metadata": {},
   "outputs": [
    {
     "data": {
      "text/plain": [
       "107"
      ]
     },
     "execution_count": 14,
     "metadata": {},
     "output_type": "execute_result"
    }
   ],
   "source": [
    "hq.n_characters"
   ]
  },
  {
   "cell_type": "code",
   "execution_count": 15,
   "metadata": {},
   "outputs": [
    {
     "data": {
      "text/plain": [
       "['Cascão',\n",
       " 'Cebolinha',\n",
       " '#tdm_29 Criança 1',\n",
       " '#tdm_29 Criança 2',\n",
       " '#tdm_29 Criança 3',\n",
       " 'Seu Antenor',\n",
       " '#tdm_29 Atendente 1',\n",
       " '#tdm_29 Criança 4',\n",
       " '#tdm_29 Sombra 1',\n",
       " '#tdm_29 Sombra 2',\n",
       " '#tdm_29 Sombra 3',\n",
       " '#tdm_29 Sombra 4',\n",
       " '#tdm_29 Sombra 5',\n",
       " '#tdm_29 Sombra 6',\n",
       " '#tdm_29 Sombra 7',\n",
       " '#tdm_29 Sombra 8',\n",
       " '#tdm_29 Sombra 9',\n",
       " '#tdm_29 Sombra 10',\n",
       " '#tdm_29 Sombra 11',\n",
       " '#tdm_29 Criança 5',\n",
       " '#tdm_29 Criança 6',\n",
       " '#tdm_29 Figurante 1',\n",
       " '#tdm_29 Figurante 2',\n",
       " '#tdm_29 Sombra 12',\n",
       " '#tdm_29 Sombra 13',\n",
       " '#tdm_29 Sombra 14',\n",
       " '#tdm_29 Sombra 15',\n",
       " 'Sansão',\n",
       " 'Mônica',\n",
       " '#tdm_29 Criança 7',\n",
       " '#tdm_29 Atendente 2',\n",
       " '#tdm_29 Criança 8',\n",
       " '#tdm_29 Criança 9',\n",
       " '#tdm_29 Criança 10',\n",
       " '#tdm_29 Criança 11',\n",
       " '#tdm_29 Sombra 16',\n",
       " '#tdm_29 Sombra 17',\n",
       " '#tdm_29 Sombra 18',\n",
       " '#tdm_29 Sombra 19',\n",
       " '#tdm_29 Sombra 20',\n",
       " '#tdm_29 Sombra 21',\n",
       " '#tdm_29 Sombra 22',\n",
       " '#tdm_29 Sombra 23',\n",
       " '#tdm_29 Sombra 24',\n",
       " '#tdm_29 Sombra 25',\n",
       " '#tdm_29 Sombra 26',\n",
       " '#tdm_29 Sombra 27',\n",
       " '#tdm_29 Sombra 28',\n",
       " '#tdm_29 Sombra 29',\n",
       " '#tdm_29 Sombra 30',\n",
       " '#tdm_29 Sombra 31',\n",
       " '#tdm_29 Sombra 32',\n",
       " '#tdm_29 Sombra 33',\n",
       " 'Chico Bento',\n",
       " '#tdm_29 Criança 12',\n",
       " '#tdm_29 Animal 1',\n",
       " 'Giselda',\n",
       " 'Mimosa',\n",
       " 'Torresmo',\n",
       " '#tdm_29 Animal 2',\n",
       " 'Onça',\n",
       " '#tdm_29 Animal 3',\n",
       " '#tdm_29 Animal 4',\n",
       " '#tdm_29 Animal 5',\n",
       " '#tdm_29 Animal 6',\n",
       " 'Bidu',\n",
       " 'Zé Esquecido',\n",
       " '#tdm_29 Criança 13',\n",
       " '#tdm_29 Animal 7',\n",
       " 'Duque',\n",
       " 'Cranicóla',\n",
       " 'Zé Vampir',\n",
       " '#tdm_29 Mulher 1',\n",
       " 'Penadinho',\n",
       " 'Muminho',\n",
       " 'Frank',\n",
       " 'Lobi',\n",
       " 'Zé Caveirinha',\n",
       " '#tdm_29 Mulher 2',\n",
       " 'Marina',\n",
       " 'Jeremias',\n",
       " 'Tia do Jeremias',\n",
       " '#tdm_29 Mulher 3',\n",
       " 'Magali',\n",
       " 'Titi',\n",
       " 'Xaveco',\n",
       " 'Denise',\n",
       " 'Zé Luís',\n",
       " 'Aninha',\n",
       " 'Humberto',\n",
       " '#tdm_29 Homem 1',\n",
       " '#tdm_29 Criança 14',\n",
       " '#tdm_29 Mulher 4',\n",
       " '#tdm_29 Homem 2',\n",
       " '#tdm_29 Figurante 3',\n",
       " '#tdm_29 Criança 15',\n",
       " '#tdm_29 Criança 16',\n",
       " '#tdm_29 Animal 8',\n",
       " '#tdm_29 Figurante 4',\n",
       " '#tdm_29 Figurante 5',\n",
       " '#tdm_29 Pai 1',\n",
       " '#tdm_29 Criança 17',\n",
       " 'Dona Morte',\n",
       " 'Seu Cebola',\n",
       " 'Homem de Chumbo',\n",
       " 'Zing Mascarado',\n",
       " 'Dona Cebola']"
      ]
     },
     "execution_count": 15,
     "metadata": {},
     "output_type": "execute_result"
    }
   ],
   "source": [
    "hq.characters"
   ]
  },
  {
   "cell_type": "code",
   "execution_count": null,
   "metadata": {},
   "outputs": [],
   "source": []
  }
 ],
 "metadata": {
  "kernelspec": {
   "display_name": "Python 3",
   "language": "python",
   "name": "python3"
  },
  "language_info": {
   "codemirror_mode": {
    "name": "ipython",
    "version": 3
   },
   "file_extension": ".py",
   "mimetype": "text/x-python",
   "name": "python",
   "nbconvert_exporter": "python",
   "pygments_lexer": "ipython3",
   "version": "3.8.5"
  }
 },
 "nbformat": 4,
 "nbformat_minor": 4
}
