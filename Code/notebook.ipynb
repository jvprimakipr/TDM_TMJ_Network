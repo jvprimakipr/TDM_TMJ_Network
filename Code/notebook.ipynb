{
 "cells": [
  {
   "cell_type": "code",
   "execution_count": 1,
   "metadata": {},
   "outputs": [],
   "source": [
    "import os\n",
    "import sys\n",
    "\n",
    "p = os.path.abspath('Functions')\n",
    "if p not in sys.path:\n",
    "    sys.path.append(p)\n",
    "from class_TM import TM\n",
    "from class_characters import characters"
   ]
  },
  {
   "cell_type": "code",
   "execution_count": 2,
   "metadata": {},
   "outputs": [],
   "source": [
    "import pandas as pd\n",
    "pd.set_option('display.max_rows', None)"
   ]
  },
  {
   "cell_type": "markdown",
   "metadata": {},
   "source": [
    "# Turma da Mônica Jovem"
   ]
  },
  {
   "cell_type": "code",
   "execution_count": 3,
   "metadata": {},
   "outputs": [],
   "source": [
    "c = characters('#tdm_39')"
   ]
  },
  {
   "cell_type": "code",
   "execution_count": 8,
   "metadata": {},
   "outputs": [],
   "source": [
    "pages = his1 + his2 + his3 + his4 + his5 + his6 + his7 + his8 + his9 + his10 + his11 + his12"
   ]
  },
  {
   "cell_type": "code",
   "execution_count": 4,
   "metadata": {},
   "outputs": [],
   "source": [
    "hq = TM()\n",
    "hq.inserts(pages)\n",
    "\n",
    "hq.unpack(f'Data/{c.comic_book}.csv')"
   ]
  },
  {
   "cell_type": "code",
   "execution_count": 5,
   "metadata": {},
   "outputs": [
    {
     "data": {
      "text/plain": [
       "29"
      ]
     },
     "execution_count": 5,
     "metadata": {},
     "output_type": "execute_result"
    }
   ],
   "source": [
    "hq.n_characters"
   ]
  },
  {
   "cell_type": "code",
   "execution_count": 3,
   "metadata": {},
   "outputs": [],
   "source": [
    "%run TDM/TDM04.py"
   ]
  },
  {
   "cell_type": "code",
   "execution_count": 4,
   "metadata": {},
   "outputs": [],
   "source": [
    "hq = TM()\n",
    "hq.inserts(pages4)"
   ]
  },
  {
   "cell_type": "code",
   "execution_count": 5,
   "metadata": {},
   "outputs": [
    {
     "data": {
      "text/plain": [
       "107"
      ]
     },
     "execution_count": 5,
     "metadata": {},
     "output_type": "execute_result"
    }
   ],
   "source": [
    "hq.n_characters"
   ]
  },
  {
   "cell_type": "code",
   "execution_count": 6,
   "metadata": {},
   "outputs": [
    {
     "data": {
      "text/plain": [
       "['Cascão',\n",
       " 'Cebolinha',\n",
       " 'Mônica',\n",
       " 'Duende',\n",
       " '#tdm_23 Múmia',\n",
       " '#tdm_23 Mãe 1',\n",
       " '#tdm_23 Pai 1',\n",
       " 'Dona Luísa',\n",
       " '#tdm_23 Criança 1',\n",
       " '#tdm_23 Criança 2',\n",
       " '#tdm_23 Criança 3',\n",
       " '#tdm_23 Criança 4',\n",
       " '#tdm_23 Criança 5',\n",
       " '#tdm_23 Criança 6',\n",
       " '#tdm_23 Criança 7',\n",
       " '#tdm_23 Criança 8',\n",
       " '#tdm_23 Criança 9',\n",
       " '#tdm_23 Criança 10',\n",
       " '#tdm_23 Criança 11',\n",
       " '#tdm_23 Sombra 1',\n",
       " '#tdm_23 Sombra 2',\n",
       " '#tdm_23 Sombra 3',\n",
       " '#tdm_23 Sombra 4',\n",
       " '#tdm_23 Sombra 5',\n",
       " '#tdm_23 Sombra 6',\n",
       " '#tdm_23 Sombra 7',\n",
       " '#tdm_23 Sombra 8',\n",
       " '#tdm_23 Sombra 9',\n",
       " '#tdm_23 Sombra 10',\n",
       " '#tdm_23 Criança 12',\n",
       " '#tdm_23 Criança 13',\n",
       " '#tdm_23 Atendente 1',\n",
       " '#tdm_23 Sombra 11',\n",
       " '#tdm_23 Mãe 2',\n",
       " '#tdm_23 Mãe 3',\n",
       " '#tdm_23 Pai 2',\n",
       " '#tdm_23 Pai 3',\n",
       " '#tdm_23 Criança 14',\n",
       " '#tdm_23 Criança 15',\n",
       " '#tdm_23 Criança 16',\n",
       " '#tdm_23 Criança 17',\n",
       " '#tdm_23 Criança 18',\n",
       " '#tdm_23 Criança 19',\n",
       " '#tdm_23 Criança 20',\n",
       " '#tdm_23 Criança 21',\n",
       " '#tdm_23 Criança 22',\n",
       " '#tdm_23 Criança 23',\n",
       " '#tdm_23 Pai 4',\n",
       " '#tdm_23 Criança 24',\n",
       " '#tdm_23 Atendente 2',\n",
       " '#tdm_23 Atendente 3',\n",
       " '#tdm_23 Atendente 4',\n",
       " '#tdm_23 Criança 25',\n",
       " '#tdm_23 Criança 26',\n",
       " '#tdm_23 Criança 27',\n",
       " '#tdm_23 Criança 28',\n",
       " '#tdm_23 Criança 29',\n",
       " '#tdm_23 Criança 30',\n",
       " '#tdm_23 Atendente 5',\n",
       " '#tdm_23 Criança 31',\n",
       " '#tdm_23 Criança 32',\n",
       " '#tdm_23 Duende 2',\n",
       " '#tdm_23 Duende 3',\n",
       " '#tdm_23 Duende 4',\n",
       " '#tdm_23 Duende 5',\n",
       " 'Papai Noel',\n",
       " '#tdm_23 Duende 6',\n",
       " '#tdm_23 Duende 7',\n",
       " '#tdm_23 Rena 1',\n",
       " '#tdm_23 Rena 2',\n",
       " '#tdm_23 Rena 3',\n",
       " 'Professor Spada / Doutor Spam',\n",
       " 'Anjinho',\n",
       " 'Mingau',\n",
       " 'Magali',\n",
       " 'Dona Lili',\n",
       " 'Teveluisão',\n",
       " 'Mãe do Teveluisão',\n",
       " 'Bloguinho',\n",
       " '#tdm_23 Animal 1',\n",
       " 'Chico Bento',\n",
       " '#tdm_23 Animal 2',\n",
       " '#tdm_23 Animal 3',\n",
       " '#tdm_23 Animal 4',\n",
       " '#tdm_23 Animal 5',\n",
       " '#tdm_23 Animal 6',\n",
       " '#tdm_23 Animal 7',\n",
       " '#tdm_23 Animal 8',\n",
       " '#tdm_23 Animal 9',\n",
       " '#tdm_23 Animal 10',\n",
       " '#tdm_23 Animal 11',\n",
       " '#tdm_23 Animal 12',\n",
       " '#tdm_23 Animal 13',\n",
       " '#tdm_23 Animal 14',\n",
       " '#tdm_23 Animal 15',\n",
       " '#tdm_23 Animal 16',\n",
       " '#tdm_23 Animal 17',\n",
       " '#tdm_23 Animal 18',\n",
       " '#tdm_23 Animal 19',\n",
       " '#tdm_23 Animal 20',\n",
       " 'Rosinha',\n",
       " '#tdm_23 Animal 21',\n",
       " '#tdm_23 Animal 22',\n",
       " '#tdm_23 Animal 23',\n",
       " '#tdm_23 Animal 24',\n",
       " 'Piteco',\n",
       " 'Gronk']"
      ]
     },
     "execution_count": 6,
     "metadata": {},
     "output_type": "execute_result"
    }
   ],
   "source": [
    "hq.characters"
   ]
  },
  {
   "cell_type": "code",
   "execution_count": null,
   "metadata": {},
   "outputs": [],
   "source": []
  }
 ],
 "metadata": {
  "kernelspec": {
   "display_name": "Python 3",
   "language": "python",
   "name": "python3"
  },
  "language_info": {
   "codemirror_mode": {
    "name": "ipython",
    "version": 3
   },
   "file_extension": ".py",
   "mimetype": "text/x-python",
   "name": "python",
   "nbconvert_exporter": "python",
   "pygments_lexer": "ipython3",
   "version": "3.8.5"
  }
 },
 "nbformat": 4,
 "nbformat_minor": 4
}
