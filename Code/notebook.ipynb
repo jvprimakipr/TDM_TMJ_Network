{
 "cells": [
  {
   "cell_type": "code",
   "execution_count": 10,
   "metadata": {},
   "outputs": [],
   "source": [
    "import os\n",
    "import sys\n",
    "\n",
    "p = os.path.abspath('Functions')\n",
    "if p not in sys.path:\n",
    "    sys.path.append(p)\n",
    "from class_TM import TM\n",
    "from class_characters import characters"
   ]
  },
  {
   "cell_type": "code",
   "execution_count": 11,
   "metadata": {},
   "outputs": [],
   "source": [
    "import pandas as pd\n",
    "pd.set_option('display.max_rows', None)"
   ]
  },
  {
   "cell_type": "markdown",
   "metadata": {},
   "source": [
    "# Turma da Mônica Jovem"
   ]
  },
  {
   "cell_type": "code",
   "execution_count": 3,
   "metadata": {},
   "outputs": [],
   "source": [
    "c = characters('#tdm_39')"
   ]
  },
  {
   "cell_type": "code",
   "execution_count": 8,
   "metadata": {},
   "outputs": [],
   "source": [
    "pages = his1 + his2 + his3 + his4 + his5 + his6 + his7 + his8 + his9 + his10 + his11 + his12"
   ]
  },
  {
   "cell_type": "code",
   "execution_count": 4,
   "metadata": {},
   "outputs": [],
   "source": [
    "hq = TM()\n",
    "hq.inserts(pages)\n",
    "\n",
    "hq.unpack(f'Data/{c.comic_book}.csv')"
   ]
  },
  {
   "cell_type": "code",
   "execution_count": 5,
   "metadata": {},
   "outputs": [
    {
     "data": {
      "text/plain": [
       "29"
      ]
     },
     "execution_count": 5,
     "metadata": {},
     "output_type": "execute_result"
    }
   ],
   "source": [
    "hq.n_characters"
   ]
  },
  {
   "cell_type": "code",
   "execution_count": 37,
   "metadata": {},
   "outputs": [],
   "source": [
    "%run TDM/TDM14.py"
   ]
  },
  {
   "cell_type": "code",
   "execution_count": 38,
   "metadata": {},
   "outputs": [
    {
     "data": {
      "text/plain": [
       "116"
      ]
     },
     "execution_count": 38,
     "metadata": {},
     "output_type": "execute_result"
    }
   ],
   "source": [
    "hq = TM()\n",
    "hq.inserts(pages14)\n",
    "hq.n_characters"
   ]
  },
  {
   "cell_type": "code",
   "execution_count": 39,
   "metadata": {},
   "outputs": [
    {
     "data": {
      "text/plain": [
       "['Jotalhão',\n",
       " 'Rita Najura',\n",
       " 'Dudu',\n",
       " 'Magali',\n",
       " 'Bidu',\n",
       " 'Mônica',\n",
       " 'Cebolinha',\n",
       " 'Cascão',\n",
       " 'Bugu',\n",
       " '#tdm_33 Animal 1',\n",
       " 'Mingau',\n",
       " '#tdm_33 Mãe 1',\n",
       " '#tdm_33 Pai 1',\n",
       " '#tdm_33 Figurante 1',\n",
       " '#tdm_33 Figurante 2',\n",
       " '#tdm_33 Figurante 3',\n",
       " '#tdm_33 Figurante 4',\n",
       " '#tdm_33 Figurante 5',\n",
       " '#tdm_33 Figurante 6',\n",
       " '#tdm_33 Figurante 7',\n",
       " '#tdm_33 Criança 1',\n",
       " '#tdm_33 Criança 2',\n",
       " '#tdm_33 Criança 3',\n",
       " '#tdm_33 Criança 4',\n",
       " '#tdm_33 Criança 5',\n",
       " '#tdm_33 Criança 6',\n",
       " '#tdm_33 Criança 7',\n",
       " '#tdm_33 Criança 8',\n",
       " '#tdm_33 Criança 9',\n",
       " '#tdm_33 Criança 10',\n",
       " '#tdm_33 Criança 11',\n",
       " 'Dona Luísa',\n",
       " '#tdm_33 Atendente 1',\n",
       " '#tdm_33 Sombra 1',\n",
       " '#tdm_33 Criança 12',\n",
       " '#tdm_33 Criança 13',\n",
       " '#tdm_33 Criança 14',\n",
       " '#tdm_33 Criança 15',\n",
       " '#tdm_33 Sombra 2',\n",
       " '#tdm_33 Criança 16',\n",
       " '#tdm_33 Criança 17',\n",
       " '#tdm_33 Sombra 3',\n",
       " '#tdm_33 Atendente 2',\n",
       " '#tdm_33 Criança 18',\n",
       " '#tdm_33 Criança 19',\n",
       " '#tdm_33 Criança 20',\n",
       " '#tdm_33 Criança 21',\n",
       " 'Sansão',\n",
       " 'Irmãs Cebolinhas',\n",
       " 'Mãe Cebolinha',\n",
       " 'Chico Bento',\n",
       " 'Dona Cotinha',\n",
       " 'Senhor Bacon',\n",
       " 'Marina',\n",
       " '#tdm_33 Flor 1',\n",
       " '#tdm_33 Flor 2',\n",
       " '#tdm_33 Flor 3',\n",
       " '#tdm_33 Flor 4',\n",
       " '#tdm_33 Flor 5',\n",
       " '#tdm_33 Flor 6',\n",
       " '#tdm_33 Flor 7',\n",
       " '#tdm_33 Flor 8',\n",
       " '#tdm_33 Flor 9',\n",
       " '#tdm_33 Flor 10',\n",
       " 'Monicão',\n",
       " '#tdm_33 Animal 2',\n",
       " '#tdm_33 Animal 3',\n",
       " '#tdm_33 Animal 4',\n",
       " '#tdm_33 Animal 5',\n",
       " '#tdm_33 Cadeirão',\n",
       " 'Louco',\n",
       " '#tdm_33 Pai 2',\n",
       " '#tdm_33 Mãe 2',\n",
       " '#tdm_33 Criança 22',\n",
       " '#tdm_33 Criança 23',\n",
       " '#tdm_33 Criança 24',\n",
       " '#tdm_33 Criança 25',\n",
       " '#tdm_33 Criança 26',\n",
       " '#tdm_33 Criança 27',\n",
       " '#tdm_33 Sombra 4',\n",
       " '#tdm_33 Sombra 5',\n",
       " '#tdm_33 Sombra 6',\n",
       " '#tdm_33 Sombra 7',\n",
       " '#tdm_33 Sombra 8',\n",
       " '#tdm_33 Lorde Orelhão',\n",
       " '#tdm_33 Laika',\n",
       " '#tdm_33 Pirulito',\n",
       " '#tdm_33 Paçoquinha',\n",
       " '#tdm_33 Atropelado',\n",
       " '#tdm_33 Farofa',\n",
       " '#tdm_33 Condessa',\n",
       " '#tdm_33 Filhote 1',\n",
       " '#tdm_33 Filhote 2',\n",
       " '#tdm_33 Filhote 3',\n",
       " '#tdm_33 Filhote 4',\n",
       " '#tdm_33 Filhote 5',\n",
       " '#tdm_33 Filhote 6',\n",
       " '#tdm_33 Cachorro 1',\n",
       " '#tdm_33 Cachorro 2',\n",
       " 'Floquinho',\n",
       " 'Franjinha',\n",
       " 'Dorinha',\n",
       " 'Cachorro da Dorinha',\n",
       " '#tdm_33 Figurante 8',\n",
       " '#tdm_33 Figurante 9',\n",
       " '#tdm_33 Figurante 10',\n",
       " '#tdm_33 Figurante 11',\n",
       " '#tdm_33 Figurante 12',\n",
       " 'Manfredo',\n",
       " '#tdm_33 Figurante 13',\n",
       " '#tdm_33 Figurante 14',\n",
       " '#tdm_33 Figurante 15',\n",
       " 'Dona Morte',\n",
       " '#tdm_33 Homem 1',\n",
       " '#tdm_33 Homem 2',\n",
       " '#tdm_33 Homem 3']"
      ]
     },
     "execution_count": 39,
     "metadata": {},
     "output_type": "execute_result"
    }
   ],
   "source": [
    "hq.characters"
   ]
  },
  {
   "cell_type": "code",
   "execution_count": null,
   "metadata": {},
   "outputs": [],
   "source": []
  },
  {
   "cell_type": "code",
   "execution_count": null,
   "metadata": {},
   "outputs": [],
   "source": []
  }
 ],
 "metadata": {
  "kernelspec": {
   "display_name": "Python 3",
   "language": "python",
   "name": "python3"
  },
  "language_info": {
   "codemirror_mode": {
    "name": "ipython",
    "version": 3
   },
   "file_extension": ".py",
   "mimetype": "text/x-python",
   "name": "python",
   "nbconvert_exporter": "python",
   "pygments_lexer": "ipython3",
   "version": "3.8.5"
  }
 },
 "nbformat": 4,
 "nbformat_minor": 4
}
