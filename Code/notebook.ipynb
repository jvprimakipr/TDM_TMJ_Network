{
 "cells": [
  {
   "cell_type": "code",
   "execution_count": 10,
   "metadata": {},
   "outputs": [],
   "source": [
    "import os\n",
    "import sys\n",
    "\n",
    "p = os.path.abspath('Functions')\n",
    "if p not in sys.path:\n",
    "    sys.path.append(p)\n",
    "from class_TM import TM\n",
    "from class_characters import characters"
   ]
  },
  {
   "cell_type": "code",
   "execution_count": 11,
   "metadata": {},
   "outputs": [],
   "source": [
    "import pandas as pd\n",
    "pd.set_option('display.max_rows', None)"
   ]
  },
  {
   "cell_type": "markdown",
   "metadata": {},
   "source": [
    "# Turma da Mônica Jovem"
   ]
  },
  {
   "cell_type": "code",
   "execution_count": 3,
   "metadata": {},
   "outputs": [],
   "source": [
    "c = characters('#tdm_39')"
   ]
  },
  {
   "cell_type": "code",
   "execution_count": 8,
   "metadata": {},
   "outputs": [],
   "source": [
    "pages = his1 + his2 + his3 + his4 + his5 + his6 + his7 + his8 + his9 + his10 + his11 + his12"
   ]
  },
  {
   "cell_type": "code",
   "execution_count": 4,
   "metadata": {},
   "outputs": [],
   "source": [
    "hq = TM()\n",
    "hq.inserts(pages)\n",
    "\n",
    "hq.unpack(f'Data/{c.comic_book}.csv')"
   ]
  },
  {
   "cell_type": "code",
   "execution_count": 5,
   "metadata": {},
   "outputs": [
    {
     "data": {
      "text/plain": [
       "29"
      ]
     },
     "execution_count": 5,
     "metadata": {},
     "output_type": "execute_result"
    }
   ],
   "source": [
    "hq.n_characters"
   ]
  },
  {
   "cell_type": "code",
   "execution_count": 16,
   "metadata": {},
   "outputs": [],
   "source": [
    "%run TDM/TDM11.py"
   ]
  },
  {
   "cell_type": "code",
   "execution_count": 17,
   "metadata": {},
   "outputs": [],
   "source": [
    "hq = TM()\n",
    "hq.inserts(pages11)"
   ]
  },
  {
   "cell_type": "code",
   "execution_count": 18,
   "metadata": {},
   "outputs": [
    {
     "data": {
      "text/plain": [
       "87"
      ]
     },
     "execution_count": 18,
     "metadata": {},
     "output_type": "execute_result"
    }
   ],
   "source": [
    "hq.n_characters"
   ]
  },
  {
   "cell_type": "code",
   "execution_count": 19,
   "metadata": {},
   "outputs": [
    {
     "data": {
      "text/plain": [
       "['Dona Cebola',\n",
       " 'Mônica',\n",
       " 'Magali',\n",
       " 'Cebolinha',\n",
       " 'Cascão',\n",
       " '#tdm_30 Sombra 1',\n",
       " '#tdm_30 Sombra 2',\n",
       " '#tdm_30 Sombra 3',\n",
       " '#tdm_30 Sombra 4',\n",
       " 'Sansão',\n",
       " '#tdm_30 Criança 1',\n",
       " '#tdm_30 Atendente 1',\n",
       " '#tdm_30 Atendente 2',\n",
       " '#tdm_30 Figurante 1',\n",
       " '#tdm_30 Sombra 5',\n",
       " '#tdm_30 Sombra 6',\n",
       " '#tdm_30 Criança 2',\n",
       " '#tdm_30 Criança 3',\n",
       " '#tdm_30 Criança 4',\n",
       " '#tdm_30 Criança 5',\n",
       " '#tdm_30 Criança 6',\n",
       " '#tdm_30 Criança 7',\n",
       " '#tdm_30 Criança 8',\n",
       " '#tdm_30 Sombra 7',\n",
       " '#tdm_30 Sombra 8',\n",
       " '#tdm_30 Sombra 9',\n",
       " '#tdm_30 Sombra 10',\n",
       " '#tdm_30 Sombra 11',\n",
       " '#tdm_30 Sombra 12',\n",
       " '#tdm_30 Sombra 13',\n",
       " '#tdm_30 Sombra 14',\n",
       " 'Seu Cebola',\n",
       " '#tdm_30 Figurante 2',\n",
       " 'Dona Luísa',\n",
       " 'Seu Souza',\n",
       " 'Seu Antenor',\n",
       " 'Piteco',\n",
       " 'Thuga',\n",
       " '#tdm_30 Dinossauro 1',\n",
       " 'Monicão',\n",
       " 'Frank',\n",
       " 'Sherlock Holmes',\n",
       " 'Zé Caveirinha',\n",
       " 'Lobi',\n",
       " 'Muminho',\n",
       " 'Penadinho',\n",
       " 'Alminha',\n",
       " 'Zé Cremadinho',\n",
       " 'Cranicóla',\n",
       " 'Mulher do Cranicóla',\n",
       " 'Zé Vampir',\n",
       " 'Gorila',\n",
       " 'Pé Grande',\n",
       " 'Hulk',\n",
       " '#tdm_30 Figurante 3',\n",
       " '#tdm_30 Figurante 4',\n",
       " 'Titi',\n",
       " 'Jeremias',\n",
       " 'Manezinho',\n",
       " 'Carminha Frufru',\n",
       " '#tdm_30 Animal 1',\n",
       " '#tdm_30 Figurante 5',\n",
       " '#tdm_30 Figurante 6',\n",
       " '#tdm_30 Figurante 7',\n",
       " '#tdm_30 Figurante 8',\n",
       " 'Luca',\n",
       " '#tdm_30 Animal 2',\n",
       " '#tdm_30 Animal 3',\n",
       " '#tdm_30 Animal 4',\n",
       " '#tdm_30 Animal 5',\n",
       " '#tdm_30 Animal 6',\n",
       " '#tdm_30 Animal 7',\n",
       " '#tdm_30 Animal 8',\n",
       " '#tdm_30 Animal 9',\n",
       " 'Franjinha',\n",
       " 'Bidu',\n",
       " 'Zé Lelé',\n",
       " '#tdm_30 Animal 10',\n",
       " '#tdm_30 Animal 11',\n",
       " '#tdm_30 Animal 12',\n",
       " '#tdm_30 Animal 13',\n",
       " 'Homem de Chumbo',\n",
       " 'Zing Mascarado',\n",
       " '#tdm_30 Animal 14',\n",
       " '#tdm_30 Animal 15',\n",
       " '#tdm_30 Animal 16',\n",
       " 'Alberto Aíston']"
      ]
     },
     "execution_count": 19,
     "metadata": {},
     "output_type": "execute_result"
    }
   ],
   "source": [
    "hq.characters"
   ]
  },
  {
   "cell_type": "code",
   "execution_count": null,
   "metadata": {},
   "outputs": [],
   "source": []
  }
 ],
 "metadata": {
  "kernelspec": {
   "display_name": "Python 3",
   "language": "python",
   "name": "python3"
  },
  "language_info": {
   "codemirror_mode": {
    "name": "ipython",
    "version": 3
   },
   "file_extension": ".py",
   "mimetype": "text/x-python",
   "name": "python",
   "nbconvert_exporter": "python",
   "pygments_lexer": "ipython3",
   "version": "3.8.5"
  }
 },
 "nbformat": 4,
 "nbformat_minor": 4
}
