{
 "cells": [
  {
   "cell_type": "code",
   "execution_count": 1,
   "id": "medieval-bernard",
   "metadata": {},
   "outputs": [],
   "source": [
    "%run TMJ/TMJ_01.py\n",
    "%run TMJ/TMJ_02.py\n",
    "%run TMJ/TMJ_03.py\n",
    "%run TMJ/TMJ_04.py"
   ]
  },
  {
   "cell_type": "code",
   "execution_count": 2,
   "id": "nonprofit-computer",
   "metadata": {},
   "outputs": [],
   "source": [
    "comic_books = [pages1,\n",
    "               pages2,\n",
    "               pages3,\n",
    "               pages4]\n",
    "#                pages5,\n",
    "#                pages6,\n",
    "#                pages7,\n",
    "#                pages8,\n",
    "#                pages9,\n",
    "#                pages10,\n",
    "#                pages11,\n",
    "#                pages12,\n",
    "#                pages13,\n",
    "#                pages14,\n",
    "#                pages15,\n",
    "#                pages16,\n",
    "#                pages17,\n",
    "#                pages18,\n",
    "#                pages19,\n",
    "#                pages20,\n",
    "#                pages21,\n",
    "#                pages22,\n",
    "#                pages23,\n",
    "#                pages24,\n",
    "#                pages25]"
   ]
  },
  {
   "cell_type": "code",
   "execution_count": 3,
   "id": "several-captain",
   "metadata": {},
   "outputs": [],
   "source": [
    "for i in range(len(comic_books)):\n",
    "    if comic_books[i] != []:\n",
    "        try:\n",
    "            cb = TM()\n",
    "            cb.inserts(comic_books[i])\n",
    "            cb.pack(f'Data/1tmj_0{i + 1}.csv')\n",
    "        except:\n",
    "            pass"
   ]
  }
 ],
 "metadata": {
  "kernelspec": {
   "display_name": "Python 3 (ipykernel)",
   "language": "python",
   "name": "python3"
  },
  "language_info": {
   "codemirror_mode": {
    "name": "ipython",
    "version": 3
   },
   "file_extension": ".py",
   "mimetype": "text/x-python",
   "name": "python",
   "nbconvert_exporter": "python",
   "pygments_lexer": "ipython3",
   "version": "3.8.10"
  }
 },
 "nbformat": 4,
 "nbformat_minor": 5
}
