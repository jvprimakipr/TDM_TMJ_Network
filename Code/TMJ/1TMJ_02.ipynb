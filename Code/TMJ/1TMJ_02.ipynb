{
 "cells": [
  {
   "cell_type": "code",
   "execution_count": 1,
   "metadata": {},
   "outputs": [],
   "source": [
    "import os\n",
    "import sys\n",
    "\n",
    "p = os.path.abspath('..\\Functions')\n",
    "if p not in sys.path:\n",
    "    sys.path.append(p)\n",
    "from class_TM import TM\n",
    "from class_characters import characters"
   ]
  },
  {
   "cell_type": "markdown",
   "metadata": {},
   "source": [
    "# A Aventura Continua!"
   ]
  },
  {
   "cell_type": "markdown",
   "metadata": {},
   "source": [
    "## 4. Mavidele - Pág 7\n",
    "## 5. O Unicórnio Gêmeo Saltitante - Pág 26\n",
    "## 6. As Três Torres - Pág 47\n",
    "## 7. A Feiticeira e o Dragão - Pág 76"
   ]
  },
  {
   "cell_type": "code",
   "execution_count": 2,
   "metadata": {},
   "outputs": [],
   "source": [
    "c = characters()\n",
    "#c.reset()\n",
    "c.comic_book = '#1tmj02'"
   ]
  },
  {
   "cell_type": "code",
   "execution_count": 3,
   "metadata": {},
   "outputs": [],
   "source": [
    "cap1 = [[c.beg, c.mon, c.ceb, c.mag, c.cas, c.end], #capa\n",
    "        #[],\n",
    "        #[],\n",
    "        #[],\n",
    "        #[],\n",
    "        #[],\n",
    "        [c.beg, c.mon, c.ceb, c.mag, c.cas, c.ebor],\n",
    "        [c.mon, c.ceb, c.mag, c.cas, c.ebor],\n",
    "        [c.mon, c.ceb, c.mag, c.cas, c.ebor],\n",
    "        [c.ceb, c.mag, c.cas, c.ebor],\n",
    "        [c.mon, c.ebor],\n",
    "        [c.ceb, c.mag, c.cas, c.ebor],\n",
    "        [c.mon, c.ceb, c.mag, c.cas, c.ebor],\n",
    "        [c.mon, c.ceb, c.mag, c.cas, c.ebor],\n",
    "        [c.mon, c.ceb, c.mag, c.cas, c.ebor],\n",
    "        [c.ceb],\n",
    "        [c.cas],\n",
    "        [c.mag],\n",
    "        [c.mon],\n",
    "        [c.mon, c.ceb, c.mag, c.yuk],\n",
    "        [c.franj, c.fal, c.cap, c.yuk],\n",
    "        [c.cap, c.yuk],\n",
    "        [c.cap, c.yuk],\n",
    "        [c.cap, c.yuk],\n",
    "        [c.mon, c.ceb, c.mag, c.cas, c.shade(), c.shade(), c.shade(), c.fig(), c.fig(), c.end]]\n",
    "cap2 = [[c.beg, c.mon, c.ceb, c.mag, c.cas, c.van, c.val, 'Elfo', 'Bárbaro', 'Anão 1', 'Anão 2', 'Pet 1', 'Pet 2'],\n",
    "        [c.mon, c.ceb, c.mag, c.cas, c.van, c.val, 'Elfo', 'Bárbaro', 'Anão 1', 'Anão 2', 'Pet 1', 'Pet 2'],\n",
    "        [c.ceb, c.val],\n",
    "        [c.ceb, c.van],\n",
    "        [c.mon, c.ceb, c.mag, c.cas],\n",
    "        [c.mon, c.ceb, c.mag, c.cas],\n",
    "        [c.mon, c.ceb, c.van, c.val],\n",
    "        [c.ceb, c.cas, c.van, c.val],\n",
    "        [c.ceb, c.cas, 'Bárbaro', 'Viking', 'Orc'],\n",
    "        [c.mon, c.ceb, c.mag, c.cas, c.van, c.val],\n",
    "        [c.mon, c.ceb, c.cas, 'Bárbaro', 'Viking'],\n",
    "        [c.mon, c.mag, c.cas, c.van, 'Viking', 'Orc'],\n",
    "        [c.mon, c.mag, c.van, c.val, 'Bárbaro', 'Orc'],\n",
    "        [c.mon, c.ceb, c.mag, c.cas, 'Bárbaro', 'Viking', 'Orc'],\n",
    "        [c.mon, c.ceb, c.mag, c.cas, 'Óinc 1', 'Óinc 2', c.shade(), c.shade(), c.shade(), c.shade(), c.shade()],\n",
    "        [c.mon, c.ceb, c.mag, c.cas, 'Óinc 1', 'Óinc 2', c.shade(), c.shade(), c.shade(), c.shade(), c.shade()],\n",
    "        [c.mon, c.ceb, c.cas, 'Óinc 1', c.shade(add=-4), c.shade(add=-3), c.shade(add=-2), c.shade(add=-1), c.shade(add=0)],\n",
    "        [c.mon, c.ceb, c.mag, 'Óinc 1', 'Óinc 2', 'Óinc 3'],\n",
    "        [c.mon, c.ceb, c.mag, 'Óinc 1', 'Óinc 2'],\n",
    "        [c.mon, c.ceb, c.mag, c.cas],\n",
    "        [c.mon, c.ceb, c.mag, c.cas, c.end]]\n",
    "cap3 = [[c.beg, c.mon, c.cas],\n",
    "        [c.ceb, c.mag, c.cas],\n",
    "        [c.cas, 'Minotauro'],\n",
    "        [c.mon, c.ceb, c.mag, c.cas, 'Minotauro'],\n",
    "        [c.ceb, 'Minotauro'],\n",
    "        [c.mon, c.mag, c.cas],\n",
    "        [c.mon, c.ceb, 'Minotauro', 'Zarolho'],\n",
    "        [c.mon, c.ceb, c.cas, 'Minotauro'],\n",
    "        [c.mon, c.ceb, c.mag, c.cas],\n",
    "        [c.mon, c.ceb, 'Gigante de Pedra'],\n",
    "        [c.mon, c.ceb, c.mag, 'Gigante de Pedra'],\n",
    "        [c.mon, c.ceb, c.mag, c.cas, 'Gigante de Pedra'],\n",
    "        [c.mon, c.ceb, 'Fada da Ilha Sonífera', 'Duende 1', 'Duende 2', 'Duende 3'],\n",
    "        [c.mon, c.ceb, c.cas, 'Fada da Ilha Sonífera'],\n",
    "        [c.mon, c.ceb, c.mag, c.cas, 'Fada da Ilha Sonífera'],\n",
    "        [c.mon, c.ceb, c.mag, c.cas, 'Fada da Ilha Sonífera', 'Duende 2'],\n",
    "        [c.mon, c.ceb, 'Fada da Ilha Sonífera'],\n",
    "        [c.mon, c.ceb, c.mag, c.cas, 'Duende 2'],\n",
    "        [c.mon, c.ceb, c.mag, c.cas],\n",
    "        [c.mon, c.ceb, c.mag, c.cas],\n",
    "        [c.mon, c.ceb, c.mag, c.cas, 'Guerreiro Anão 1', 'Arqueiro Anão 1', 'Arqueiro Anão 2', 'Arqueiro Anão 3', 'Arqueiro Anão 4'],\n",
    "        [c.mag, c.cas, 'Guerreiro Anão 2', 'Guerreiro Anão 3', c.shade(), c.shade(), c.shade(), c.shade(), c.shade(), c.shade(), c.shade()],\n",
    "        [c.mag, c.cas, c.min, 'Guerreiro Anão 4'],\n",
    "        [c.mag, c.cas, c.min],\n",
    "        [c.mag, c.cas, c.min, 'Guerreiro Anão 5', 'Guerreiro Anão 6'],\n",
    "        [c.mon, c.ceb, c.mag, c.cas, 'Guerreiro Anão 7'],\n",
    "        [c.mon, c.ceb, c.mag, c.cas, 'Guerreiro Anão 8', 'Guerreiro Anão 9', 'Guerreiro Anão 10'],\n",
    "        [c.mon, c.ceb, c.mag, c.cas, c.min, 'Guerreiro Anão 10'],\n",
    "        [c.mon, c.ceb, c.mag, c.cas, c.end]]\n",
    "cap4 = [[c.beg, c.mon, c.ceb, c.mag, c.cas, c.yuk],\n",
    "        [c.mon, c.ceb, c.mag, c.cas, c.yuk],\n",
    "        [c.cap, c.yuk],\n",
    "        [c.mon, c.ceb, c.mag],\n",
    "        [c.mon, c.ceb, c.mag, c.ark],\n",
    "        [c.mon, c.ceb, c.mag, c.cas, c.ark],\n",
    "        [c.mon, c.ceb, c.mag, c.cas, c.ark],\n",
    "        [c.mon, c.ceb, c.cas, c.cap, 'Guarda Anão 1', 'Guarda Anão 2', 'Guarda Anão 3', 'Guarda Anão 4', 'Guarda Anão 5'],\n",
    "        [c.mag, c.cas, c.cap, 'Guarda Anão 3', 'Guarda Anão 4'],\n",
    "        [c.mon, c.ceb, c.cas, c.cap],\n",
    "        [c.mon, c.ceb, c.mag, c.cas, c.cap, 'Guarda Anão 3', 'Guarda Anão 4'],\n",
    "        [c.mon, c.ceb, c.cas, c.cap, 'Guarda Anão 6'],\n",
    "        [c.mon, c.ceb, c.mag, c.cas],\n",
    "        [c.mon, c.ceb, c.mag, c.cas, c.cap, 'Guarda Anão 2', 'Guarda Anão 3'],\n",
    "        [c.mon, c.ceb, c.cas, c.cap],\n",
    "        [c.mon, c.ceb, c.cas],\n",
    "        [c.mon, c.ceb, c.mag, c.cas],\n",
    "        [c.mon, c.ceb, c.mag, c.cas],\n",
    "        [c.mon, c.ceb, c.cas, 'General El Osso', 'Esqueleto 1', 'Esqueleto 2', 'Esqueleto 3', 'Esqueleto 4', 'Esqueleto 5', 'Esqueleto 6', 'Esqueleto 7', 'Esqueleto 8', 'Esqueleto 9'],\n",
    "        [c.mon, c.ceb, c.cas, 'General El Osso', 'Esqueleto 1'],\n",
    "        [c.cap, c.yuk, 'Guarda Anão 3'],\n",
    "        [c.mon, c.ceb, c.mag, c.cas, 'Esqueleto 2', 'Esqueleto 3'],\n",
    "        [c.mon, c.ceb, c.cas, c.ark],\n",
    "        [c.mon, c.ceb, c.ark],\n",
    "        [c.ceb, c.mag, c.cas, c.ark],\n",
    "        [c.ceb, c.mag],\n",
    "        [c.ceb, c.ark],\n",
    "        [c.ceb, c.mag, c.cas, c.ark],\n",
    "        [c.cap, c.yuk],\n",
    "        [c.mon, c.ceb, c.yuk, c.ark],\n",
    "        [c.mon, c.ceb, c.cap, c.yuk],\n",
    "        [c.mon, c.ceb, c.mag, c.cas],\n",
    "        [c.mon, c.ceb, c.cas],\n",
    "        [c.mon, c.ceb, c.mag, c.cas],\n",
    "        [c.mag, c.cap, c.yuk, c.ark],\n",
    "        [c.mon, c.ceb, c.mag, c.cas, c.cap, c.yuk, c.ark],\n",
    "        [c.mon, c.ceb, c.mag, c.cas, c.ark],\n",
    "        [c.mon, c.cas, c.ark],\n",
    "        [c.mon, c.ark],\n",
    "        [c.mon, c.ceb, c.mag, c.cas, c.ark],\n",
    "        [c.mon, c.yuk, c.ark],\n",
    "        [c.mon, c.mag, c.cas, c.ark],\n",
    "        [c.mon, c.ceb, c.mag, c.cas, c.ark],\n",
    "        [c.mon, c.ceb, c.mag, c.cas, c.ezep],\n",
    "        [c.mon, c.ceb, c.mag, c.cas, c.ezep],\n",
    "        [c.mon, c.ceb, c.mag, c.cas, c.ezep, c.ark],\n",
    "        [c.yuk, c.ark],\n",
    "        [c.cap, c.yuk],\n",
    "        [c.franj, c.fal, c.cap, c.yuk],\n",
    "        [c.cap, c.yuk],\n",
    "        [c.mon, c.ceb, c.mag, c.cas, c.ezep, c.yuk, c.end],\n",
    "        #[],\n",
    "        #[],\n",
    "        #[],\n",
    "        #[],\n",
    "        #[],\n",
    "        [c.mag, c.cas]] #4º Capa"
   ]
  },
  {
   "cell_type": "code",
   "execution_count": 4,
   "metadata": {},
   "outputs": [],
   "source": [
    "pages = cap1 + cap2 + cap3 + cap4"
   ]
  },
  {
   "cell_type": "code",
   "execution_count": 5,
   "metadata": {},
   "outputs": [],
   "source": [
    "hq = TM()\n",
    "hq.inserts(pages)\n",
    "\n",
    "hq.pack(f'../Data/{c.comic_book}.csv')"
   ]
  },
  {
   "cell_type": "code",
   "execution_count": 6,
   "metadata": {},
   "outputs": [
    {
     "data": {
      "text/plain": [
       "84"
      ]
     },
     "execution_count": 6,
     "metadata": {},
     "output_type": "execute_result"
    }
   ],
   "source": [
    "hq.n_characters"
   ]
  },
  {
   "cell_type": "code",
   "execution_count": null,
   "metadata": {},
   "outputs": [],
   "source": []
  }
 ],
 "metadata": {
  "kernelspec": {
   "display_name": "Python 3 (ipykernel)",
   "language": "python",
   "name": "python3"
  },
  "language_info": {
   "codemirror_mode": {
    "name": "ipython",
    "version": 3
   },
   "file_extension": ".py",
   "mimetype": "text/x-python",
   "name": "python",
   "nbconvert_exporter": "python",
   "pygments_lexer": "ipython3",
   "version": "3.8.10"
  }
 },
 "nbformat": 4,
 "nbformat_minor": 4
}
