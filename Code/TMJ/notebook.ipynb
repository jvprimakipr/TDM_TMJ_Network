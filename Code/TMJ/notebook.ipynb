{
 "cells": [
  {
   "cell_type": "code",
   "execution_count": 1,
   "metadata": {},
   "outputs": [],
   "source": [
    "import os\n",
    "import sys\n",
    "\n",
    "p = os.path.abspath('..\\Functions')\n",
    "if p not in sys.path:\n",
    "    sys.path.append(p)\n",
    "from class_TM import TM\n",
    "from class_characters import characters"
   ]
  },
  {
   "cell_type": "markdown",
   "metadata": {},
   "source": [
    "# As Aventuras do dia-a-dia"
   ]
  },
  {
   "cell_type": "code",
   "execution_count": 6,
   "metadata": {},
   "outputs": [],
   "source": [
    "c = characters()\n",
    "c.comic_book = '#1tmj05'"
   ]
  },
  {
   "cell_type": "code",
   "execution_count": 7,
   "metadata": {},
   "outputs": [],
   "source": [
    "cap1 = [[c.beg, c.mon, c.ceb, c.mag, c.cas, c.tit, c.den, c.end], #Capa - As Aventuras do dia-a-dia\n",
    "        [],\n",
    "        [],\n",
    "        [],\n",
    "        [],\n",
    "        [],\n",
    "        [c.beg, c.mon, c.ceb, c.mag, c.fig()], #1. Onze coisas que as garotas amam!! - Pág 7\n",
    "        [c.mon, c.ceb] + c.crowd(figs=0, shades=8),\n",
    "        [c.mon, c.ceb] + c.crowd(1),\n",
    "        [c.mon, c.ceb, c.mag, c.cas],\n",
    "        [c.mon, c.ceb, c.mag, c.cas],\n",
    "        [c.mon, c.ceb, c.mag, c.cas],\n",
    "        [c.mon, c.ceb],\n",
    "        [c.mon, c.ceb, c.mag, c.ire],\n",
    "        [c.mon, c.ceb, c.mag, c.ire],\n",
    "        [c.mon, c.ceb, c.mag, c.ire],\n",
    "        [c.mon, c.ceb, c.mag] + c.figs(4) + c.shades(2),\n",
    "        [c.mon, c.mag],\n",
    "        [c.mon, c.ceb],\n",
    "        [c.mon, c.ceb, c.mag],\n",
    "        [c.mon, c.mag, c.mmon],\n",
    "        [c.mon, c.mag, c.san],\n",
    "        [2, [c.mon, c.ceb], [c.mon, c.mag]],\n",
    "        [c.mon, c.mag, c.san],\n",
    "        [c.mon, c.mag],\n",
    "        [c.mon, c.mag],\n",
    "        [c.mon, c.mag, c.mmon],\n",
    "        [c.mon, c.mag, c.mmon],\n",
    "        [c.mon, c.mag, c.mmon],\n",
    "        [c.mon, c.mag, c.mmon],\n",
    "        [c.mon, c.mag, c.mmon],\n",
    "        [c.mon, c.mag, c.mmon],\n",
    "        [c.mon, c.mag, c.mmon],\n",
    "        [c.mon, c.mag, c.mmon],\n",
    "        [c.mon, c.mag, c.mmon],\n",
    "        [c.mon, c.mag, c.mmon],\n",
    "        [c.mon, c.mag, c.mmon],\n",
    "        [c.mon, c.mag, c.mmon],\n",
    "        [c.mon, c.den, c.marcas],\n",
    "        [c.mon, c.mag, c.den, c.marcas, c.mmon],\n",
    "        [c.mon, c.mag, c.den, c.marcas, c.mmon],\n",
    "        [c.mon, c.mag, c.den, c.marcas, c.mmon],\n",
    "        [c.mon, c.mag, c.den, c.marcas, c.mmon],\n",
    "        [c.mmon, c.pmon] + c.figs(4),\n",
    "        [c.mon, c.mag, c.den, c.marcas, c.mmon, c.shade()],\n",
    "        [c.mon, c.mag, c.den, c.mmon, c.ID('Cabeleireira'), c.ID('Manicure'), c.ID('Cabeleireiro')],\n",
    "        [c.mon, c.mag, c.den, c.mmon, c.ID('Massagista')],\n",
    "        [c.mon, c.den, c.mmon, c.att()],\n",
    "        [c.mon, c.mag, c.den, c.marcas],\n",
    "        [c.mon, c.mag, c.den, c.marcas, c.mmon],\n",
    "        [c.mon, c.mag, c.den, c.marcas, c.att()],\n",
    "        [c.mon, c.mag, c.den, c.marcas, c.att(add=0)],\n",
    "        [c.mon, c.mag, c.marcas, c.mmon] + c.figs(2),\n",
    "        [c.mon, c.mag, c.den],\n",
    "        [c.mon, c.mag, c.den, c.marcas, c.mmon, c.fig()] + c.shades(3),\n",
    "        [c.mon, c.mag, c.den, c.marcas, c.mmon],\n",
    "        [c.mon, c.mag, c.den, c.marcas],\n",
    "        [c.mon, c.mag, c.mmon] + c.figs(2) + c.shades(3),\n",
    "        [c.mon, c.mag, c.den, c.marcas, c.mmon],\n",
    "        [c.mon, c.ceb, c.mag, c.den, c.marcas],\n",
    "        [c.mon, c.ceb],\n",
    "        [c.mon, c.ceb, c.den],\n",
    "        [c.mon, c.ceb],\n",
    "        [c.mag, c.den, c.marcas, c.mmon],\n",
    "        [c.mon, c.ceb, c.den, c.mmon],\n",
    "        [c.mon, c.ceb, c.mag, c.den, c.marcas],\n",
    "        [c.end]]\n",
    "cap2 = [[c.mon, c.mag] + c.figs(2), #2. Os meninos são todos iguais! - Pág 68\n",
    "        [c.mon, c.mag, c.shade()],\n",
    "        [c.mon, c.mag, c.den],\n",
    "        [c.mon, c.mag, c.den],\n",
    "        [c.mon, c.mag, c.den],\n",
    "        [c.mon, c.mag, c.den],\n",
    "        [c.mon, c.mag, c.den, c.rub],\n",
    "        [c.mon, c.ceb],\n",
    "        [c.mon, c.ceb, c.cas],\n",
    "        [c.mon, c.ceb, c.cas, c.san],\n",
    "        [c.mon, c.ceb, c.mag, c.cas, c.xav, c.den, c.rub] + c.figs(2),\n",
    "        [c.mon, c.mag, c.den, c.san],\n",
    "        [c.mon, c.mag, c.den],\n",
    "        [c.mon, c.den, c.san],\n",
    "        [c.mon, c.mag, c.den],\n",
    "        [c.mon, c.mag, c.den],\n",
    "        [c.mon, c.mag, c.den],\n",
    "        [c.mon, c.mag, c.den],\n",
    "        [c.mon, c.mag, c.den],\n",
    "        [c.mon, c.den],\n",
    "        [2, [c.mon, c.mag, c.den], [c.ceb, c.cas, c.tit]],\n",
    "        [c.mon, c.mag, c.den],\n",
    "        [c.mon, c.mag, c.san],\n",
    "        [c.mon, c.mag, c.den],\n",
    "        [c.mon, c.mag, c.den],\n",
    "        [c.mon, c.mag, c.den],\n",
    "        [c.mon, c.mag, c.den],\n",
    "        [c.mon, c.mag, c.den],\n",
    "        [c.mon, c.mag, c.den],\n",
    "        [c.mon, c.mag, c.den],\n",
    "        [c.mon, c.mag, c.den],\n",
    "        [c.mag, c.den],\n",
    "        [c.mon, c.mag, c.den],\n",
    "        [c.mon, c.mag],\n",
    "        [c.mon, c.mag],\n",
    "        [c.mon, c.mag],\n",
    "        [c.mon, c.ceb],\n",
    "        [c.mon, c.ceb],\n",
    "        [c.mon, c.ceb],\n",
    "        [c.mon, c.ceb],\n",
    "        [c.mon, c.ceb, c.cas, c.tit] + c.crowd(),\n",
    "        [c.mon, c.ceb, c.cas, c.tit] + c.crowd(2),\n",
    "        [c.mon, c.cas, c.tit],\n",
    "        [c.mon, c.ceb, c.cas, c.tit],\n",
    "        [c.mon, c.ceb, c.cas],\n",
    "        [2, [c.mon, c.cas], [c.mon, c.ceb, c.mag, c.cas, c.tit, c.den, c.fig(add=-4), c.fig(add=-3), c.fig(add=-2), c.fig(add=-1), c.fig(add=0)] + c.figs(2)],\n",
    "        [c.mon, c.mag, c.den],\n",
    "        [c.mon, c.ceb, c.mag, c.cas, c.tit, c.den, c.fig(add=-2), c.fig(add=0)]]\n",
    "cap3 = [[c.ceb, c.cas, c.tit], #3. Pai! Me empresta a chave do carro? - Pág 116\n",
    "        [c.ceb, c.cas, c.tit, c.pceb],\n",
    "        [c.ceb, c.cas, c.tit],\n",
    "        [c.ceb, c.cas, c.tit, c.pceb],\n",
    "        [c.ceb, c.cas],\n",
    "        [c.ceb, c.cas, c.tit, c.pceb],\n",
    "        [c.ceb, c.cas, c.tit, c.pceb],\n",
    "        [c.ceb, c.cas, c.tit, c.pceb],\n",
    "        [c.mon, c.ceb, c.cas, c.tit, c.floq],\n",
    "        [c.ceb, c.cas, c.tit],\n",
    "        [c.ceb, c.cas],\n",
    "        [c.cas, c.pcas],\n",
    "        [],\n",
    "        [],\n",
    "        [],\n",
    "        [],\n",
    "        [c.anj]] #4 Capa"
   ]
  },
  {
   "cell_type": "code",
   "execution_count": 8,
   "metadata": {},
   "outputs": [],
   "source": [
    "pages = cap1 + cap2 + cap3"
   ]
  },
  {
   "cell_type": "code",
   "execution_count": 9,
   "metadata": {},
   "outputs": [],
   "source": [
    "hq = TM()\n",
    "hq.inserts(pages)\n",
    "\n",
    "hq.pack(f'../Data/{c.comic_book}.csv')"
   ]
  },
  {
   "cell_type": "code",
   "execution_count": 10,
   "metadata": {},
   "outputs": [
    {
     "data": {
      "text/plain": [
       "71"
      ]
     },
     "execution_count": 10,
     "metadata": {},
     "output_type": "execute_result"
    }
   ],
   "source": [
    "hq.n_characters"
   ]
  },
  {
   "cell_type": "code",
   "execution_count": null,
   "metadata": {},
   "outputs": [],
   "source": [
    "hq.characters"
   ]
  }
 ],
 "metadata": {
  "kernelspec": {
   "display_name": "Python 3",
   "language": "python",
   "name": "python3"
  },
  "language_info": {
   "codemirror_mode": {
    "name": "ipython",
    "version": 3
   },
   "file_extension": ".py",
   "mimetype": "text/x-python",
   "name": "python",
   "nbconvert_exporter": "python",
   "pygments_lexer": "ipython3",
   "version": "3.8.5"
  }
 },
 "nbformat": 4,
 "nbformat_minor": 4
}
