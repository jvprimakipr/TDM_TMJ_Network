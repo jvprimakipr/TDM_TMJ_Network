{
 "cells": [
  {
   "cell_type": "code",
   "execution_count": 4,
   "metadata": {},
   "outputs": [],
   "source": [
    "import os\n",
    "import sys\n",
    "\n",
    "p = os.path.abspath('..\\Functions')\n",
    "if p not in sys.path:\n",
    "    sys.path.append(p)\n",
    "from class_TM import TM\n",
    "from class_characters import characters"
   ]
  },
  {
   "cell_type": "markdown",
   "metadata": {},
   "source": [
    "# Turma da Mônica Jovem"
   ]
  },
  {
   "cell_type": "code",
   "execution_count": 20,
   "metadata": {},
   "outputs": [],
   "source": [
    "c = characters()\n",
    "c.comic_book = '#1tmj_10'"
   ]
  },
  {
   "cell_type": "code",
   "execution_count": 21,
   "metadata": {},
   "outputs": [],
   "source": [
    "cap1 = [[c.beg, c.mon, c.ceb, c.mag, c.cas, c.end], #Capa - Conta Comigo!\n",
    "        [],\n",
    "        [],\n",
    "        [],\n",
    "        [c.beg, c.ID('Professor 1')] + c.crowd(figs=0, stus=8), #1. Prólogo - Pág 5\n",
    "        [c.ceb, c.cas] + c.crowd(1),\n",
    "        [c.ceb, c.cas] + c.crowd(1),\n",
    "        [c.mon, c.ceb, c.mag, c.cas] + c.crowd(1),\n",
    "        [c.mon, c.ceb, c.mag, c.cas],\n",
    "        [c.mon, c.ceb, c.mag, c.cas],\n",
    "        [c.mon, c.ceb, c.mag, c.cas],\n",
    "        [c.mon],\n",
    "        [c.mon],\n",
    "        [c.mon, c.pmon],\n",
    "        [c.mon],\n",
    "        [c.mon, c.end]]\n",
    "cap2 = [[c.beg, c.mon], #2. Captura de problemas - Pág 17\n",
    "        [c.mon, c.ceb],\n",
    "        [c.mon, c.ceb],\n",
    "        [c.mon, c.ceb],\n",
    "        [c.mon, c.ceb],\n",
    "        [c.mon, c.ceb],\n",
    "        [c.mon, c.ceb],\n",
    "        [c.mon, c.ceb],\n",
    "        [c.mon, c.ceb],\n",
    "        [c.mon, c.ceb],\n",
    "        [c.mon, c.ceb, c.ID('Lutador 1')],\n",
    "        [c.mon, c.ceb, c.ID('Lutador 1')],\n",
    "        [c.mon, c.ceb, c.ID('Lutador 1')],\n",
    "        [c.mon, c.ceb, c.ID('Lutador 1')],\n",
    "        [c.mon, c.ceb, c.ID('Lutador 1')],\n",
    "        [c.mon, c.ceb, c.ID('Lutador 2')],\n",
    "        [c.mon, c.ceb, c.ID('Lutador 2')],\n",
    "        [c.mon, c.ceb],\n",
    "        [c.mon, c.ceb, c.ID('Lutador 2')],\n",
    "        [c.mon, c.ceb],\n",
    "        [c.mon, c.ID('Lutador 3'), c.ID('Lutador 4'), c.ID('Lutador 5')],\n",
    "        [c.mon, c.ceb, c.ID('Lutador 3'), c.ID('Lutador 4'), c.ID('Lutador 5')],\n",
    "        [c.mon, c.ceb, c.ID('Lutador 6'), c.ID('Lutador 7'), c.ID('Lutador 8')],\n",
    "        [c.mon, c.ceb, 'Lorde Vampiro Imortal das Trevas'],\n",
    "        [c.mon, c.ceb, 'Lorde Vampiro Imortal das Trevas'],\n",
    "        [c.mon, c.ceb, 'Lorde Vampiro Imortal das Trevas'],\n",
    "        [c.mon, c.ceb],\n",
    "        [c.mon, c.ceb],\n",
    "        [c.mon, c.ceb],\n",
    "        [c.mon, c.ceb, c.ID('Lutador 1'), c.ID('Lutador 4'), c.ID('Lutador 5'), c.ID('Lutador 6')],\n",
    "        [c.mon, c.ceb],\n",
    "        [c.mon, c.mag, c.end]]\n",
    "cap3 = [[c.beg, c.cle], #3. Decifra-me ou Devoro-te! - pág 49\n",
    "        [c.mon, c.mag, c.cle] + c.figs(6),\n",
    "        [c.mon, c.mag, c.cle] + c.shades(4),\n",
    "        [c.mon, c.mag],\n",
    "        [c.mon, c.mag, c.cle],\n",
    "        [c.mon, c.mag, c.cle, c.shade()] + c.figs(5),\n",
    "        [c.mon, c.mag, c.den, c.carfru],\n",
    "        [c.mon, c.mag, c.den, c.carfru],\n",
    "        [c.mon, c.mag, c.den, c.carfru, c.cle] + c.figs(4),\n",
    "        [c.mon, c.mag, c.den, c.carfru, c.cle],\n",
    "        [c.mon, c.mag, c.den, c.carfru, c.cle],\n",
    "        [c.mag, c.den, c.carfru, c.cle],\n",
    "        [c.mon, c.mag, c.cle],\n",
    "        [c.mon, c.mag, c.cle],\n",
    "        [c.den, c.carfru, c.cle] + c.figs(4) + c.shades(6),\n",
    "        [c.mon, c.mag, c.cle],\n",
    "        [c.mon, c.mag, c.den, c.carfru, c.cle],\n",
    "        [c.mon, c.mag, c.den, c.carfru, c.cle],\n",
    "        [c.mon, c.mag, c.den, c.carfru, c.cle, c.shade()] + c.figs(6),\n",
    "        [c.mon, c.mag, c.den, c.carfru, c.cle],\n",
    "        [c.mon, c.mag],\n",
    "        [c.mon, c.mag],\n",
    "        [c.mon, c.mag, c.den, c.carfru, c.cle] + c.figs(7),\n",
    "        [c.mon, c.mag, c.den, c.cle],\n",
    "        [c.mon, c.mag, c.cle],\n",
    "        [c.mon, c.mag, c.cle],\n",
    "        [c.mon, c.den, c.carfru, c.cle],\n",
    "        [c.mon, c.mag, c.den, c.carfru, c.cle],\n",
    "        [c.mon, c.den, c.carfru, c.cle],\n",
    "        [c.mag, c.den, c.carfru, c.cle],\n",
    "        [c.mon, c.mag, c.den, c.carfru, c.cle, c.ID('Homem Fantasiado de Dinossauro')],\n",
    "        [c.mon, c.mag, c.cle],\n",
    "        [c.mon, c.mag, c.cle],\n",
    "        [2, [c.mon, c.ceb], [c.mon, c.cas], c.end]]\n",
    "cap4 = [[c.beg, c.cas], #4. Le Parkour! - Pág 83\n",
    "        [c.cas],\n",
    "        [c.cas] + c.figs(5) + c.shades(5),\n",
    "        [c.mon, c.cas],\n",
    "        [c.mon, c.cas],\n",
    "        [c.mon, c.cas],\n",
    "        [c.mon, c.cas],\n",
    "        [2, [] + c.figs(3), [c.mon, c.cas]],\n",
    "        [c.mon, c.cas, c.child()] + c.shades(2),\n",
    "        [c.mon, c.cas], #DUVIDA\n",
    "        [2, [c.mon, c.cas, c.san], [c.mon, c.cas]],\n",
    "        [c.mon, c.cas],\n",
    "        [2, [c.mon, c.cas], [c.ceb, c.cas, c.fig()]],\n",
    "        [2, [c.mag, c.cas], [c.mon, c.cas]],\n",
    "        [c.cas],\n",
    "        [c.mon, c.cas],\n",
    "        [c.mon, c.cas],\n",
    "        [c.mon, c.cas],\n",
    "        [c.mon, c.cas],\n",
    "        [c.mon, c.cas],\n",
    "        [c.mon, c.cas],\n",
    "        [c.mon, c.cas],\n",
    "        [c.mon, c.cas],\n",
    "        [c.mon, c.cas],\n",
    "        [c.mon, c.cas],\n",
    "        [c.mon, c.cas],\n",
    "        [c.mon, c.cas],\n",
    "        [c.mon, c.cas],\n",
    "        [c.mon, c.cas],\n",
    "        [2, [c.mon, c.cas], [c.cas, c.fig()]],\n",
    "        [2, [c.mon, c.cas], [c.mon, c.ceb], c.end]]\n",
    "cap5 = [[c.beg, c.mon], #5. Por que sempre eu? - Pág 114\n",
    "        [2, [c.mon, c.ceb], [c.mon, c.mag]],\n",
    "        [c.mon, c.cas],\n",
    "        [c.mon, c.mag],\n",
    "        [c.mon, c.ceb, c.mag, c.cas],\n",
    "        [c.mon, c.ceb, c.mag, c.cas],\n",
    "        [c.mon, c.ceb, c.mag],\n",
    "        [c.mon, c.ceb, c.mag, c.cas],\n",
    "        [c.mon, c.ceb, c.mag, c.cas],\n",
    "        [c.mon, c.ceb, c.mag, c.cas],\n",
    "        [c.mon, c.ceb, c.mag, c.cas, c.end],\n",
    "        [],\n",
    "        [],\n",
    "        [],\n",
    "        [],\n",
    "        [],\n",
    "        [],\n",
    "        [],\n",
    "        [c.doc]]"
   ]
  },
  {
   "cell_type": "code",
   "execution_count": 22,
   "metadata": {},
   "outputs": [],
   "source": [
    "pages = cap1 + cap2 + cap3 + cap4 + cap5"
   ]
  },
  {
   "cell_type": "code",
   "execution_count": 23,
   "metadata": {},
   "outputs": [],
   "source": [
    "hq = TM()\n",
    "hq.inserts(pages)\n",
    "\n",
    "hq.pack(f'../Data/{c.comic_book}.csv')"
   ]
  },
  {
   "cell_type": "code",
   "execution_count": 24,
   "metadata": {},
   "outputs": [
    {
     "data": {
      "text/plain": [
       "91"
      ]
     },
     "execution_count": 24,
     "metadata": {},
     "output_type": "execute_result"
    }
   ],
   "source": [
    "hq.n_characters"
   ]
  },
  {
   "cell_type": "code",
   "execution_count": null,
   "metadata": {},
   "outputs": [],
   "source": []
  }
 ],
 "metadata": {
  "kernelspec": {
   "display_name": "Python 3",
   "language": "python",
   "name": "python3"
  },
  "language_info": {
   "codemirror_mode": {
    "name": "ipython",
    "version": 3
   },
   "file_extension": ".py",
   "mimetype": "text/x-python",
   "name": "python",
   "nbconvert_exporter": "python",
   "pygments_lexer": "ipython3",
   "version": "3.8.5"
  }
 },
 "nbformat": 4,
 "nbformat_minor": 4
}
