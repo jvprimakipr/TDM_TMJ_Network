{
 "cells": [
  {
   "cell_type": "code",
   "execution_count": 1,
   "metadata": {},
   "outputs": [],
   "source": [
    "import os\n",
    "import sys\n",
    "\n",
    "p = os.path.abspath('..\\Functions')\n",
    "if p not in sys.path:\n",
    "    sys.path.append(p)\n",
    "from class_TM import TM\n",
    "from class_characters import characters"
   ]
  },
  {
   "cell_type": "markdown",
   "metadata": {},
   "source": [
    "# Turma da Mônica Jovem"
   ]
  },
  {
   "cell_type": "code",
   "execution_count": 15,
   "metadata": {},
   "outputs": [],
   "source": [
    "c = characters()\n",
    "c.comic_book = '#1tmj_10'"
   ]
  },
  {
   "cell_type": "code",
   "execution_count": 16,
   "metadata": {},
   "outputs": [],
   "source": [
    "cap1 = [[c.beg, c.mon, c.ceb, c.mag, c.cas, c.end], #Capa - Conta Comigo!\n",
    "        [],\n",
    "        [],\n",
    "        [],\n",
    "        [c.ID('Professor 1')] + c.crowd(figs=0, stus=8), #1. Prólogo - Pág 5\n",
    "        [c.ceb, c.cas] + c.crowd(1),\n",
    "        [c.ceb, c.cas] + c.crowd(1),\n",
    "        [c.mon, c.ceb, c.mag, c.cas] + c.crowd(1),\n",
    "        [c.mon, c.ceb, c.mag, c.cas],"
   ]
  },
  {
   "cell_type": "code",
   "execution_count": null,
   "metadata": {},
   "outputs": [],
   "source": [
    "#2. Captura de problemas - Pág 17\n",
    "#3. Decifra-me ou Devoro-te! - pág 49\n",
    "#4. Le Parkour! - Pág 83\n",
    "#5. Por que sempre eu? - Pág 114"
   ]
  },
  {
   "cell_type": "code",
   "execution_count": 17,
   "metadata": {},
   "outputs": [],
   "source": [
    "pages = cap1 + cap2 + cap3"
   ]
  },
  {
   "cell_type": "code",
   "execution_count": 18,
   "metadata": {},
   "outputs": [],
   "source": [
    "hq = TM()\n",
    "hq.inserts(pages)\n",
    "\n",
    "hq.pack(f'../Data/{c.comic_book}.csv')"
   ]
  },
  {
   "cell_type": "code",
   "execution_count": 19,
   "metadata": {},
   "outputs": [
    {
     "data": {
      "text/plain": [
       "93"
      ]
     },
     "execution_count": 19,
     "metadata": {},
     "output_type": "execute_result"
    }
   ],
   "source": [
    "hq.n_characters"
   ]
  }
 ],
 "metadata": {
  "kernelspec": {
   "display_name": "Python 3",
   "language": "python",
   "name": "python3"
  },
  "language_info": {
   "codemirror_mode": {
    "name": "ipython",
    "version": 3
   },
   "file_extension": ".py",
   "mimetype": "text/x-python",
   "name": "python",
   "nbconvert_exporter": "python",
   "pygments_lexer": "ipython3",
   "version": "3.8.5"
  }
 },
 "nbformat": 4,
 "nbformat_minor": 4
}
