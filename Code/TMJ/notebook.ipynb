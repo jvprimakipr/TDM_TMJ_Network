{
 "cells": [
  {
   "cell_type": "code",
   "execution_count": 1,
   "metadata": {},
   "outputs": [],
   "source": [
    "import os\n",
    "import sys\n",
    "\n",
    "p = os.path.abspath('..\\Functions')\n",
    "if p not in sys.path:\n",
    "    sys.path.append(p)\n",
    "from class_TM import TM\n",
    "from class_characters import characters"
   ]
  },
  {
   "cell_type": "markdown",
   "metadata": {},
   "source": [
    "# As Aventuras do dia-a-dia"
   ]
  },
  {
   "cell_type": "code",
   "execution_count": 6,
   "metadata": {},
   "outputs": [],
   "source": [
    "c = characters()\n",
    "c.comic_book = '#1tmj05'"
   ]
  },
  {
   "cell_type": "code",
   "execution_count": 7,
   "metadata": {},
   "outputs": [],
   "source": [
    "cap1 = [[c.beg, c.mon, c.ceb, c.franj, c.xab, c.ast, c.end], #Capa - As Aventuras do dia-a-dia\n",
    "        [],\n",
    "        [],\n",
    "        [],\n",
    "        [],\n",
    "        [],\n",
    "        [c.mon, c.ceb, c.mag, c.cas, c.xab, c.ast],#, c.], #1. Vamos Subindo - Pág 7\n",
    "        [c.mon, c.mmon, c.pmon],\n",
    "        [c.mon, c.mmon, c.pmon],\n",
    "        [c.mon, c.mag, c.ID('Aeromoça 1')],\n",
    "        [c.mon, c.mag, c.cas, c.ID('Aeromoça 1')],\n",
    "        [c.ceb, c.cas],\n",
    "        [c.mon, c.ceb, c.cas]]\n",
    "cap2 = [[], #2. O Brilho de um Pulsar - Pág 14\n",
    "        [],\n",
    "        [c.mon, c.mmon, c.pmon],\n",
    "        [c.mmon, c.pmon],\n",
    "        [c.mmon, c.pmon, c.hor],\n",
    "        [c.zlui, c.xab, c.ast],\n",
    "        [c.zlui, c.xab, c.ast],\n",
    "        [c.zlui, c.xab, c.ast],\n",
    "        [c.zlui, c.xab],\n",
    "        [c.zlui, c.xab],\n",
    "        [c.mon, c.mag, c.franj],\n",
    "        [c.ceb, c.cas, c.franj],\n",
    "        [c.mon, c.ceb, c.mag, c.cas, c.franj],\n",
    "        [c.mon, c.franj],\n",
    "        [c.mon, c.ceb, c.cas],\n",
    "        [c.mon, c.ceb],\n",
    "        [c.ast],\n",
    "        [c.ceb, c.ast],\n",
    "        [c.mon, c.ceb, c.mag, c.cas, c.franj, c.ast],\n",
    "        [c.ceb, c.cas, c.franj, c.ast],\n",
    "        [c.mon, c.ceb, c.mag, c.cas, c.franj, c.ast] + c.shades(5),\n",
    "        [c.mon, c.mag, c.franj, c.ast],\n",
    "        [c.mon],\n",
    "        [c.mon, c.ceb, c.cas],\n",
    "        [c.mon, c.mag, c.franj],\n",
    "        [c.franj, c.ast]]\n",
    "cap3 = [[c.mon, c.mag], #3. Que Demais - Pág 40\n",
    "        [c.mon, c.mag, c.ID('Jornalista 1')],\n",
    "        [c.mon, c.mag],\n",
    "        c.shades(5),\n",
    "        [c.mon, c.mag],\n",
    "        [c.mon, c.ceb, c.mag, c.cas],\n",
    "        [c.franj, c.ast],\n",
    "        [],\n",
    "        [c.franj, c.ast],\n",
    "        [c.franj, c.ast],\n",
    "        [c.franj, c.ast],\n",
    "        [2, [c.ast, c.lor], [c.franj, c.ast]],\n",
    "        [c.mon, c.ceb, c.mag, c.cas, c.franj],\n",
    "        [c.mon, c.ceb, c.mag, c.cas, c.franj],\n",
    "        [c.mon], #GIBI\n",
    "        [c.mon, c.ceb, c.mag, c.cas, c.franj, c.xab],\n",
    "        [c.mon, c.xab],\n",
    "        [c.ceb, c.mag, c.xab],\n",
    "        [c.mon, c.ceb, c.mag, c.cas, c.franj, c.xab],\n",
    "        [c.mon, c.ceb, c.mag, c.xab],\n",
    "        [c.ceb, c.cas, c.xab],\n",
    "        [c.mon, c.ceb, c.mag, c.cas, c.franj],\n",
    "        [c.mon, c.ceb, c.mag, c.cas, c.franj, c.xab],\n",
    "        [c.mon, c.ceb, c.mag, c.cas, c.franj, c.xab],\n",
    "        [c.mag, c.cas, c.franj],\n",
    "        [c.mon, c.ceb, c.mag, c.cas, c.franj, c.xab],\n",
    "        [c.mon, c.ceb, c.mag, c.cas, c.franj, c.xab],\n",
    "        [],\n",
    "        [c.mon, c.ceb, c.mag, c.cas, c.franj, c.xab],\n",
    "        [c.mon, c.ceb, c.mag, c.cas, c.franj, c.xab],\n",
    "        [c.mon, c.ceb, c.cas, c.franj],\n",
    "        [c.mon, c.ceb, c.cas, c.xab] + c.crowd(name='Robô Tzk'),\n",
    "        c.crowd(1),\n",
    "        c.crowd(1),\n",
    "        [c.mon, c.ceb, c.mag, c.cas, c.franj, c.xab] + c.crowd(1),\n",
    "        [c.mon, c.ceb, c.mag, c.cas, c.franj, c.xab] + c.crowd(1),\n",
    "        [c.mon, c.mag] + c.crowd(1)[:5],\n",
    "        [c.mon, c.ceb, c.mag, c.xab, c.crowd(1)[0]],\n",
    "        [c.mon, c.ceb, c.mag, c.cas, c.franj, c.xab],\n",
    "        [c.ceb, c.mag, c.cas, c.franj, c.xab] + c.crowd(1),\n",
    "        [c.zlui, c.ast],\n",
    "        [c.zlui, c.ast],\n",
    "        [c.zlui, c.ast],\n",
    "        [c.ast, 'Traje de Batalha'],\n",
    "        [c.mon, c.ceb, c.mag, c.cas, c.franj, c.xab] + c.crowd(1),\n",
    "        [c.mon, c.ceb, c.franj, c.xab],\n",
    "        [c.mon, c.ceb, c.franj, c.xab],\n",
    "        [c.ceb, c.mag, c.cas, c.franj, c.xab] + c.crowd(1),\n",
    "        [c.xab] + c.crowd(1)[:5],\n",
    "        [c.mon, c.ceb, c.mag, c.cas, c.franj],\n",
    "        [c.mon, c.ceb, c.mag, c.cas, c.franj],\n",
    "        [c.ceb, c.franj] + c.crowd(name='Robô Tzk'),\n",
    "        [c.ceb, c.cas] + c.crowd(2)[:5],\n",
    "        [c.mag, c.cas, c.franj] + c.crowd(2),\n",
    "        [c.ast, 'Traje de Batalha'],\n",
    "        "
   ]
  },
  {
   "cell_type": "code",
   "execution_count": 8,
   "metadata": {},
   "outputs": [],
   "source": [
    "pages = cap1 + cap2 + cap3"
   ]
  },
  {
   "cell_type": "code",
   "execution_count": 9,
   "metadata": {},
   "outputs": [],
   "source": [
    "hq = TM()\n",
    "hq.inserts(pages)\n",
    "\n",
    "hq.pack(f'../Data/{c.comic_book}.csv')"
   ]
  },
  {
   "cell_type": "code",
   "execution_count": 3,
   "metadata": {},
   "outputs": [
    {
     "data": {
      "text/plain": [
       "['begin', 'Mônica', 'Cebolinha', 'Franjinha', 'Xabéu', 'Astronauta', 'end']"
      ]
     },
     "execution_count": 3,
     "metadata": {},
     "output_type": "execute_result"
    }
   ],
   "source": [
    "hq.n_characters"
   ]
  },
  {
   "cell_type": "code",
   "execution_count": null,
   "metadata": {},
   "outputs": [],
   "source": [
    "hq.characters"
   ]
  },
  {
   "cell_type": "code",
   "execution_count": 5,
   "metadata": {},
   "outputs": [
    {
     "data": {
      "text/plain": [
       "'Horácio'"
      ]
     },
     "execution_count": 5,
     "metadata": {},
     "output_type": "execute_result"
    }
   ],
   "source": [
    "c.hor"
   ]
  },
  {
   "cell_type": "code",
   "execution_count": 13,
   "metadata": {},
   "outputs": [
    {
     "data": {
      "text/plain": [
       "'#1tmj05 Robô Tzk 1'"
      ]
     },
     "execution_count": 13,
     "metadata": {},
     "output_type": "execute_result"
    }
   ],
   "source": [
    "c.crowd(1)[0]"
   ]
  },
  {
   "cell_type": "code",
   "execution_count": null,
   "metadata": {},
   "outputs": [],
   "source": []
  }
 ],
 "metadata": {
  "kernelspec": {
   "display_name": "Python 3",
   "language": "python",
   "name": "python3"
  },
  "language_info": {
   "codemirror_mode": {
    "name": "ipython",
    "version": 3
   },
   "file_extension": ".py",
   "mimetype": "text/x-python",
   "name": "python",
   "nbconvert_exporter": "python",
   "pygments_lexer": "ipython3",
   "version": "3.8.5"
  }
 },
 "nbformat": 4,
 "nbformat_minor": 4
}
