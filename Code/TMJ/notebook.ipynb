{
 "cells": [
  {
   "cell_type": "code",
   "execution_count": 1,
   "metadata": {},
   "outputs": [],
   "source": [
    "import os\n",
    "import sys\n",
    "\n",
    "p = os.path.abspath('..\\Functions')\n",
    "if p not in sys.path:\n",
    "    sys.path.append(p)\n",
    "from class_TM import TM\n",
    "from class_characters import characters"
   ]
  },
  {
   "cell_type": "markdown",
   "metadata": {},
   "source": [
    "# Turma da Mônica Jovem"
   ]
  },
  {
   "cell_type": "code",
   "execution_count": 2,
   "metadata": {},
   "outputs": [],
   "source": [
    "c = characters()\n",
    "c.comic_book = '#1tmj_09'"
   ]
  },
  {
   "cell_type": "code",
   "execution_count": 38,
   "metadata": {},
   "outputs": [],
   "source": [
    "cap1 = [[c.beg, c.mon, c.ceb, c.toni, c.end], #Capa - O Príncipe Perfeito\n",
    "        [],\n",
    "        [],\n",
    "        [],\n",
    "        [c.beg, c.xav, c.stu()], #1. A Audição - Pág 5\n",
    "        [c.xav, c.jor, c.stu(1), c.stu()] + c.crowd(figs=0, shades=5),\n",
    "        [c.xav, c.jor, c.stu(1), c.stu(2)] + c.crowd(1),\n",
    "        [c.mon, c.jor],\n",
    "        [c.mon, c.mag, c.xav, c.stu(1)],\n",
    "        [2, [c.mon, c.mag, c.cas], [c.mon, c.ceb]],\n",
    "        [c.mon, c.mag],\n",
    "        [c.mon, c.mag, c.den, c.carfru],\n",
    "        [c.mon, c.mag, c.den, c.carfru],\n",
    "        [c.mon, c.mag, c.den, c.carfru, c.jor],\n",
    "        [c.mon, c.cas, c.jor],\n",
    "        [c.mon, c.cas, c.san],\n",
    "        [c.mon, c.cas],\n",
    "        [c.mon, c.mag, c.cas, c.jor, c.san],\n",
    "        [c.mon, c.ceb, c.mag, c.cas],\n",
    "        [c.mon, c.ceb, c.mag, c.cas],\n",
    "        [c.mon, c.ceb],\n",
    "        [c.mon, c.ceb, c.cas, c.xav, c.jor],\n",
    "        [c.ceb, c.mag, c.xav, c.den, c.carfru, c.jor],\n",
    "        [c.mon, c.ceb, c.den, c.carfru],\n",
    "        [c.mon, c.ceb, c.mag, c.cas, c.xav, c.den, c.carfru, c.jor],\n",
    "        [c.mon, c.ceb, c.mag, c.cas, c.xav, c.carfru, c.jor],\n",
    "        [c.ceb, c.xav, c.den, c.carfru],\n",
    "        [c.mon, c.mag],\n",
    "        [c.mon, c.mag],\n",
    "        [c.mon, c.mag],\n",
    "        [c.mon, c.mag],\n",
    "        [c.mon, c.mag, c.toni],\n",
    "        [c.mon, c.mag, c.toni],\n",
    "        [c.mon, c.mag, c.toni],\n",
    "        [c.ceb, c.cas, c.mceb],\n",
    "        [c.ceb, c.cas, c.mceb, c.pceb],\n",
    "        [c.ceb, c.cas],\n",
    "        [c.mon, c.ceb, c.cas],\n",
    "        [c.ceb, c.cas, c.pceb],\n",
    "        [c.mon, c.end]]\n",
    "cap2 = [[c.beg, c.mon, c.toni], #2. Tonc - Pág 41\n",
    "        [c.mon, c.ton],\n",
    "        [c.ceb, c.cas],\n",
    "        [c.ceb, c.cas, c.xav],\n",
    "        "
   ]
  },
  {
   "cell_type": "code",
   "execution_count": 39,
   "metadata": {},
   "outputs": [],
   "source": [
    "pages = cap1 + cap2 + cap3 , #3. A Escolha - Pág 83"
   ]
  },
  {
   "cell_type": "code",
   "execution_count": 41,
   "metadata": {},
   "outputs": [],
   "source": [
    "hq = TM()\n",
    "hq.inserts(pages)\n",
    "\n",
    "hq.pack(f'../Data/{c.comic_book}.csv')"
   ]
  },
  {
   "cell_type": "code",
   "execution_count": 42,
   "metadata": {},
   "outputs": [
    {
     "data": {
      "text/plain": [
       "65"
      ]
     },
     "execution_count": 42,
     "metadata": {},
     "output_type": "execute_result"
    }
   ],
   "source": [
    "hq.n_characters"
   ]
  },
  {
   "cell_type": "code",
   "execution_count": null,
   "metadata": {},
   "outputs": [],
   "source": []
  }
 ],
 "metadata": {
  "kernelspec": {
   "display_name": "Python 3",
   "language": "python",
   "name": "python3"
  },
  "language_info": {
   "codemirror_mode": {
    "name": "ipython",
    "version": 3
   },
   "file_extension": ".py",
   "mimetype": "text/x-python",
   "name": "python",
   "nbconvert_exporter": "python",
   "pygments_lexer": "ipython3",
   "version": "3.8.5"
  }
 },
 "nbformat": 4,
 "nbformat_minor": 4
}
