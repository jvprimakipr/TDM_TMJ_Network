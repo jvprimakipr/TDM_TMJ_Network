{
 "cells": [
  {
   "cell_type": "code",
   "execution_count": 4,
   "metadata": {},
   "outputs": [],
   "source": [
    "import os\n",
    "import sys\n",
    "\n",
    "p = os.path.abspath('Functions')\n",
    "if p not in sys.path:\n",
    "    sys.path.append(p)\n",
    "from class_TM import TM\n",
    "from class_characters import characters"
   ]
  },
  {
   "cell_type": "code",
   "execution_count": 5,
   "metadata": {},
   "outputs": [],
   "source": [
    "import pandas as pd\n",
    "pd.set_option('display.max_rows', None)"
   ]
  },
  {
   "cell_type": "markdown",
   "metadata": {},
   "source": [
    "# Turma da Mônica Jovem"
   ]
  },
  {
   "cell_type": "code",
   "execution_count": 3,
   "metadata": {},
   "outputs": [],
   "source": [
    "c = characters('#tdm_39')"
   ]
  },
  {
   "cell_type": "code",
   "execution_count": 8,
   "metadata": {},
   "outputs": [],
   "source": [
    "pages = his1 + his2 + his3 + his4 + his5 + his6 + his7 + his8 + his9 + his10 + his11 + his12"
   ]
  },
  {
   "cell_type": "code",
   "execution_count": 4,
   "metadata": {},
   "outputs": [],
   "source": [
    "hq = TM()\n",
    "hq.inserts(pages)\n",
    "\n",
    "hq.unpack(f'Data/{c.comic_book}.csv')"
   ]
  },
  {
   "cell_type": "code",
   "execution_count": 5,
   "metadata": {},
   "outputs": [
    {
     "data": {
      "text/plain": [
       "29"
      ]
     },
     "execution_count": 5,
     "metadata": {},
     "output_type": "execute_result"
    }
   ],
   "source": [
    "hq.n_characters"
   ]
  },
  {
   "cell_type": "code",
   "execution_count": 16,
   "metadata": {},
   "outputs": [],
   "source": [
    "%run TDM/TDM18.py"
   ]
  },
  {
   "cell_type": "code",
   "execution_count": 17,
   "metadata": {},
   "outputs": [
    {
     "data": {
      "text/plain": [
       "63"
      ]
     },
     "execution_count": 17,
     "metadata": {},
     "output_type": "execute_result"
    }
   ],
   "source": [
    "hq = TM()\n",
    "hq.inserts(pages18)\n",
    "hq.n_characters"
   ]
  },
  {
   "cell_type": "code",
   "execution_count": 18,
   "metadata": {},
   "outputs": [
    {
     "data": {
      "text/plain": [
       "['Professor Spada / Doutor Spam',\n",
       " 'Mônica',\n",
       " 'Magali',\n",
       " 'Cascão',\n",
       " 'Cebolinha',\n",
       " 'Sansão',\n",
       " 'Neto do Franjinha',\n",
       " 'Franjinha',\n",
       " 'Fran J. Inha',\n",
       " 'Monika Bond',\n",
       " 'Maga Rári',\n",
       " 'Robô carregando malas 1',\n",
       " 'Robô carregando malas 2',\n",
       " 'Abelha',\n",
       " 'Bidutronic',\n",
       " 'Robô amarrando cadarço',\n",
       " '#tdm_37 Figurante 1',\n",
       " '#tdm_37 Atendente 1',\n",
       " '#tdm_37 Atendente 2',\n",
       " '#tdm_37 Atendente 3',\n",
       " '#tdm_37 Atendente 4',\n",
       " '#tdm_37 Criança 1',\n",
       " '#tdm_37 Criança 2',\n",
       " '#tdm_37 Mãe 1',\n",
       " '#tdm_37 Pai 1',\n",
       " 'C-bola',\n",
       " 'Cecê-boy',\n",
       " 'Congue-Congue',\n",
       " 'Invasores do Espaço',\n",
       " '#tdm_37 Animal 1',\n",
       " '#tdm_37 Figurante 2',\n",
       " '#tdm_37 Figurante 3',\n",
       " '#tdm_37 Figurante 4',\n",
       " '#tdm_37 Figurante 5',\n",
       " '#tdm_37 Figurante 6',\n",
       " '#tdm_37 Figurante 7',\n",
       " 'Fantasmildos',\n",
       " 'Etê da Nava Mãe',\n",
       " '#tdm_37 Figurante 8',\n",
       " '#tdm_37 Figurante 9',\n",
       " 'Bidu',\n",
       " 'Chico Bento',\n",
       " 'Onça',\n",
       " '#tdm_37 Animal 2',\n",
       " 'Anjinho',\n",
       " 'Anjo da Guarda do Anjinho',\n",
       " 'Cipolino',\n",
       " 'Gastão',\n",
       " 'Piteco',\n",
       " 'Zé Caveirinha',\n",
       " '#tdm_37 Dinossauro 1',\n",
       " '#tdm_37 Dinossauro 2',\n",
       " '#tdm_37 Dinossauro 3',\n",
       " '#tdm_37 Dinossauro 4',\n",
       " '#tdm_37 Planta Carnívora',\n",
       " '#tdm_37 Figurante 10',\n",
       " '#tdm_37 Figurante 11',\n",
       " 'Thuga',\n",
       " 'Xaveco',\n",
       " '#tdm_37 Alien 1',\n",
       " '#tdm_37 Alien 2',\n",
       " 'Nimbus',\n",
       " 'Dona Keiko']"
      ]
     },
     "execution_count": 18,
     "metadata": {},
     "output_type": "execute_result"
    }
   ],
   "source": [
    "hq.characters"
   ]
  },
  {
   "cell_type": "code",
   "execution_count": null,
   "metadata": {},
   "outputs": [],
   "source": []
  },
  {
   "cell_type": "code",
   "execution_count": null,
   "metadata": {},
   "outputs": [],
   "source": []
  }
 ],
 "metadata": {
  "kernelspec": {
   "display_name": "Python 3",
   "language": "python",
   "name": "python3"
  },
  "language_info": {
   "codemirror_mode": {
    "name": "ipython",
    "version": 3
   },
   "file_extension": ".py",
   "mimetype": "text/x-python",
   "name": "python",
   "nbconvert_exporter": "python",
   "pygments_lexer": "ipython3",
   "version": "3.8.5"
  }
 },
 "nbformat": 4,
 "nbformat_minor": 4
}
