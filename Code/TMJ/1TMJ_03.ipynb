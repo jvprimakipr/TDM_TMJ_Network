{
 "cells": [
  {
   "cell_type": "code",
   "execution_count": 1,
   "metadata": {},
   "outputs": [],
   "source": [
    "import os\n",
    "import sys\n",
    "\n",
    "p = os.path.abspath('..\\Functions')\n",
    "if p not in sys.path:\n",
    "    sys.path.append(p)\n",
    "from class_TM import TM\n",
    "from class_characters import characters"
   ]
  },
  {
   "cell_type": "markdown",
   "metadata": {},
   "source": [
    "# Novos Desafios"
   ]
  },
  {
   "cell_type": "markdown",
   "metadata": {},
   "source": [
    "## 8. Tobor - Pág 7\n",
    "## 9. O Grande Mestre - Pág 28\n",
    "## 10. Batalhas Infinitas - Pág 58\n",
    "## 11. Tchalu - Pág 102"
   ]
  },
  {
   "cell_type": "code",
   "execution_count": 2,
   "metadata": {},
   "outputs": [],
   "source": [
    "c = characters()\n",
    "#c.reset()\n",
    "c.comic_book = '#1tmj03'"
   ]
  },
  {
   "cell_type": "code",
   "execution_count": 3,
   "metadata": {},
   "outputs": [],
   "source": [
    "cap1 = [[c.beg, c.mon, c.ceb, 'Kraker', c.end], #capa\n",
    "        #[],\n",
    "        #[],\n",
    "        #[],\n",
    "        #[],\n",
    "        #[],\n",
    "        [c.beg, c.mon, c.ceb, c.ezep],\n",
    "        [c.mon, c.ceb, c.mag, c.cas, c.rob],\n",
    "        [c.cas, c.rob],\n",
    "        [c.mon, c.ceb, c.mag, c.cas, c.ezep, c.rob],\n",
    "        [c.mon, c.ceb, c.mag, c.cas, c.ezep, c.rob],\n",
    "        [c.ceb, c.cas],\n",
    "        [c.ceb, c.cas, 'Robô-Ofurô'],\n",
    "        [c.mon, c.ceb, c.mag, 'Robô-Roupa'],\n",
    "        [c.mon, c.ceb, c.mag, 'Robô-Cozinheiro'],\n",
    "        [c.mon, c.ceb, c.mag],\n",
    "        [c.mon, c.ceb, c.mag, c.cas],\n",
    "        [c.mon, c.ceb, c.mag, c.cas, c.rob],\n",
    "        [c.mon, c.ceb, c.mag, c.rob, 'Motox 3D 228 1', 'Motox 3D 228 2'],\n",
    "        [c.ceb, c.cas, c.rob, 'Motox 3D 228 1'],\n",
    "        [c.mon, c.ceb, 'Motox 3D 228 1', 'Motox 3D 228 2'],\n",
    "        [c.cap, c.yuk],\n",
    "        [c.cap, c.yuk],\n",
    "        [c.franj, c.fal, c.cap, c.yuk],\n",
    "        [c.franj, c.fal],\n",
    "        [c.franj, c.mar, c.den, c.marcas],\n",
    "        [c.mar, c.den, c.marcas, c.end]]\n",
    "cap2 = [[c.beg, c.mon, c.ceb, c.mag, c.cas, c.rob, 'Roboy Geórgio', c.fig(), c.fig(), c.fig()],\n",
    "        [c.mon, c.ceb, c.mag, c.cas, c.rob, 'Roboy Geórgio', c.fig(), c.fig(), c.fig()],\n",
    "        [c.ceb, c.cas, c.blo, c.rob],\n",
    "        [c.mon, c.mag, c.blo],\n",
    "        [c.mag, c.cas, c.blo, c.kra],\n",
    "        [c.mon, c.ceb, c.mag, c.cas, c.blo],\n",
    "        [c.mon, c.ceb, c.blo, c.rob],\n",
    "        [c.mag, c.cas, c.blo],\n",
    "        [c.mon, c.ceb, c.mag, c.blo],\n",
    "        [c.mon, c.ceb, c.blo],\n",
    "        [c.mon, c.blo],\n",
    "        [c.mon, c.blo, 'Coelho de Ferro'],\n",
    "        # DUVIDAS ETERNAS\n",
    "        # DUVIDAS ETERNAS\n",
    "        [c.cas, 'Motox 3D 228 2', 'Alien Tomboniano 1'],\n",
    "        [c.mag, 'Robô Fofo 1'],\n",
    "        [c.mag, 'Robô Fofo 1'],\n",
    "        [c.ceb, c.spa],\n",
    "        [c.ceb, c.spa],\n",
    "        [c.mon, c.blo],\n",
    "        [c.mon, c.blo, c.kra],\n",
    "        [c.cas, c.blo, 'Alien Tomboniano 1', 'Alien Tomboniano 2'],\n",
    "        [c.cas, c.blo, 'Alien Tomboniano 1', 'Alien Tomboniano 2', 'Alien Tomboniano 3', 'Alien Tomboniano 4', 'Alien Tomboniano 5'],\n",
    "        [c.mag, 'Robô Fofo 1', 'Robô Fofo 2' 'Robô Fofo 3'],\n",
    "        [c.mag, c.cab],\n",
    "        [c.franj, c.fal, c.cap, c.cab, c.yuk],\n",
    "        [c.mag, c.cab],\n",
    "        [c.ceb, c.blo, c.spa],\n",
    "        [c.ceb, c.blo, c.spa],\n",
    "        [c.ceb, c.spa, c.end]]\n",
    "cap3 = [[c.beg, c.mon, c.blo, c.kra, 'Coelho de Ferro'],\n",
    "        [c.mon, c.blo, c.kra, 'Coelho de Ferro'],\n",
    "        [c.cas, c.blo],\n",
    "        [c.mag, c.cab],\n",
    "        [c.mag, c.cab],\n",
    "        [c.mag, c.ast, c.cab],\n",
    "        [c.mag, c.xab, c.ast, c.cab],\n",
    "        [c.mag, c.blo, c.ast, c.comp],\n",
    "        [c.mag, c.blo, c.ast, c.comp],\n",
    "        [c.mon, c.ceb, c.cas, 'Coelho de Ferro', 'Motox 3D 228 2'],\n",
    "        [c.mon, c.ceb, c.mag, c.cas, 'Coelho de Ferro'],\n",
    "        [c.ceb, c.mag, c.cas, c.ast],\n",
    "        [c.mon, c.ceb, c.mag, c.cas, c.ast, 'Coelho de Ferro'],\n",
    "        [c.ceb, c.mag, c.cas, c.ast, c.kra],\n",
    "        [c.ceb, c.ast, c.kra],\n",
    "        [c.mon, c.ceb, c.mag, c.cas, c.ast, c.kra, 'Coelho de Ferro'],\n",
    "        [c.mon, c.kra, 'Coelho de Ferro', c.franj, c.fal, c.cap, c.yuk], #[1/3, [c.mon, c.kra, 'Coelho de Ferro'], [c.franj, c.fal, c.cap, c.yuk]]\n",
    "        [c.franj, c.fal, c.cap, c.yuk],\n",
    "        [c.cap, c.yuk],\n",
    "        [c.ceb, c.mag, c.cas, c.blo],\n",
    "        [c.ceb, c.mag, c.cas, c.ezep],\n",
    "        [c.mon, c.ceb, c.mag, c.cas, c.ezep, c.kra, 'Coelho de Ferro'],\n",
    "        [c.ceb, c.mag, c.cas, c.blo],\n",
    "        [c.ceb, c.ast],\n",
    "        [c.ceb, c.mag, c.cas, c.ast],\n",
    "        [c.ceb, c.mag, c.cas, c.ast],\n",
    "        [c.ceb, c.ast, c.cap],\n",
    "        [c.ceb, c.cas, c.cap, c.kra],\n",
    "        [c.ceb, c.mag, c.cas, c.ast, c.cap],\n",
    "        [c.ceb, c.cap],\n",
    "        [c.ceb, c.mag, c.cas, c.cap, 'Motox 3D 228 2'],\n",
    "        [c.ceb, c.mag, c.cas, c.blo, c.cap],\n",
    "        [c.mon, c.ceb, c.kra, 'Coelho de Ferro'],\n",
    "        [c.mon, c.ceb, 'Coelho de Ferro'],\n",
    "        [c.mon, c.ceb, c.cap, c.lor],\n",
    "        [c.mon, c.ceb, c.ast, c.cap, c.lor],\n",
    "        [c.mon, c.ceb, c.ast, c.cap],\n",
    "        [c.cap, c.yuk],\n",
    "        [c.cap, c.yuk],\n",
    "        [c.cap, c.yuk],\n",
    "        [c.cap, c.yuk],\n",
    "        [c.mon, c.ceb, c.mag, c.cas, c.xab, c.ast, c.comp],\n",
    "        [c.mon, c.ceb, c.mag, c.cas, c.blo, c.rob],\n",
    "        [c.mon, c.ceb, c.mag, c.cas, c.blo, 'Coelho de Ferro', c.end]] #FALTAAAAAAAAAA\n",
    "cap4 = [[c.beg, c.mon, c.ceb, c.mag, c.cas],\n",
    "        [c.mon, c.ceb, c.mag, c.cas],\n",
    "        [c.mon, c.ceb, c.mag, c.cas, c.eeur],\n",
    "        [c.mon, c.ceb, c.mag, c.cas, c.eeur],\n",
    "        [c.mon, c.ceb, c.mag, c.cas, 'Formiga 1', 'Formiga 2'],\n",
    "        [c.mon, c.ceb, c.mag, c.coe],\n",
    "        [c.mon, c.ceb, c.coe],\n",
    "        [c.mon, c.ceb, c.cas, c.coe],\n",
    "        [c.mag, c.mmon, c.pceb, c.mmag, c.pcas, c.coe], #Intrigante\n",
    "        [c.ceb, c.cas, c.coe, c.eeur],\n",
    "        [c.mon, c.ceb, c.cas, c.coe],\n",
    "        [c.mon, c.ceb, c.cas, c.coe],\n",
    "        ['Imperador', 'Guarda 1'],\n",
    "        ['Rei Henrique IV', 'Rei James I', 'Dom João V', 'Felipe III'],\n",
    "        [c.cas, c.coe],\n",
    "        [c.mmon, c.pceb, c.mmag, c.pcas, 'Imperador'],\n",
    "        [c.mmon, c.pceb, c.mmag, c.pcas],\n",
    "        [c.mon, c.coe], #[1/3, [c.mon, c.coe], [c.ebor, c.ezep, c.eeur, c.enot]]\n",
    "        [c.mon, c.ceb, c.coe],\n",
    "        [c.mon, c.ceb, c.mag, c.coe],\n",
    "        [c.mon, c.ceb, c.mag, c.cas, c.coe],\n",
    "        [c.mon, c.ceb, c.mag, c.cas, c.coe],\n",
    "        [c.mon, c.ceb, c.mag, c.cas, c.coe, c.cap, c.yuk],\n",
    "        [c.cap, c.yuk],\n",
    "        [c.yuk, 'Le Kin', 'Don Dinho', 'Espinho', 'Garra de Aço', c.end],\n",
    "        #[],\n",
    "        #[],\n",
    "        #[],\n",
    "        #[],\n",
    "        #[],\n",
    "        [c.franj, c.mar]] #4º Capa"
   ]
  },
  {
   "cell_type": "code",
   "execution_count": 4,
   "metadata": {},
   "outputs": [],
   "source": [
    "pages = cap1 + cap2 + cap3 + cap4"
   ]
  },
  {
   "cell_type": "code",
   "execution_count": 5,
   "metadata": {},
   "outputs": [],
   "source": [
    "hq = TM()\n",
    "hq.inserts(pages)\n",
    "\n",
    "hq.pack(f'../Data/{c.comic_book}.csv')"
   ]
  },
  {
   "cell_type": "code",
   "execution_count": 6,
   "metadata": {},
   "outputs": [
    {
     "data": {
      "text/plain": [
       "59"
      ]
     },
     "execution_count": 6,
     "metadata": {},
     "output_type": "execute_result"
    }
   ],
   "source": [
    "hq.n_characters"
   ]
  },
  {
   "cell_type": "code",
   "execution_count": null,
   "metadata": {},
   "outputs": [],
   "source": []
  }
 ],
 "metadata": {
  "kernelspec": {
   "display_name": "Python 3 (ipykernel)",
   "language": "python",
   "name": "python3"
  },
  "language_info": {
   "codemirror_mode": {
    "name": "ipython",
    "version": 3
   },
   "file_extension": ".py",
   "mimetype": "text/x-python",
   "name": "python",
   "nbconvert_exporter": "python",
   "pygments_lexer": "ipython3",
   "version": "3.8.10"
  }
 },
 "nbformat": 4,
 "nbformat_minor": 4
}
