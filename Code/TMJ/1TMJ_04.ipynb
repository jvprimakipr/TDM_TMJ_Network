{
 "cells": [
  {
   "cell_type": "code",
   "execution_count": 1,
   "metadata": {},
   "outputs": [],
   "source": [
    "import os\n",
    "import sys\n",
    "\n",
    "p = os.path.abspath('..\\Functions')\n",
    "if p not in sys.path:\n",
    "    sys.path.append(p)\n",
    "from class_TM import TM\n",
    "from class_characters import characters"
   ]
  },
  {
   "cell_type": "markdown",
   "metadata": {},
   "source": [
    "# Fortes Emoções"
   ]
  },
  {
   "cell_type": "markdown",
   "metadata": {},
   "source": [
    "## 12. O torneio do Disco de Saturno - Pág 7\n",
    "## 13. Rumo às finais - Pág. 32\n",
    "## 14. Edom - Pág 52\n",
    "## 15. O Retorno - Pág 98"
   ]
  },
  {
   "cell_type": "code",
   "execution_count": 2,
   "metadata": {},
   "outputs": [],
   "source": [
    "c = characters()\n",
    "#c.reset()\n",
    "c.comic_book = '1tmj_04'"
   ]
  },
  {
   "cell_type": "code",
   "execution_count": 3,
   "metadata": {},
   "outputs": [],
   "source": [
    "cap1 = [[c.beg, c.mon, c.ceb, c.end], #capa\n",
    "        #[],\n",
    "        #[],\n",
    "        #[],\n",
    "        #[],\n",
    "        #[],\n",
    "        [c.beg, c.mon, c.ceb, c.mag, c.cas, c.coe],\n",
    "        [c.mon, c.ceb, c.mag, c.cas, c.coe] + c.figs(2) + c.shades(2),\n",
    "        [c.mon, c.ceb, c.mag, c.cas, c.coe, c.fig(add=-1), c.fig(add=0), c.shade(add=-1), c.shade(add=0)],\n",
    "        [c.ceb, c.cas, c.coe, c.tar],\n",
    "        [c.ceb, c.cas, c.coe, c.tar, 'Filho 58', c.mon, c.jot], #[1/3, [c.ceb, c.cas, c.coe, c.tar, 'Filho 58'[, [c.mon, c.jot]]\n",
    "        [c.mon, c.ceb, c.jot],\n",
    "        [c.mon, c.ceb, c.mag, c.cas, c.coe],\n",
    "        [c.mon, c.ceb, c.mag, c.coe],\n",
    "        [c.mon, c.ceb, c.mag, c.cas, c.cap, c.yuk],\n",
    "        [c.cap, c.yuk, 'Le Kin', 'Don Dinho', 'Espinho', 'Garra de Aço'],\n",
    "        [c.cap, c.yuk],\n",
    "        [c.rap, 'Guarda Macaco 1'] + c.figs(5) + c.shades(10),\n",
    "        [c.rap, c.rei, c.cax, 'Cameraman 1', 'Repórter 1'] + c.figs(2) + c.shades(3),\n",
    "        [c.mon, c.ceb, c.mag, c.cas, c.coe, c.rap, c.fig(n=7)] + c.figs(3) + c.shades(4), #A partir daqui ignorei shades\n",
    "        [c.mon, c.ceb, c.cas, c.rap, c.cap, 'Espinho', 'Lun Chi', c.fig(add=-1), c.fig(add=0), c.fig(n=7)] + c.figs(4),\n",
    "        [c.mon, c.ceb, c.mag, c.cas, c.coe, c.rap, c.yuk],\n",
    "        [c.mon, c.ceb, c.cas, c.coe, c.rap, 'Le Kin', 'Garra de Aço', 'Cameraman 1', 'Repórter 1', 'Lutador 1', 'Lutador 2'] + c.figs(2),\n",
    "        [c.mon, c.mag, c.coe, c.rap, c.yuk, 'Don Dinho'] + c.figs(5),\n",
    "        [c.mon, c.ceb, c.coe, c.rap, 'Espinho'] + c.figs(4),\n",
    "        [c.mon, c.ceb, c.coe, c.rap, 'Espinho'], \n",
    "        [c.mon, c.ceb, c.coe, c.cap, 'Tiozão', 'Sobrinho 1', 'Sobrinho 2', c.fig()], #DUVIDA\n",
    "        [c.mon, c.ceb, c.mag, c.cas, c.coe, c.rap, 'Garra de Aço', c.cap, 'Tiozão'], #DIVIDIR\n",
    "        [c.mon, c.ceb, c.cas, c.coe, 'Le Kin'],\n",
    "        [c.mon, c.ceb, c.mag, c.cas, c.coe, 'Le Kin'],\n",
    "        [c.cap, 'Tiozão', 'Sobrinho 1', 'Sobrinho 2', c.end]]\n",
    "cap2 = [[c.beg, c.mon, c.ceb, c.mag, c.cas, c.coe, c.rap, c.cap, 'Cameraman 1', 'Repórter 1'],\n",
    "        [c.mon, c.ceb, c.mag, c.cas, c.coe, c.rap, c.cap, 'Cameraman 1', 'Repórter 1'],\n",
    "        [c.mon, c.ceb, c.cas, c.coe],\n",
    "        [c.mon, c.ceb, c.coe, 'Espinho'],\n",
    "        [c.mon, c.ceb, c.mag, c.cas, c.coe, c.rap, 'Garra de Aço', 'Cameraman 1', 'Repórter 1'],\n",
    "        [c.mon, c.ceb, c.mag, c.cas, c.coe, 'Garra de Aço'],\n",
    "        [c.ceb, c.cas, c.rap, 'Garra de Aço'],\n",
    "        [c.mon, c.ceb, c.mag, c.cas, c.eeur],\n",
    "        [c.cas, c.coe, c.rap, 'Espinho'],\n",
    "        [c.mon, c.ceb, c.mag, c.cas, c.coe, c.rap, c.eeur], #ETERNA DUVIDA\n",
    "        [c.mon, c.ceb, c.cas, c.rap, 'Espinho'],\n",
    "        [c.cas, c.rap, 'Espinho'],\n",
    "        [c.mon, c.ceb, c.mag, c.cas, c.coe, c.cap], #DIVIDIR\n",
    "        [c.cap, 'Tiozão', c.rei, c.cax, 'Guarda Macaco 1', c.mon, c.ceb, c.mag, c.cas, c.coe], #DIVIDIR\n",
    "        [c.mon, c.ceb, c.mag, c.cas, c.rei, c.cax],\n",
    "        [c.franj, c.fal, c.cap, c.yuk],\n",
    "        [c.cap, c.yuk],\n",
    "        [c.cap, c.yuk],\n",
    "        [c.mon, c.ceb, c.mag, c.cas, c.coe],\n",
    "        [c.mon, c.ceb, c.mag, c.cas, c.coe, 'Filho 97', c.end]]\n",
    "cap3 = [[c.beg, c.mon, c.ceb, c.mag, c.cas],\n",
    "        [c.mon, c.ceb, c.mag, c.cas],\n",
    "        [c.mon, c.ceb, c.mag, c.cas, c.enot],\n",
    "        [c.mon, c.enot],\n",
    "        [c.mon, c.ceb, c.mag, c.cas, c.yuk],\n",
    "        [c.mon, c.ceb, c.mag, c.cas, c.yuk, 'Lobisomem 1', 'Lobisomem 2'],\n",
    "        [c.mon, c.ceb, c.cap, c.yuk],\n",
    "        [c.mon, c.ceb, c.mag, c.cas, c.cap, c.yuk],\n",
    "        [c.mon, c.ceb, c.cap, c.yuk],\n",
    "        [c.mon, c.ceb, c.mag, c.cas, c.cap],\n",
    "        [c.cap],\n",
    "        [c.mar, c.den, c.marcas],\n",
    "        [c.anj, c.mar, c.den, c.marcas],\n",
    "        [c.anj, c.mar, c.den, c.marcas],\n",
    "        [c.anj, c.mar, c.den, c.marcas],\n",
    "        [c.anj, c.mar, c.den, 'Dragão de Poeira'], #Dividir\n",
    "        [c.anj, c.mar, c.den, c.marcas],\n",
    "        [c.anj, c.mar, c.den, c.marcas],\n",
    "        [c.anj, c.mar, c.den, c.marcas, c.cap, 'Monstro de Poeira 1', 'Monstro de Poeira 2'],\n",
    "        [c.cap],\n",
    "        [c.anj, c.mar],\n",
    "        [c.anj, c.mar, c.den, c.marcas, 'Monstro de Poeira 1', 'Monstro de Poeira 2'], #Ligação\n",
    "        [c.mon, c.ceb, c.mag, c.cas, 'Lobisomem 1', 'Lobisomem 2', 'Lobisomem 3'],\n",
    "        [c.mon, c.ceb, c.mag, c.cas, 'Lobisomem 1', 'Lobisomem 2', 'Lobisomem 3'],\n",
    "        [c.mon, c.ceb, c.cas, 'Lobisomem 3'],\n",
    "        [c.mon, c.ceb, c.mag, c.pen, 'Lobisomem 2'],\n",
    "        [c.mon, c.ceb, c.mag, c.cas, c.pen, c.mum, c.zvam, 'Lobisomem 1'],\n",
    "        [c.franj, c.cap],\n",
    "        [c.franj, c.fal, c.cap],\n",
    "        [c.franj, c.nim, c.doc, c.mar, c.den, c.cap],\n",
    "        [c.xav, c.dud, c.tit, c.quin, c.nim, c.anj, c.carfru, c.jer, c.dor, c.luc, c.franj, c.mar, c.doc, c.den, c.marcas, c.bid, c.cap],\n",
    "        [c.xav, c.dud, c.tit, c.quin, c.nim, c.anj, c.carfru, c.jer, c.dor, c.luc, c.franj, c.mar, c.doc, c.den, c.marcas, c.bid, c.cap],\n",
    "        [c.franj, c.mar, c.cap, 'Monstro de Poeira 1', 'Monstro de Poeira 2', 'Monstro de Poeira 3', 'Monstro de Poeira 4'],\n",
    "        [c.mag, c.cas, c.mum, c.zvam],\n",
    "        [c.mag, c.cas],\n",
    "        [c.mag, c.cas, c.mum, c.zvam, 'Monstro 1'],\n",
    "        [c.mag, c.cas, c.mum, c.zvam, 'Monstro 1'],\n",
    "        [c.mon, c.ceb, c.mag, c.cas, c.pen, c.mor],\n",
    "        [c.mon, c.mag, c.cas, c.mor],\n",
    "        [c.mon, c.ceb, c.mag, c.cas, c.pen, c.zvam, c.mor],\n",
    "        [c.mon, c.ceb, c.mag, c.cas, c.zvam],\n",
    "        [c.mon, c.ceb, c.mag, c.cas, c.pen, c.mum, c.zvam, c.mor],\n",
    "        [c.franj, c.mar, 'Monstro de Poeira 1'],\n",
    "        [c.franj, c.mar, c.bid, 'Monstro 2'],\n",
    "        [c.franj, c.anj, c.mar, c.bid, c.lou, 'Monstro de Poeira 2', 'Monstro 3'],\n",
    "        [c.den, c.carfru, c.cap, c.end]]\n",
    "cap4 = [[c.beg, c.mon, c.ceb, c.mag, c.cas, c.dor, c.cap],\n",
    "        [c.mon, c.ceb, c.mag, c.cas, c.dor, c.cap],\n",
    "        [c.mon, c.ceb, c.mag, c.cas, c.den, c.cap],\n",
    "        [c.mon, c.cas, c.franj, c.tit, c.mar],\n",
    "        [c.mon, c.ceb, c.cas, c.den, c.ebor, c.cap, c.pit],\n",
    "        [c.mon, c.ceb, c.den, c.ebor],\n",
    "        [c.mon, c.ceb, c.cas, c.anj],\n",
    "        [c.mon, c.ceb, c.mag, c.cas, c.anj],\n",
    "        [c.mon, c.ceb, c.mag, c.cas, c.anj],\n",
    "        [c.mon, c.cap],\n",
    "        [c.mon, c.ebor, c.cap],\n",
    "        [c.mon, c.ceb, c.mag, c.cas, c.ebor, c.cap],\n",
    "        [c.mag, c.cas, c.franj, c.quin, c.mar, c.marcas, c.cap, c.pit],\n",
    "        [c.mag, c.quin, c.dud, c.cap, 'Policial 1', 'Policial 2'],\n",
    "        [c.mon, c.ceb, c.cas, c.ebor, c.cap, 'Policial 1', 'Policial 2'],\n",
    "        [c.mon, c.ceb, c.ebor, c.ezep, c.eeur, c.enot],\n",
    "        [c.mon, c.ceb, c.mag, c.cas, c.ebor],\n",
    "        [c.mon, c.mmon, c.pceb, c.mmag, c.pcas, c.ebor],\n",
    "        [c.mon, c.ceb, c.mag, c.cas, c.ebor, c.ezep, c.eeur, c.enot],\n",
    "        [c.mon, c.ceb, c.mag, c.xav, c.pceb, c.pcas, 'Formiga 3'],\n",
    "        [c.mon, c.mag, c.juc],\n",
    "        [c.mon, c.ceb, c.mag, c.cas, c.juc],\n",
    "        [c.mon, c.ceb, c.juc, c.pit],\n",
    "        [c.mon, c.ceb, c.mag, c.cas, c.franj, c.mar, c.bid],\n",
    "        [c.mon, c.ceb],\n",
    "        [c.mon, c.ceb],\n",
    "        [c.mon, c.ceb, c.mag, c.cas],\n",
    "        [c.mon, c.ceb, c.mag, c.cas],\n",
    "        [c.mon, c.ceb, c.mag, c.cas, c.end],\n",
    "        #[],\n",
    "        #[],\n",
    "        #[],\n",
    "        #[],\n",
    "        #[],\n",
    "        [c.den, c.ast]] #4 Capa "
   ]
  },
  {
   "cell_type": "code",
   "execution_count": 4,
   "metadata": {},
   "outputs": [],
   "source": [
    "pages = cap1 + cap2 + cap3 + cap4"
   ]
  },
  {
   "cell_type": "code",
   "execution_count": 5,
   "metadata": {},
   "outputs": [],
   "source": [
    "hq = TM()\n",
    "hq.inserts(pages)\n",
    "\n",
    "hq.pack(f'..\\Data\\\\{c.comic_book}.csv')"
   ]
  },
  {
   "cell_type": "code",
   "execution_count": 6,
   "metadata": {},
   "outputs": [
    {
     "data": {
      "text/plain": [
       "123"
      ]
     },
     "execution_count": 6,
     "metadata": {},
     "output_type": "execute_result"
    }
   ],
   "source": [
    "hq.n_characters"
   ]
  },
  {
   "cell_type": "code",
   "execution_count": null,
   "metadata": {},
   "outputs": [],
   "source": []
  }
 ],
 "metadata": {
  "kernelspec": {
   "display_name": "Python 3",
   "language": "python",
   "name": "python3"
  },
  "language_info": {
   "codemirror_mode": {
    "name": "ipython",
    "version": 3
   },
   "file_extension": ".py",
   "mimetype": "text/x-python",
   "name": "python",
   "nbconvert_exporter": "python",
   "pygments_lexer": "ipython3",
   "version": "3.8.5"
  }
 },
 "nbformat": 4,
 "nbformat_minor": 4
}
