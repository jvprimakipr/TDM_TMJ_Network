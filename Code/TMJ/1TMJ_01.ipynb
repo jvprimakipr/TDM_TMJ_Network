{
 "cells": [
  {
   "cell_type": "code",
   "execution_count": 1,
   "metadata": {},
   "outputs": [],
   "source": [
    "import os\n",
    "import sys\n",
    "\n",
    "p = os.path.abspath('..\\Functions')\n",
    "if p not in sys.path:\n",
    "    sys.path.append(p)\n",
    "from class_TM import TM\n",
    "from class_characters import characters"
   ]
  },
  {
   "cell_type": "markdown",
   "metadata": {},
   "source": [
    "# Eles Cresceram (4 Dimensões Mágicas)"
   ]
  },
  {
   "cell_type": "markdown",
   "metadata": {},
   "source": [
    "## 1. Começa um novo dia - Pág 7\n",
    "## 2. O artefato místico - Pág 48\n",
    "## 3 Poderosa Yuka - Pág 88"
   ]
  },
  {
   "cell_type": "code",
   "execution_count": 2,
   "metadata": {},
   "outputs": [],
   "source": [
    "c = characters()\n",
    "#c.reset()\n",
    "c.comic_book = '#1tmj01'"
   ]
  },
  {
   "cell_type": "code",
   "execution_count": 3,
   "metadata": {},
   "outputs": [],
   "source": [
    "cap1 = [[c.beg, c.mon, c.ceb, c.mag, c.cas, c.yuk, c.kra, c.end], #capa\n",
    "        [],\n",
    "        [],\n",
    "        [],\n",
    "        [],\n",
    "        [],\n",
    "        [c.beg, c.mon, c.mmon, c.san], #Página 7\n",
    "        [c.mon, c.san],\n",
    "        [c.mon, c.san],\n",
    "        [c.mon],\n",
    "        [c.mon, c.pmon, c.san],\n",
    "        [c.mon, c.pmon, c.san],\n",
    "        [c.mon, c.pmon],\n",
    "        [c.mon, c.pmon],\n",
    "        [c.cas, c.mcas, c.pcas],\n",
    "        [c.cas, c.pcas],\n",
    "        [c.cas, c.pcas],\n",
    "        [2, [c.cas, c.pcas], [c.ceb]],\n",
    "        [c.ceb, c.pceb, c.marceb],\n",
    "        [c.ceb, c.mceb, c.marceb],\n",
    "        [c.ceb, c.mceb, c.marceb],\n",
    "        [c.ceb, c.marceb, c.mon],\n",
    "        [c.mag, c.pmag, c.min, c.ave],\n",
    "        [c.mag, c.mmag, c.pmag],\n",
    "        [c.mon, c.mmon],\n",
    "        [c.mmon, c.yuk],\n",
    "        [c.mon, c.mmon],\n",
    "        [c.mon, c.mmon],\n",
    "        [c.mon, c.mmon, c.mag],\n",
    "        [c.mon, c.pmon, c.mag],\n",
    "        [c.mmon, c.pcas],\n",
    "        [c.cas],\n",
    "        [c.ceb, c.marceb, c.cas],\n",
    "        [c.ceb, c.cas],\n",
    "        [c.ceb, c.marceb, c.cas],\n",
    "        [c.ceb, c.cas, c.mar],\n",
    "        [c.ceb, c.cas],\n",
    "        [c.ceb, c.cas],\n",
    "        [2, [c.ceb, c.cas], [c.mon, c.mag, c.pmon]],\n",
    "        [c.mon, c.pmon, c.mag],\n",
    "        [c.mon, c.mag],\n",
    "        [c.mon, c.mag],\n",
    "        [c.mon, c.mag],\n",
    "        [c.mon, c.ceb],\n",
    "        [c.mon, c.ceb, c.mag, c.cas],\n",
    "        [c.mon, c.ceb, c.mag, c.end]\n",
    "       ]#[],\n",
    "cap2 = [[c.beg, c.franj, c.fal, c.ID('Robô Bem-Vindos'), c.ID('Entregador')],\n",
    "        [c.franj, c.fal, c.ID('Robô Bem-Vindos'), c.ID('Entregador')],\n",
    "        [c.franj, c.fal],\n",
    "        [c.franj, c.ID('Entregador')],\n",
    "        [c.franj, c.ID('Entregador')],\n",
    "        [c.franj, c.ID('Entregador')],\n",
    "        [c.franj],\n",
    "        [c.franj, c.anj],\n",
    "        [c.mon, c.cas],\n",
    "        [c.mon, c.ceb, c.lou],\n",
    "        [c.mon, c.ceb, c.cas, c.lou],\n",
    "        [c.franj, c.anj],\n",
    "        [c.franj, c.anj, c.fal],\n",
    "        [c.franj, c.fal],\n",
    "        [c.franj, c.anj, c.fal],\n",
    "        [c.cap, c.fal],\n",
    "        [c.franj, c.anj, c.fal, c.cap, 'Dragão de Poeira'],\n",
    "        [c.franj, c.anj, c.fal, c.cap, 'Dragão de Poeira'],\n",
    "        [c.franj, c.anj, c.fal, c.cap],\n",
    "        [c.cap, c.fal, 'Monstro de Poeira 1'],\n",
    "        [c.cap, 'Monstro de Poeira 1', 'Monstro de Poeira 2'],\n",
    "        [c.franj, c.anj],\n",
    "        [c.cap, 'Dragão de Poeira'],\n",
    "        [c.anj, 'Dragão de Poeira'],\n",
    "        [c.franj, c.fal, 'Monstro de Poeira 1'],\n",
    "        [c.franj, c.cap, c.fal, 'Monstro de Poeira 1'],\n",
    "        [c.cap, c.fal],\n",
    "        [c.cap],\n",
    "        [c.franj, c.cap, c.fal, 'Monstro de Poeira 1', 'Monstro de Poeira 2'],\n",
    "        [c.franj, c.cap, c.fal, 'Monstro de Poeira 1', 'Monstro de Poeira 2'],\n",
    "        [c.mon, c.cas, c.lou],\n",
    "        [c.mon, c.franj],\n",
    "        [c.mon, c.ceb, c.franj],\n",
    "        [c.mon, c.ceb, c.mag, c.cas],\n",
    "        [c.mon, c.ceb, c.mag, c.cas],\n",
    "        [c.mon, c.ceb, c.mag, c.cas, c.cap],\n",
    "        [c.mon, c.ceb, c.mag, c.franj, c.cap, 'Monstro de Poeira 1'],\n",
    "        [c.cas, c.cap],\n",
    "        [c.mon, c.ceb, c.cap],\n",
    "        [c.mon, c.ceb, c.mag, c.cas, c.yuk, c.end]]\n",
    "cap3 = [[c.beg, c.mon, c.ceb, c.mag, c.cas, c.yuk],\n",
    "        [c.mon, c.ceb, c.mag, c.cas, c.yuk],\n",
    "        [c.mon, c.ceb, c.mag, c.cas],\n",
    "        [c.mon, c.cap],\n",
    "        [c.mon, c.ceb, c.mag, c.cas, c.cap, c.yuk],\n",
    "        [c.mon, c.ceb, c.mag, c.cas, c.cap, c.yuk],\n",
    "        [c.cap, c.yuk],\n",
    "        [c.mon, c.ceb, c.mag, c.cas, c.mmon, c.pceb, c.mmag, c.pcas],\n",
    "        [c.mon, c.ceb, c.mag, c.cas, c.yuk],\n",
    "        [c.cap, c.pceb],\n",
    "        [c.mmon, c.pceb, c.mmag, c.pcas, c.fig(), c.ID('Cavalo 1'), c.ID('Cavalo 2'), c.ID('Cavalo 3'), c.ID('Cavalo 4')],\n",
    "        [c.mmon, c.pceb, c.mmag, c.pcas, 'Imperador Japonês Sec XVI', c.ID('Guarda 1'), c.ID('Guarda 2')],\n",
    "        [c.mmon, c.pceb, c.mmag, c.pcas, c.yuk, 'Imperador Japonês Sec XVI', c.ID('Guarda 2')],\n",
    "        [c.mmon, c.pceb, c.mmag, c.pcas, 'Imperador Japonês Sec XVI'],\n",
    "        [c.ceb, 'Imperador Japonês Sec XVI'],\n",
    "        [c.mmon, c.pceb, c.mmag, c.pcas, 'Imperador Japonês Sec XVI'],\n",
    "        [c.mmon, c.pceb, c.mmag, c.pcas, c.ebor, c.ezep, c.eeur, c.enot, 'Imperador Japonês Sec XVI'],\n",
    "        [c.mmon, c.pceb, c.mmag, c.pcas, c.ebor, c.ezep, c.eeur, c.enot],\n",
    "        [c.mmon, c.pceb, c.pcas, c.ID('Cavalo 1'), c.ID('Cavalo 2'), c.ID('Cavalo 4')],\n",
    "        [c.mmag, c.yuk, c.ID('Cavalo 3')],\n",
    "        [c.mon, c.ceb, c.cas, c.mmon],\n",
    "        [c.cap, c.yuk],\n",
    "        [c.mon, c.ceb, c.cap, c.ebor, c.ezep, c.eeur, c.enot],\n",
    "        [c.ceb, c.cap, c.franj, c.ebor, c.ezep, c.eeur, c.enot, 'Monstro de Poeira 1'],\n",
    "        [c.mon, c.ceb, c.mag, c.cas, c.cap],\n",
    "        [c.mon, c.cap, c.yuk],\n",
    "        [c.yuk, c.ebor, c.ezep, c.eeur, c.enot],\n",
    "        [c.mon, c.ceb, c.mag, c.cas, c.mmon, c.pceb, c.yuk],\n",
    "        [c.mon, c.ceb, c.mag, c.cas],\n",
    "        [c.yuk, c.ebor, c.ezep, c.eeur, c.enot],\n",
    "        [c.mon, c.mmon, c.pceb, c.mmag, c.pcas, c.yuk],\n",
    "        [c.mon, c.mmon],\n",
    "        [c.ceb, c.mag, c.cas, c.cap],\n",
    "        [c.franj, c.fal, c.yuk, 'Monstro de Poeira 1', 'Monstro de Poeira 2'],\n",
    "        [c.mon, c.ceb, c.mag, c.cas, c.ebor, c.ezep, c.eeur, c.enot],\n",
    "        [c.ark, c.kra, c.ID('Ninja'), c.ID('Lobisomem')],\n",
    "        [c.mon, c.ceb, c.mag, c.cas, c.cap],\n",
    "        [c.mon, c.yuk],\n",
    "        [c.mon, c.ceb, c.mag, c.cas],\n",
    "        [c.mon, c.ceb, c.mag, c.cas, c.yuk, c.end],\n",
    "        [],\n",
    "        [],\n",
    "        [],\n",
    "        [],\n",
    "        [c.mon, c.ceb]] #4º Capa"
   ]
  },
  {
   "cell_type": "code",
   "execution_count": 4,
   "metadata": {},
   "outputs": [],
   "source": [
    "pages = cap1 + cap2 + cap3"
   ]
  },
  {
   "cell_type": "code",
   "execution_count": 5,
   "metadata": {},
   "outputs": [],
   "source": [
    "hq = TM()\n",
    "hq.inserts(pages)\n",
    "\n",
    "hq.pack(f'../Data/{c.comic_book}.csv')"
   ]
  },
  {
   "cell_type": "code",
   "execution_count": 6,
   "metadata": {},
   "outputs": [
    {
     "data": {
      "text/plain": [
       "44"
      ]
     },
     "execution_count": 6,
     "metadata": {},
     "output_type": "execute_result"
    }
   ],
   "source": [
    "hq.n_characters"
   ]
  },
  {
   "cell_type": "code",
   "execution_count": null,
   "metadata": {},
   "outputs": [],
   "source": []
  }
 ],
 "metadata": {
  "kernelspec": {
   "display_name": "Python 3 (ipykernel)",
   "language": "python",
   "name": "python3"
  },
  "language_info": {
   "codemirror_mode": {
    "name": "ipython",
    "version": 3
   },
   "file_extension": ".py",
   "mimetype": "text/x-python",
   "name": "python",
   "nbconvert_exporter": "python",
   "pygments_lexer": "ipython3",
   "version": "3.8.10"
  }
 },
 "nbformat": 4,
 "nbformat_minor": 4
}
