{
 "cells": [
  {
   "cell_type": "code",
   "execution_count": 1,
   "metadata": {},
   "outputs": [],
   "source": [
    "%run TMJ/TMJ_01.py\n",
    "%run TMJ/TMJ_02.py\n",
    "%run TMJ/TMJ_03.py\n",
    "%run TMJ/TMJ_04.py\n",
    "%run TMJ/TMJ_05.py\n",
    "%run TMJ/TMJ_06.py\n",
    "%run TMJ/TMJ_07.py\n",
    "%run TMJ/TMJ_08.py\n",
    "%run TMJ/TMJ_09.py\n",
    "%run TMJ/TMJ_10.py"
   ]
  },
  {
   "cell_type": "code",
   "execution_count": 2,
   "metadata": {},
   "outputs": [],
   "source": [
    "comic_books = [pages1,\n",
    "               pages2,\n",
    "               pages3,\n",
    "               pages4,\n",
    "               pages5,\n",
    "               pages6,\n",
    "               pages7,\n",
    "               pages8,\n",
    "               pages9,\n",
    "               pages10]"
   ]
  },
  {
   "cell_type": "code",
   "execution_count": 3,
   "metadata": {},
   "outputs": [],
   "source": [
    "for i in range(len(comic_books)):\n",
    "    if comic_books[i] != []:\n",
    "        try:\n",
    "            cb = TM()\n",
    "            cb.inserts(comic_books[i])\n",
    "            if (i + 1) < 10:\n",
    "                cb.pack(f'Data/#1tmj_0{i + 1}.csv')\n",
    "            else:\n",
    "                cb.pack(f'Data/#1tmj_{i + 1}.csv')\n",
    "        except:\n",
    "            pass"
   ]
  },
  {
   "cell_type": "code",
   "execution_count": null,
   "metadata": {},
   "outputs": [],
   "source": []
  }
 ],
 "metadata": {
  "kernelspec": {
   "display_name": "Python 3",
   "language": "python",
   "name": "python3"
  },
  "language_info": {
   "codemirror_mode": {
    "name": "ipython",
    "version": 3
   },
   "file_extension": ".py",
   "mimetype": "text/x-python",
   "name": "python",
   "nbconvert_exporter": "python",
   "pygments_lexer": "ipython3",
   "version": "3.8.5"
  }
 },
 "nbformat": 4,
 "nbformat_minor": 5
}
