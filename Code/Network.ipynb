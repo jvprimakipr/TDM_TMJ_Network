{
 "cells": [
  {
   "cell_type": "code",
   "execution_count": 1,
   "id": "foster-architecture",
   "metadata": {},
   "outputs": [],
   "source": [
    "import sys\n",
    "\n",
    "# importando classes\n",
    "sys.path.insert(0, 'Functions')\n",
    "from class_TM import TM\n",
    "\n",
    "# voltando para o diretório principal\n",
    "sys.path.insert(0, '\\..')"
   ]
  },
  {
   "cell_type": "code",
   "execution_count": 2,
   "id": "wrapped-maker",
   "metadata": {},
   "outputs": [],
   "source": [
    "import glob\n",
    "\n",
    "characters = []\n",
    "for file in glob.glob('Data\\*.csv'):\n",
    "    cb = TM()\n",
    "    cb.unpack(file)\n",
    "    for character in cb.characters:\n",
    "        if character not in characters:\n",
    "            characters.append(character)\n"
   ]
  },
  {
   "cell_type": "code",
   "execution_count": 3,
   "id": "sixth-foster",
   "metadata": {},
   "outputs": [],
   "source": [
    "edges, weights = [], []\n",
    "for file in glob.glob('Data\\*.csv'):\n",
    "    cb = TM()\n",
    "    cb.unpack(file)\n",
    "    for row in cb.data.iterrows():\n",
    "        for i in range(len(row[1])):\n",
    "            if row[1][i] == '':\n",
    "                break\n",
    "            for j in range(i + 1, len(row[1])):\n",
    "                if row[1][j] == '':\n",
    "                    break\n",
    "                if [row[1][i], row[1][j]] in edges:\n",
    "                    index = edges.index([row[1][i], row[1][j]])\n",
    "                    weights[index] += 1\n",
    "                elif [row[1][j], row[1][i]] in edges:\n",
    "                    index = edges.index([row[1][j], row[1][i]])\n",
    "                    weights[index] += 1\n",
    "                else:\n",
    "                    edges.append([row[1][i], row[1][j]])\n",
    "                    weights.append(1)\n",
    "                    \n",
    "for i in range(len(edges)):\n",
    "    edges[i].append({'weight' : weights[i]})\n",
    "    edges[i] = tuple(edges[i])"
   ]
  },
  {
   "cell_type": "code",
   "execution_count": 4,
   "id": "wrong-dance",
   "metadata": {},
   "outputs": [
    {
     "data": {
      "image/png": "[encoded data removed]",
      "text/plain": [
       "<Figure size 432x288 with 1 Axes>"
      ]
     },
     "metadata": {},
     "output_type": "display_data"
    }
   ],
   "source": [
    "import networkx as nx\n",
    "G = nx.Graph()\n",
    "G.add_edges_from(edges)\n",
    "nx.draw(G, node_size = 10)"
   ]
  },
  {
   "cell_type": "code",
   "execution_count": null,
   "id": "based-regression",
   "metadata": {},
   "outputs": [],
   "source": []
  }
 ],
 "metadata": {
  "kernelspec": {
   "display_name": "Python 3",
   "language": "python",
   "name": "python3"
  },
  "language_info": {
   "codemirror_mode": {
    "name": "ipython",
    "version": 3
   },
   "file_extension": ".py",
   "mimetype": "text/x-python",
   "name": "python",
   "nbconvert_exporter": "python",
   "pygments_lexer": "ipython3",
   "version": "3.8.5"
  }
 },
 "nbformat": 4,
 "nbformat_minor": 5
}
