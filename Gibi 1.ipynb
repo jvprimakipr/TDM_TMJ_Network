{
 "cells": [
  {
   "cell_type": "code",
   "execution_count": 1,
   "id": "macro-waste",
   "metadata": {},
   "outputs": [],
   "source": [
    "from class_TM import TM"
   ]
  },
  {
   "cell_type": "code",
   "execution_count": 2,
   "id": "together-sleeve",
   "metadata": {},
   "outputs": [],
   "source": [
    "cb1 = TM('\\.')\n",
    "pages = [['Cebolinha'],\n",
    "         ['Mônica', 'Magali'],\n",
    "         ['Xaveco', 'Cascão', 'Titi', 'Humberto'],\n",
    "         ['Cascuda', 'Cascão'],\n",
    "         [],\n",
    "         ['Cascuda', 'Cascão']]\n",
    "for page in pages:\n",
    "    cb1.insert(page)"
   ]
  },
  {
   "cell_type": "code",
   "execution_count": 3,
   "id": "hungry-injection",
   "metadata": {},
   "outputs": [
    {
     "data": {
      "text/html": [
       "<div>\n",
       "<style scoped>\n",
       "    .dataframe tbody tr th:only-of-type {\n",
       "        vertical-align: middle;\n",
       "    }\n",
       "\n",
       "    .dataframe tbody tr th {\n",
       "        vertical-align: top;\n",
       "    }\n",
       "\n",
       "    .dataframe thead th {\n",
       "        text-align: right;\n",
       "    }\n",
       "</style>\n",
       "<table border=\"1\" class=\"dataframe\">\n",
       "  <thead>\n",
       "    <tr style=\"text-align: right;\">\n",
       "      <th></th>\n",
       "      <th>Character 1</th>\n",
       "      <th>Character 2</th>\n",
       "      <th>Character 3</th>\n",
       "      <th>Character 4</th>\n",
       "    </tr>\n",
       "    <tr>\n",
       "      <th>Page</th>\n",
       "      <th></th>\n",
       "      <th></th>\n",
       "      <th></th>\n",
       "      <th></th>\n",
       "    </tr>\n",
       "  </thead>\n",
       "  <tbody>\n",
       "    <tr>\n",
       "      <th>Page 1</th>\n",
       "      <td>Cebolinha</td>\n",
       "      <td></td>\n",
       "      <td></td>\n",
       "      <td></td>\n",
       "    </tr>\n",
       "    <tr>\n",
       "      <th>Page 2</th>\n",
       "      <td>Mônica</td>\n",
       "      <td>Magali</td>\n",
       "      <td></td>\n",
       "      <td></td>\n",
       "    </tr>\n",
       "    <tr>\n",
       "      <th>Page 3</th>\n",
       "      <td>Xaveco</td>\n",
       "      <td>Cascão</td>\n",
       "      <td>Titi</td>\n",
       "      <td>Humberto</td>\n",
       "    </tr>\n",
       "    <tr>\n",
       "      <th>Page 4</th>\n",
       "      <td>Cascuda</td>\n",
       "      <td>Cascão</td>\n",
       "      <td></td>\n",
       "      <td></td>\n",
       "    </tr>\n",
       "    <tr>\n",
       "      <th>Page 5</th>\n",
       "      <td></td>\n",
       "      <td></td>\n",
       "      <td></td>\n",
       "      <td></td>\n",
       "    </tr>\n",
       "    <tr>\n",
       "      <th>Page 6</th>\n",
       "      <td>Cascuda</td>\n",
       "      <td>Cascão</td>\n",
       "      <td></td>\n",
       "      <td></td>\n",
       "    </tr>\n",
       "  </tbody>\n",
       "</table>\n",
       "</div>"
      ],
      "text/plain": [
       "       Character 1 Character 2 Character 3 Character 4\n",
       "Page                                                  \n",
       "Page 1   Cebolinha                                    \n",
       "Page 2      Mônica      Magali                        \n",
       "Page 3      Xaveco      Cascão        Titi    Humberto\n",
       "Page 4     Cascuda      Cascão                        \n",
       "Page 5                                                \n",
       "Page 6     Cascuda      Cascão                        "
      ]
     },
     "execution_count": 3,
     "metadata": {},
     "output_type": "execute_result"
    }
   ],
   "source": [
    "cb1.data"
   ]
  },
  {
   "cell_type": "code",
   "execution_count": null,
   "id": "novel-acceptance",
   "metadata": {},
   "outputs": [],
   "source": []
  }
 ],
 "metadata": {
  "kernelspec": {
   "display_name": "Python 3",
   "language": "python",
   "name": "python3"
  },
  "language_info": {
   "codemirror_mode": {
    "name": "ipython",
    "version": 3
   },
   "file_extension": ".py",
   "mimetype": "text/x-python",
   "name": "python",
   "nbconvert_exporter": "python",
   "pygments_lexer": "ipython3",
   "version": "3.8.5"
  }
 },
 "nbformat": 4,
 "nbformat_minor": 5
}
